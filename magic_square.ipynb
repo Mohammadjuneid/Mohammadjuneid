{
 "cells": [
  {
   "cell_type": "code",
   "execution_count": 2,
   "metadata": {
    "pycharm": {
     "name": "#%%\n"
    }
   },
   "outputs": [
    {
     "name": "stdout",
     "output_type": "stream",
     "text": [
      "[22, 12, 18, 87]\n",
      "[88, 17, 9, 25]\n",
      "[10, 24, 89, 16]\n",
      "[19, 86, 23, 11]\n",
      "139\n",
      "139\n",
      "139\n",
      "139\n",
      "139\n",
      "22-12-1887\n"
     ]
    }
   ],
   "source": [
    "def createRMagicSquare(row1,row2,row3,row4):\n",
    "    '''\n",
    "    A function that creates a Ramanujan magic square  \n",
    "    \n",
    "    Returns\n",
    "    ----------\n",
    "    magic_square : A nested list in the form of matrix to contain the Ramanujan Magic Square\n",
    "    ----------\n",
    "    '''\n",
    "    \n",
    "    ## START CODE HERE\n",
    "    magic_square = [row1,row2,row3,row4]\n",
    "    ## END CODE HERE\n",
    "    \n",
    "    return magic_square\n",
    "\n",
    "createRMagicSquare([22,12,18,87], [88,17,9,25],[10,24,89,16],[19,86,23,11])\n",
    "\n",
    "\n",
    "\n",
    "def displayRMagicSquare(magic_square):\n",
    "    \n",
    "    '''\n",
    "    A function that displays a Ramanujan magic square  \n",
    "    \n",
    "    Parameters\n",
    "    ----------\n",
    "    magic_square : A nested list in the form of matrix to contain the Ramanujan Magic Square\n",
    "    ----------\n",
    "    '''\n",
    "        \n",
    "    ## START CODE HERE\n",
    "    for l in magic_square:\n",
    "        print(l)\n",
    "        \n",
    "    ## END CODE HERE\n",
    "displayRMagicSquare([[22, 12, 18, 87], [88, 17, 9, 25], [10, 24, 89, 16], [19, 86, 23, 11]])\n",
    "\n",
    "\n",
    "\n",
    "\n",
    "def calculateSumofNumbersofaRow(magic_square, rownumber):\n",
    "    \n",
    "    '''\n",
    "    A function that computes sum of elements of a list along a row\n",
    "    Parameters\n",
    "    ----------\n",
    "    magic_square : Matrix - Ramanujan Magic Square\n",
    "    rownumber : Row number along which the sum is to be computed\n",
    "    ----------\n",
    "    \n",
    "    Returns\n",
    "    ----------\n",
    "    Sum of the elements of the list along the row number\n",
    "    ----------\n",
    "    '''\n",
    "    ## START CODE HERE     \n",
    "    #res = map(sum, magic_square,rownumber)\n",
    "    #return res\n",
    "    \n",
    "    return get_sum(magic_square[rownumber])\n",
    "    \n",
    "    ## END CODE HERE\n",
    "calculateSumofNumbersofaRow([[22, 12, 18 ,87], [88, 17, 9 ,25] , [10, 24 ,89 ,16] , [19, 86 ,23 ,11]] , 3)\n",
    "\n",
    "\n",
    "\n",
    "def get_sum(list_of_elements):\n",
    "    \n",
    "    '''\n",
    "    A function that computes sum of elements of a list \n",
    "    Parameters\n",
    "    ----------\n",
    "    list_of_elements : List of elements whose sum is to be computed\n",
    "    ----------\n",
    "    \n",
    "    Returns\n",
    "    ----------\n",
    "    Sum of the elements of the list \n",
    "    ----------\n",
    "    '''\n",
    "    ## START CODE HERE\n",
    "    total = 0\n",
    "    for val in list_of_elements:\n",
    "        total = total + val\n",
    "    return total\n",
    "    ## END CODE HERE\n",
    "\t\n",
    "\t\n",
    "def get_column_elements(magic_square,columnnumber):\n",
    "    \n",
    "    '''\n",
    "    A function that returns elements of a list along a column\n",
    "    Parameters\n",
    "    ----------\n",
    "    magic_square : Matrix - Ramanujan Magic Square\n",
    "    columnnumber : Column number along which the elements are to be fetched\n",
    "    ----------\n",
    "    \n",
    "    Returns\n",
    "    ----------\n",
    "    List elements of the list along the column number\n",
    "    ----------\n",
    "    '''\n",
    "    result = []\n",
    "    ## START CODE HERE\n",
    "    for c in magic_square:\n",
    "        result.append(c[columnnumber])\n",
    "    return result\n",
    "    \n",
    "    ## END CODE HERE\n",
    "get_column_elements([[22, 12, 18 ,87], [88, 17, 9 ,25] , [10, 24 ,89 ,16] , [19, 86 ,23 ,11]], 1)\n",
    "\n",
    "\n",
    "\n",
    "def calculateSumofNumbersofaColumn(magic_square, columnnumber):\n",
    "    \n",
    "    '''\n",
    "    A function that computes sum of elements of a list along a column\n",
    "    Parameters\n",
    "    ----------\n",
    "    magic_square : Matrix - Ramanujan Magic Square\n",
    "    columnnumber : Column number along which the sum is to be computed\n",
    "    ----------\n",
    "    \n",
    "    Returns\n",
    "    ----------\n",
    "    Sum of the elements of the list along the column number\n",
    "    ----------\n",
    "    '''\n",
    "    \n",
    "    ## START CODE HERE\n",
    "    colEle = get_column_elements(magic_square, columnnumber)\n",
    "    print(get_sum(colEle))\n",
    "    ## END CODE HERE\n",
    "calculateSumofNumbersofaColumn([[22, 12, 18 ,87], [88, 17, 9 ,25] , [10, 24 ,89 ,16] , [19, 86 ,23 ,11]], 1)\n",
    "\n",
    "\n",
    "\n",
    "\n",
    "def validateRMagicSquare(magic_square, expected_sum = 139):\n",
    "    '''\n",
    "    A function that validates a Ramanujan magic square  \n",
    "    Parameters\n",
    "    ----------\n",
    "    magic_square : Matrix - Ramanujan Magic Square\n",
    "    ----------\n",
    "    Returns\n",
    "    ----------\n",
    "    True : If it is a magic square\n",
    "    False : If it is not a magic square\n",
    "    ----------\n",
    "    '''\n",
    "    ## START CODE HERE\n",
    "    validMS = True\n",
    "    for index in range(0,4):\n",
    "        \n",
    "        rowSum = calculateSumofNumbersofaRow(magic_square, index)\n",
    "        if(rowSum != expected_sum):\n",
    "            validMS = validMS and False\n",
    "    \n",
    "    for index in range(0,4):\n",
    "        colSum = calculateSumofNumbersofaColumn(magic_square, index)\n",
    "        if(colSum != expected_sum):\n",
    "            validMS = validMS and False\n",
    "        \n",
    "    return validMS\n",
    "    \n",
    "    ## END CODE HERE\n",
    "validateRMagicSquare([[22, 12, 18 ,87], [88, 17, 9 ,25] , [10, 24 ,89 ,16] , [19, 86 ,23 ,11]])\n",
    "\n",
    "\n",
    "\n",
    "def calculateSumofNumbersofCornerNumbers(magic_square):\n",
    "    '''\n",
    "    A function that computes sum of elements of a list along the diagonal\n",
    "    Parameters\n",
    "    ----------\n",
    "    magic_square : Matrix - Ramanujan Magic Square\n",
    "    ----------\n",
    "    \n",
    "    Returns\n",
    "    ----------\n",
    "    Sum of the elements of the list along the diagonal\n",
    "    ----------\n",
    "    '''\n",
    "    ## START CODE HERE\n",
    "    msLen = len(magic_square)\n",
    "    sumEle = magic_square[0][0] + magic_square[msLen - 1][0] + + magic_square[0][msLen - 1] + + magic_square[msLen - 1][msLen - 1]\n",
    "    return sumEle\n",
    "    ## END CODE HERE\n",
    "calculateSumofNumbersofCornerNumbers([[22, 12, 18 ,87], [88, 17, 9 ,25] , [10, 24 ,89 ,16] , [19, 86 ,23 ,11]])\n",
    "\n",
    "\n",
    "\n",
    "def calculateSumofNumbersofCentralSquares(magic_square):\n",
    "    \n",
    "    '''\n",
    "    A function that computes sum of elements of a list along the central squares\n",
    "    Parameters\n",
    "    ----------\n",
    "    magic_square : Matrix - Ramanujan Magic Square\n",
    "    ----------\n",
    "    \n",
    "    Returns\n",
    "    ----------\n",
    "    Sum of the elements of the list along the central squares\n",
    "    ----------\n",
    "    '''\n",
    "    ## START CODE HERE\n",
    "    startIndex = 0\n",
    "    stopIndex = len(magic_square) - 1\n",
    "    sumMid = magic_square[startIndex + 1][stopIndex - 2] + magic_square[startIndex + 1][stopIndex - 1] + magic_square[startIndex + 2][stopIndex - 2] +             magic_square[startIndex + 2][stopIndex - 1]\n",
    "    return sumMid\n",
    "            \n",
    "calculateSumofNumbersofCentralSquares([[22, 12, 18 ,87], [88, 17, 9 ,25] , [10, 24 ,89 ,16] , [19, 86 ,23 ,11]])\n",
    "\n",
    "\n",
    "\n",
    "def birthdatofRamanujan(magic_square):\n",
    "    \n",
    "    '''\n",
    "    A function that displays the birth date of SS Ramanujan which is present in the first row of matrix (22-12-1887)\n",
    "    Parameters\n",
    "    ----------\n",
    "    magic_square : Matrix - Ramanujan Magic Square\n",
    "    ----------\n",
    "    '''\n",
    "    ## START CODE HERE\n",
    "    print('{}-{}-{}{}'.format(magic_square[0][0], magic_square[0][1], magic_square[0][2], magic_square[0][3]))\n",
    "    \n",
    "    ## END CODE HERE\n",
    "    \n",
    "birthdatofRamanujan([[22, 12, 18 ,87], [88, 17, 9 ,25] , [10, 24 ,89 ,16] , [19, 86 ,23 ,11]])\n"
   ]
  },
  {
   "cell_type": "code",
   "execution_count": null,
   "metadata": {
    "pycharm": {
     "name": "#%%\n"
    }
   },
   "outputs": [],
   "source": [
    "# calculateSumofNumbersofaDiagonal \n",
    "# calculateSumofNumbersofaColumn"
   ]
  },
  {
   "cell_type": "code",
   "execution_count": 44,
   "metadata": {
    "pycharm": {
     "name": "#%%\n"
    }
   },
   "outputs": [
    {
     "name": "stdout",
     "output_type": "stream",
     "text": [
      "😘 dont worrry we got you here is your special offer shop worth of  5000 inr to get 5% discount\n"
     ]
    }
   ],
   "source": [
    "Amount = int(input())\n",
    "\n",
    "if Amount >= 10000 :\n",
    "    Amount = (Amount - (Amount *10)/100)\n",
    "    print('\\U0001F601 Voila You got 10% discount here is your final price you need to pay',Amount)\n",
    "\n",
    "elif Amount >= 5000 and Amount <= 9999:\n",
    "    Amount = (Amount - (Amount *5)/100)\n",
    "    print('\\U0001F601 yeppie You got 5% Off here is your final price you need to pay',Amount)\n",
    "    print('Shop wroth of 10000 rupees to cliam your 10% discount')\n",
    "\n",
    "else:\n",
    "    if Amount <= 5000 :\n",
    "        print(\"\\U0001F618 dont worrry we got you here is your special offer shop worth of  5000 inr to get 5% discount\")\n"
   ]
  },
  {
   "cell_type": "code",
   "execution_count": 57,
   "metadata": {
    "pycharm": {
     "name": "#%%\n"
    }
   },
   "outputs": [],
   "source": [
    "def offers ():\n",
    "    Amount = int(input(\"Enter the Amount\"))\n",
    "    if Amount >= 10000 :\n",
    "        Amount = (Amount - (Amount *10)/100)\n",
    "        print('\\U0001F601 Voila You got 10% discount here is your final price you need to pay',Amount)\n",
    "\n",
    "    elif Amount >= 5000 and Amount <= 9999:\n",
    "        Amount = (Amount - (Amount *5)/100)\n",
    "        print('\\U0001F601 yeppie You got 5% Off here is your final price you need to pay',Amount)\n",
    "        print('Here is your special discount Shop wroth of 10000 rupees to cliam your 10% discount')\n",
    "\n",
    "    else:\n",
    "        if Amount <= 5000 :\n",
    "            print(\"\\U0001F618 dont worrry we got you here is your special offer shop worth of  5000inr to get 5% discount\")\n"
   ]
  },
  {
   "cell_type": "code",
   "execution_count": 58,
   "metadata": {
    "pycharm": {
     "name": "#%%\n"
    }
   },
   "outputs": [
    {
     "name": "stdout",
     "output_type": "stream",
     "text": [
      "😘 dont worrry we got you here is your special offer shop worth of  5000 inr to get 5% discount\n"
     ]
    }
   ],
   "source": [
    "offers()"
   ]
  },
  {
   "cell_type": "code",
   "execution_count": null,
   "metadata": {
    "pycharm": {
     "name": "#%%\n"
    }
   },
   "outputs": [],
   "source": []
  }
 ],
 "metadata": {
  "interpreter": {
   "hash": "aee8b7b246df8f9039afb4144a1f6fd8d2ca17a180786b69acc140d282b71a49"
  },
  "kernelspec": {
   "display_name": "Python 3.9.5 64-bit",
   "language": "python",
   "name": "python3"
  },
  "language_info": {
   "codemirror_mode": {
    "name": "ipython",
    "version": 3
   },
   "file_extension": ".py",
   "mimetype": "text/x-python",
   "name": "python",
   "nbconvert_exporter": "python",
   "pygments_lexer": "ipython3",
   "version": "3.9.5"
  },
  "orig_nbformat": 4
 },
 "nbformat": 4,
 "nbformat_minor": 2
}
