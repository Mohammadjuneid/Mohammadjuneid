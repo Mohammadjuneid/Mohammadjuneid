{
 "cells": [
  {
   "cell_type": "code",
   "execution_count": 1,
   "metadata": {},
   "outputs": [],
   "source": [
    "import pandas as pd\n",
    "import numpy as np\n",
    "import plotly.express as px\n",
    "import plotly.graph_objects as go"
   ]
  },
  {
   "cell_type": "markdown",
   "metadata": {},
   "source": [
    "## Q(a)\n",
    "    A global garment brand wants to open its store in (Delhi or Bangalore). They shortlisted the two most popular malls, one in each city. They will use the criterion for this selection to count the number of footsteps every week. They got data from electronic sensors of the malls and want to finalize which mall to select based on the significant difference between the two."
   ]
  },
  {
   "cell_type": "code",
   "execution_count": 4,
   "metadata": {},
   "outputs": [],
   "source": [
    "# creating a data frame of foot steps for 10 weeks\n",
    "\n",
    "table_2 = [[2322,1987],[2344,2356],\n",
    "            [3423,3444],[2342,3216],\n",
    "            [4536,2324],[3444,4566],\n",
    "            [4589,3301],[3339,2201],\n",
    "            [4335,3205],[5656,5567]]\n",
    "df = pd.DataFrame(table_2, columns = ['Mall_1','Mall_2'])"
   ]
  },
  {
   "cell_type": "code",
   "execution_count": 5,
   "metadata": {},
   "outputs": [
    {
     "data": {
      "text/html": [
       "<div>\n",
       "<style scoped>\n",
       "    .dataframe tbody tr th:only-of-type {\n",
       "        vertical-align: middle;\n",
       "    }\n",
       "\n",
       "    .dataframe tbody tr th {\n",
       "        vertical-align: top;\n",
       "    }\n",
       "\n",
       "    .dataframe thead th {\n",
       "        text-align: right;\n",
       "    }\n",
       "</style>\n",
       "<table border=\"1\" class=\"dataframe\">\n",
       "  <thead>\n",
       "    <tr style=\"text-align: right;\">\n",
       "      <th></th>\n",
       "      <th>Mall_1</th>\n",
       "      <th>Mall_2</th>\n",
       "    </tr>\n",
       "  </thead>\n",
       "  <tbody>\n",
       "    <tr>\n",
       "      <th>0</th>\n",
       "      <td>2322</td>\n",
       "      <td>1987</td>\n",
       "    </tr>\n",
       "    <tr>\n",
       "      <th>1</th>\n",
       "      <td>2344</td>\n",
       "      <td>2356</td>\n",
       "    </tr>\n",
       "    <tr>\n",
       "      <th>2</th>\n",
       "      <td>3423</td>\n",
       "      <td>3444</td>\n",
       "    </tr>\n",
       "    <tr>\n",
       "      <th>3</th>\n",
       "      <td>2342</td>\n",
       "      <td>3216</td>\n",
       "    </tr>\n",
       "    <tr>\n",
       "      <th>4</th>\n",
       "      <td>4536</td>\n",
       "      <td>2324</td>\n",
       "    </tr>\n",
       "    <tr>\n",
       "      <th>5</th>\n",
       "      <td>3444</td>\n",
       "      <td>4566</td>\n",
       "    </tr>\n",
       "    <tr>\n",
       "      <th>6</th>\n",
       "      <td>4589</td>\n",
       "      <td>3301</td>\n",
       "    </tr>\n",
       "    <tr>\n",
       "      <th>7</th>\n",
       "      <td>3339</td>\n",
       "      <td>2201</td>\n",
       "    </tr>\n",
       "    <tr>\n",
       "      <th>8</th>\n",
       "      <td>4335</td>\n",
       "      <td>3205</td>\n",
       "    </tr>\n",
       "    <tr>\n",
       "      <th>9</th>\n",
       "      <td>5656</td>\n",
       "      <td>5567</td>\n",
       "    </tr>\n",
       "  </tbody>\n",
       "</table>\n",
       "</div>"
      ],
      "text/plain": [
       "   Mall_1  Mall_2\n",
       "0    2322    1987\n",
       "1    2344    2356\n",
       "2    3423    3444\n",
       "3    2342    3216\n",
       "4    4536    2324\n",
       "5    3444    4566\n",
       "6    4589    3301\n",
       "7    3339    2201\n",
       "8    4335    3205\n",
       "9    5656    5567"
      ]
     },
     "execution_count": 5,
     "metadata": {},
     "output_type": "execute_result"
    }
   ],
   "source": [
    "df"
   ]
  },
  {
   "cell_type": "code",
   "execution_count": 16,
   "metadata": {},
   "outputs": [],
   "source": [
    "# now we are making the index starting from 1 becouase the data is of weeks \n",
    "df.index += 1 "
   ]
  },
  {
   "cell_type": "code",
   "execution_count": 17,
   "metadata": {},
   "outputs": [
    {
     "data": {
      "text/html": [
       "<div>\n",
       "<style scoped>\n",
       "    .dataframe tbody tr th:only-of-type {\n",
       "        vertical-align: middle;\n",
       "    }\n",
       "\n",
       "    .dataframe tbody tr th {\n",
       "        vertical-align: top;\n",
       "    }\n",
       "\n",
       "    .dataframe thead th {\n",
       "        text-align: right;\n",
       "    }\n",
       "</style>\n",
       "<table border=\"1\" class=\"dataframe\">\n",
       "  <thead>\n",
       "    <tr style=\"text-align: right;\">\n",
       "      <th></th>\n",
       "      <th>Mall_1</th>\n",
       "      <th>Mall_2</th>\n",
       "    </tr>\n",
       "  </thead>\n",
       "  <tbody>\n",
       "    <tr>\n",
       "      <th>1</th>\n",
       "      <td>2322</td>\n",
       "      <td>1987</td>\n",
       "    </tr>\n",
       "    <tr>\n",
       "      <th>2</th>\n",
       "      <td>2344</td>\n",
       "      <td>2356</td>\n",
       "    </tr>\n",
       "    <tr>\n",
       "      <th>3</th>\n",
       "      <td>3423</td>\n",
       "      <td>3444</td>\n",
       "    </tr>\n",
       "    <tr>\n",
       "      <th>4</th>\n",
       "      <td>2342</td>\n",
       "      <td>3216</td>\n",
       "    </tr>\n",
       "    <tr>\n",
       "      <th>5</th>\n",
       "      <td>4536</td>\n",
       "      <td>2324</td>\n",
       "    </tr>\n",
       "    <tr>\n",
       "      <th>6</th>\n",
       "      <td>3444</td>\n",
       "      <td>4566</td>\n",
       "    </tr>\n",
       "    <tr>\n",
       "      <th>7</th>\n",
       "      <td>4589</td>\n",
       "      <td>3301</td>\n",
       "    </tr>\n",
       "    <tr>\n",
       "      <th>8</th>\n",
       "      <td>3339</td>\n",
       "      <td>2201</td>\n",
       "    </tr>\n",
       "    <tr>\n",
       "      <th>9</th>\n",
       "      <td>4335</td>\n",
       "      <td>3205</td>\n",
       "    </tr>\n",
       "    <tr>\n",
       "      <th>10</th>\n",
       "      <td>5656</td>\n",
       "      <td>5567</td>\n",
       "    </tr>\n",
       "  </tbody>\n",
       "</table>\n",
       "</div>"
      ],
      "text/plain": [
       "    Mall_1  Mall_2\n",
       "1     2322    1987\n",
       "2     2344    2356\n",
       "3     3423    3444\n",
       "4     2342    3216\n",
       "5     4536    2324\n",
       "6     3444    4566\n",
       "7     4589    3301\n",
       "8     3339    2201\n",
       "9     4335    3205\n",
       "10    5656    5567"
      ]
     },
     "execution_count": 17,
     "metadata": {},
     "output_type": "execute_result"
    }
   ],
   "source": [
    "df"
   ]
  },
  {
   "cell_type": "code",
   "execution_count": 20,
   "metadata": {},
   "outputs": [
    {
     "data": {
      "text/html": [
       "<div>\n",
       "<style scoped>\n",
       "    .dataframe tbody tr th:only-of-type {\n",
       "        vertical-align: middle;\n",
       "    }\n",
       "\n",
       "    .dataframe tbody tr th {\n",
       "        vertical-align: top;\n",
       "    }\n",
       "\n",
       "    .dataframe thead th {\n",
       "        text-align: right;\n",
       "    }\n",
       "</style>\n",
       "<table border=\"1\" class=\"dataframe\">\n",
       "  <thead>\n",
       "    <tr style=\"text-align: right;\">\n",
       "      <th></th>\n",
       "      <th>Mall_1</th>\n",
       "      <th>Mall_2</th>\n",
       "    </tr>\n",
       "  </thead>\n",
       "  <tbody>\n",
       "    <tr>\n",
       "      <th>count</th>\n",
       "      <td>10.000000</td>\n",
       "      <td>10.000000</td>\n",
       "    </tr>\n",
       "    <tr>\n",
       "      <th>mean</th>\n",
       "      <td>3633.000000</td>\n",
       "      <td>3216.700000</td>\n",
       "    </tr>\n",
       "    <tr>\n",
       "      <th>std</th>\n",
       "      <td>1131.756648</td>\n",
       "      <td>1129.648721</td>\n",
       "    </tr>\n",
       "    <tr>\n",
       "      <th>min</th>\n",
       "      <td>2322.000000</td>\n",
       "      <td>1987.000000</td>\n",
       "    </tr>\n",
       "    <tr>\n",
       "      <th>25%</th>\n",
       "      <td>2592.750000</td>\n",
       "      <td>2332.000000</td>\n",
       "    </tr>\n",
       "    <tr>\n",
       "      <th>50%</th>\n",
       "      <td>3433.500000</td>\n",
       "      <td>3210.500000</td>\n",
       "    </tr>\n",
       "    <tr>\n",
       "      <th>75%</th>\n",
       "      <td>4485.750000</td>\n",
       "      <td>3408.250000</td>\n",
       "    </tr>\n",
       "    <tr>\n",
       "      <th>max</th>\n",
       "      <td>5656.000000</td>\n",
       "      <td>5567.000000</td>\n",
       "    </tr>\n",
       "  </tbody>\n",
       "</table>\n",
       "</div>"
      ],
      "text/plain": [
       "            Mall_1       Mall_2\n",
       "count    10.000000    10.000000\n",
       "mean   3633.000000  3216.700000\n",
       "std    1131.756648  1129.648721\n",
       "min    2322.000000  1987.000000\n",
       "25%    2592.750000  2332.000000\n",
       "50%    3433.500000  3210.500000\n",
       "75%    4485.750000  3408.250000\n",
       "max    5656.000000  5567.000000"
      ]
     },
     "execution_count": 20,
     "metadata": {},
     "output_type": "execute_result"
    }
   ],
   "source": [
    "# checking the stats \n",
    "df.describe()"
   ]
  },
  {
   "cell_type": "code",
   "execution_count": 31,
   "metadata": {},
   "outputs": [
    {
     "data": {
      "text/plain": [
       "Mall_1    36330\n",
       "Mall_2    32167\n",
       "dtype: int64"
      ]
     },
     "execution_count": 31,
     "metadata": {},
     "output_type": "execute_result"
    }
   ],
   "source": [
    "df.sum()"
   ]
  },
  {
   "cell_type": "markdown",
   "metadata": {},
   "source": [
    "#### Visualing the foots walks of both the malls's"
   ]
  },
  {
   "cell_type": "code",
   "execution_count": 25,
   "metadata": {},
   "outputs": [
    {
     "data": {
      "application/vnd.plotly.v1+json": {
       "config": {
        "plotlyServerURL": "https://plot.ly"
       },
       "data": [
        {
         "line": {
          "color": "cadetblue",
          "width": 1.5
         },
         "mode": "lines+markers",
         "name": "Mall_1",
         "type": "scatter",
         "x": [
          1,
          2,
          3,
          4,
          5,
          6,
          7,
          8,
          9,
          10
         ],
         "y": [
          2322,
          2344,
          3423,
          2342,
          4536,
          3444,
          4589,
          3339,
          4335,
          5656
         ]
        },
        {
         "line": {
          "color": "blue",
          "width": 1.5
         },
         "mode": "lines+markers",
         "name": "Mall_2",
         "type": "scatter",
         "x": [
          1,
          2,
          3,
          4,
          5,
          6,
          7,
          8,
          9,
          10
         ],
         "y": [
          1987,
          2356,
          3444,
          3216,
          2324,
          4566,
          3301,
          2201,
          3205,
          5567
         ]
        }
       ],
       "layout": {
        "autosize": false,
        "height": 700,
        "hovermode": "x",
        "template": {
         "data": {
          "pie": [
           {
            "automargin": true,
            "type": "pie"
           }
          ],
          "scatter": [
           {
            "line": {
             "width": 3
            },
            "marker": {
             "size": 9
            },
            "type": "scatter"
           }
          ],
          "scatter3d": [
           {
            "line": {
             "width": 3
            },
            "marker": {
             "size": 9
            },
            "type": "scatter3d"
           }
          ],
          "scattergeo": [
           {
            "line": {
             "width": 3
            },
            "marker": {
             "size": 9
            },
            "type": "scattergeo"
           }
          ],
          "scattergl": [
           {
            "line": {
             "width": 3
            },
            "marker": {
             "size": 9
            },
            "type": "scattergl"
           }
          ],
          "scatterpolar": [
           {
            "line": {
             "width": 3
            },
            "marker": {
             "size": 9
            },
            "type": "scatterpolar"
           }
          ],
          "scatterpolargl": [
           {
            "line": {
             "width": 3
            },
            "marker": {
             "size": 9
            },
            "type": "scatterpolargl"
           }
          ],
          "scatterternary": [
           {
            "line": {
             "width": 3
            },
            "marker": {
             "size": 9
            },
            "type": "scatterternary"
           }
          ],
          "table": [
           {
            "cells": {
             "height": 30
            },
            "header": {
             "height": 36
            },
            "type": "table"
           }
          ]
         },
         "layout": {
          "font": {
           "size": 18
          },
          "xaxis": {
           "title": {
            "standoff": 15
           }
          },
          "yaxis": {
           "title": {
            "standoff": 15
           }
          }
         }
        },
        "title": {
         "text": "comparison of both mall's"
        },
        "width": 1500,
        "xaxis": {
         "showgrid": false,
         "title": {
          "text": "weeks"
         },
         "type": "category"
        },
        "yaxis": {
         "showgrid": false,
         "title": {
          "text": "foot walks"
         }
        }
       }
      }
     },
     "metadata": {},
     "output_type": "display_data"
    }
   ],
   "source": [
    "fig = go.Figure()\n",
    "fig.add_trace(\n",
    "    go.Scatter(x =df.index, y = df['Mall_1'],\n",
    "                line = dict(color = 'cadetblue', width = 1.5),\n",
    "                mode = \"lines+markers\",\n",
    "                name = 'Mall_1'\n",
    "                 )\n",
    ")\n",
    "fig.add_trace(\n",
    "    go.Scatter(x = df.index,y = df['Mall_2'],\n",
    "                line = dict(color = 'blue', width = 1.5),\n",
    "                mode = \"lines+markers\",\n",
    "                name = 'Mall_2'\n",
    "                 )\n",
    ")\n",
    "fig.update_layout(title= \"comparison of both mall's\",\n",
    "                xaxis_title='weeks',\n",
    "                yaxis_title='foot walks',\n",
    "                autosize=False,\n",
    "                width=1500,\n",
    "                height=700,\n",
    "                template = \"presentation\")\n",
    "fig.update_xaxes(showgrid=False)\n",
    "fig.update_yaxes(showgrid=False)  \n",
    "fig.update_xaxes(type='category')\n",
    "fig.update_layout(hovermode=\"x\")\n",
    "fig.show()\n"
   ]
  },
  {
   "cell_type": "code",
   "execution_count": 34,
   "metadata": {},
   "outputs": [
    {
     "data": {
      "application/vnd.plotly.v1+json": {
       "config": {
        "plotlyServerURL": "https://plot.ly"
       },
       "data": [
        {
         "alignmentgroup": "True",
         "hovertemplate": "variable=Mall_1<br>index=%{x}<br>value=%{y}<extra></extra>",
         "legendgroup": "Mall_1",
         "marker": {
          "color": "#00cc96",
          "pattern": {
           "shape": ""
          }
         },
         "name": "Mall_1",
         "offsetgroup": "Mall_1",
         "orientation": "v",
         "showlegend": true,
         "textposition": "auto",
         "texttemplate": "%{y}",
         "type": "bar",
         "x": [
          1,
          2,
          3,
          4,
          5,
          6,
          7,
          8,
          9,
          10
         ],
         "xaxis": "x",
         "y": [
          2322,
          2344,
          3423,
          2342,
          4536,
          3444,
          4589,
          3339,
          4335,
          5656
         ],
         "yaxis": "y"
        },
        {
         "alignmentgroup": "True",
         "hovertemplate": "variable=Mall_2<br>index=%{x}<br>value=%{y}<extra></extra>",
         "legendgroup": "Mall_2",
         "marker": {
          "color": "#ab63fa",
          "pattern": {
           "shape": ""
          }
         },
         "name": "Mall_2",
         "offsetgroup": "Mall_2",
         "orientation": "v",
         "showlegend": true,
         "textposition": "auto",
         "texttemplate": "%{y}",
         "type": "bar",
         "x": [
          1,
          2,
          3,
          4,
          5,
          6,
          7,
          8,
          9,
          10
         ],
         "xaxis": "x",
         "y": [
          1987,
          2356,
          3444,
          3216,
          2324,
          4566,
          3301,
          2201,
          3205,
          5567
         ],
         "yaxis": "y"
        }
       ],
       "layout": {
        "autosize": false,
        "barmode": "group",
        "height": 500,
        "hovermode": "x",
        "legend": {
         "title": {
          "text": "variable"
         },
         "tracegroupgap": 0
        },
        "margin": {
         "t": 60
        },
        "template": {
         "data": {
          "pie": [
           {
            "automargin": true,
            "type": "pie"
           }
          ],
          "scatter": [
           {
            "line": {
             "width": 3
            },
            "marker": {
             "size": 9
            },
            "type": "scatter"
           }
          ],
          "scatter3d": [
           {
            "line": {
             "width": 3
            },
            "marker": {
             "size": 9
            },
            "type": "scatter3d"
           }
          ],
          "scattergeo": [
           {
            "line": {
             "width": 3
            },
            "marker": {
             "size": 9
            },
            "type": "scattergeo"
           }
          ],
          "scattergl": [
           {
            "line": {
             "width": 3
            },
            "marker": {
             "size": 9
            },
            "type": "scattergl"
           }
          ],
          "scatterpolar": [
           {
            "line": {
             "width": 3
            },
            "marker": {
             "size": 9
            },
            "type": "scatterpolar"
           }
          ],
          "scatterpolargl": [
           {
            "line": {
             "width": 3
            },
            "marker": {
             "size": 9
            },
            "type": "scatterpolargl"
           }
          ],
          "scatterternary": [
           {
            "line": {
             "width": 3
            },
            "marker": {
             "size": 9
            },
            "type": "scatterternary"
           }
          ],
          "table": [
           {
            "cells": {
             "height": 30
            },
            "header": {
             "height": 36
            },
            "type": "table"
           }
          ]
         },
         "layout": {
          "font": {
           "size": 18
          },
          "xaxis": {
           "title": {
            "standoff": 15
           }
          },
          "yaxis": {
           "title": {
            "standoff": 15
           }
          }
         }
        },
        "title": {
         "text": "Foot steps of  both mall's"
        },
        "xaxis": {
         "anchor": "y",
         "domain": [
          0,
          1
         ],
         "title": {
          "text": "weeks"
         },
         "type": "category"
        },
        "yaxis": {
         "anchor": "x",
         "domain": [
          0,
          1
         ],
         "title": {
          "text": "foot walks"
         }
        }
       }
      }
     },
     "metadata": {},
     "output_type": "display_data"
    }
   ],
   "source": [
    "fig = px.bar(df, x=df.index, y=['Mall_1', 'Mall_2'],\n",
    "              barmode='group',text_auto=True,orientation='v',\n",
    "             height=500,\n",
    "             color_discrete_map={\n",
    "        'some_group': 'red',\n",
    "        'some_other_group': 'green'\n",
    "    }\n",
    "\n",
    "    )\n",
    "\n",
    "fig.update_layout(title= \"Foot steps of  both mall's\",\n",
    "                xaxis_title='weeks',\n",
    "                yaxis_title='foot walks',\n",
    "                autosize=False,\n",
    "                template = \"presentation\")\n",
    "\n",
    "fig.update_xaxes(type='category')\n",
    "fig.update_layout(hovermode=\"x\")\n",
    "fig.show()"
   ]
  },
  {
   "cell_type": "markdown",
   "metadata": {},
   "source": [
    "## Now we will check the ouliers in both the Malls's"
   ]
  },
  {
   "cell_type": "code",
   "execution_count": 37,
   "metadata": {},
   "outputs": [
    {
     "data": {
      "application/vnd.plotly.v1+json": {
       "config": {
        "plotlyServerURL": "https://plot.ly"
       },
       "data": [
        {
         "boxpoints": "outliers",
         "jitter": 0,
         "name": "Mall_1",
         "type": "box",
         "y": [
          2322,
          2344,
          3423,
          2342,
          4536,
          3444,
          4589,
          3339,
          4335,
          5656
         ]
        },
        {
         "boxpoints": "outliers",
         "jitter": 0,
         "name": "Mall_2",
         "type": "box",
         "y": [
          1987,
          2356,
          3444,
          3216,
          2324,
          4566,
          3301,
          2201,
          3205,
          5567
         ]
        }
       ],
       "layout": {
        "autosize": false,
        "height": 500,
        "template": {
         "data": {
          "pie": [
           {
            "automargin": true,
            "type": "pie"
           }
          ],
          "scatter": [
           {
            "line": {
             "width": 3
            },
            "marker": {
             "size": 9
            },
            "type": "scatter"
           }
          ],
          "scatter3d": [
           {
            "line": {
             "width": 3
            },
            "marker": {
             "size": 9
            },
            "type": "scatter3d"
           }
          ],
          "scattergeo": [
           {
            "line": {
             "width": 3
            },
            "marker": {
             "size": 9
            },
            "type": "scattergeo"
           }
          ],
          "scattergl": [
           {
            "line": {
             "width": 3
            },
            "marker": {
             "size": 9
            },
            "type": "scattergl"
           }
          ],
          "scatterpolar": [
           {
            "line": {
             "width": 3
            },
            "marker": {
             "size": 9
            },
            "type": "scatterpolar"
           }
          ],
          "scatterpolargl": [
           {
            "line": {
             "width": 3
            },
            "marker": {
             "size": 9
            },
            "type": "scatterpolargl"
           }
          ],
          "scatterternary": [
           {
            "line": {
             "width": 3
            },
            "marker": {
             "size": 9
            },
            "type": "scatterternary"
           }
          ],
          "table": [
           {
            "cells": {
             "height": 30
            },
            "header": {
             "height": 36
            },
            "type": "table"
           }
          ]
         },
         "layout": {
          "font": {
           "size": 18
          },
          "xaxis": {
           "title": {
            "standoff": 15
           }
          },
          "yaxis": {
           "title": {
            "standoff": 15
           }
          }
         }
        },
        "width": 1000,
        "xaxis": {
         "showgrid": false
        },
        "yaxis": {
         "showgrid": false
        }
       }
      }
     },
     "metadata": {},
     "output_type": "display_data"
    }
   ],
   "source": [
    "fig = go.Figure()\n",
    "fig.add_trace(go.Box(y=df['Mall_1'], name=\"Mall_1\"))\n",
    "fig.add_trace(go.Box(y=df['Mall_2'], name=\"Mall_2\"))\n",
    "\n",
    "fig.update_traces(boxpoints='outliers', jitter=0)\n",
    "fig.update_layout(autosize=False,\n",
    "                  width=1000,\n",
    "                  height=500,\n",
    "                  template = \"presentation\")\n",
    "fig.update_xaxes(showgrid= False)\n",
    "fig.update_yaxes(showgrid= False)  \n",
    "\n",
    "fig.show()"
   ]
  },
  {
   "cell_type": "markdown",
   "metadata": {},
   "source": [
    "### as we can see above MALL_2 Has some outliers\n",
    "### mall_1 has been more consitant "
   ]
  },
  {
   "cell_type": "markdown",
   "metadata": {},
   "source": [
    "#### so here the conculsion is \n",
    "    Mall_1 can be selected\n",
    "    reasons for Selecting mall_1 are :\n",
    "    * the mean visitors are more than the Mall_2\n",
    "    * No outliers has been detected \n",
    "    * visitors are more consistant in Mall_1\n",
    "    * total foot walks are more than the Mall_2\n",
    "    * so by this we can conclude that Mall_1 is Better than Mall_2"
   ]
  },
  {
   "cell_type": "markdown",
   "metadata": {},
   "source": [
    "# Part B has been already submitted in the previous pandas assignments"
   ]
  },
  {
   "cell_type": "markdown",
   "metadata": {},
   "source": []
  },
  {
   "cell_type": "markdown",
   "metadata": {},
   "source": [
    "#### creating data frames"
   ]
  },
  {
   "cell_type": "code",
   "execution_count": null,
   "metadata": {},
   "outputs": [],
   "source": [
    "# Student Master Table\n",
    "\n",
    "table_1 = {'Student_id':['A001','A002','A003','A004','A005','A006','A007','A008','A009'],\n",
    "           'DOB': ['02-11-2005','23-12-2005','04-08-2005','25-09-2005','06-12-2004','27-02-2005',\n",
    "                    '01-01-2005','30-03-2003','30-12-2004']}\n",
    "t1 = pd.DataFrame(table_1)"
   ]
  },
  {
   "cell_type": "code",
   "execution_count": null,
   "metadata": {},
   "outputs": [
    {
     "data": {
      "text/html": [
       "<div>\n",
       "<style scoped>\n",
       "    .dataframe tbody tr th:only-of-type {\n",
       "        vertical-align: middle;\n",
       "    }\n",
       "\n",
       "    .dataframe tbody tr th {\n",
       "        vertical-align: top;\n",
       "    }\n",
       "\n",
       "    .dataframe thead th {\n",
       "        text-align: right;\n",
       "    }\n",
       "</style>\n",
       "<table border=\"1\" class=\"dataframe\">\n",
       "  <thead>\n",
       "    <tr style=\"text-align: right;\">\n",
       "      <th></th>\n",
       "      <th>Student_id</th>\n",
       "      <th>DOB</th>\n",
       "    </tr>\n",
       "  </thead>\n",
       "  <tbody>\n",
       "    <tr>\n",
       "      <th>0</th>\n",
       "      <td>A001</td>\n",
       "      <td>02-11-2005</td>\n",
       "    </tr>\n",
       "    <tr>\n",
       "      <th>1</th>\n",
       "      <td>A002</td>\n",
       "      <td>23-12-2005</td>\n",
       "    </tr>\n",
       "    <tr>\n",
       "      <th>2</th>\n",
       "      <td>A003</td>\n",
       "      <td>04-08-2005</td>\n",
       "    </tr>\n",
       "    <tr>\n",
       "      <th>3</th>\n",
       "      <td>A004</td>\n",
       "      <td>25-09-2005</td>\n",
       "    </tr>\n",
       "    <tr>\n",
       "      <th>4</th>\n",
       "      <td>A005</td>\n",
       "      <td>06-12-2004</td>\n",
       "    </tr>\n",
       "    <tr>\n",
       "      <th>5</th>\n",
       "      <td>A006</td>\n",
       "      <td>27-02-2005</td>\n",
       "    </tr>\n",
       "    <tr>\n",
       "      <th>6</th>\n",
       "      <td>A007</td>\n",
       "      <td>01-01-2005</td>\n",
       "    </tr>\n",
       "    <tr>\n",
       "      <th>7</th>\n",
       "      <td>A008</td>\n",
       "      <td>30-03-2003</td>\n",
       "    </tr>\n",
       "    <tr>\n",
       "      <th>8</th>\n",
       "      <td>A009</td>\n",
       "      <td>30-12-2004</td>\n",
       "    </tr>\n",
       "  </tbody>\n",
       "</table>\n",
       "</div>"
      ],
      "text/plain": [
       "  Student_id         DOB\n",
       "0       A001  02-11-2005\n",
       "1       A002  23-12-2005\n",
       "2       A003  04-08-2005\n",
       "3       A004  25-09-2005\n",
       "4       A005  06-12-2004\n",
       "5       A006  27-02-2005\n",
       "6       A007  01-01-2005\n",
       "7       A008  30-03-2003\n",
       "8       A009  30-12-2004"
      ]
     },
     "metadata": {},
     "output_type": "display_data"
    }
   ],
   "source": [
    "t1"
   ]
  },
  {
   "cell_type": "code",
   "execution_count": null,
   "metadata": {},
   "outputs": [],
   "source": [
    "# Student Result Table\n",
    "\n",
    "table_2 = [['A001',56,60,59],['A002',77,58,76],\n",
    "            ['A003',56,78,66],['A004',68,71,76],\n",
    "            ['A005',87,69,59],['A006',67,66,49],\n",
    "            ['A007',85,68,10],['A008',90,41,67],\n",
    "            ['A009',78,67,66]]\n",
    "t2 = pd.DataFrame(table_2, columns = ['Student_id','Math','Science','History'])"
   ]
  },
  {
   "cell_type": "code",
   "execution_count": null,
   "metadata": {},
   "outputs": [
    {
     "data": {
      "text/html": [
       "<div>\n",
       "<style scoped>\n",
       "    .dataframe tbody tr th:only-of-type {\n",
       "        vertical-align: middle;\n",
       "    }\n",
       "\n",
       "    .dataframe tbody tr th {\n",
       "        vertical-align: top;\n",
       "    }\n",
       "\n",
       "    .dataframe thead th {\n",
       "        text-align: right;\n",
       "    }\n",
       "</style>\n",
       "<table border=\"1\" class=\"dataframe\">\n",
       "  <thead>\n",
       "    <tr style=\"text-align: right;\">\n",
       "      <th></th>\n",
       "      <th>Student_id</th>\n",
       "      <th>Math</th>\n",
       "      <th>Science</th>\n",
       "      <th>History</th>\n",
       "    </tr>\n",
       "  </thead>\n",
       "  <tbody>\n",
       "    <tr>\n",
       "      <th>0</th>\n",
       "      <td>A001</td>\n",
       "      <td>56</td>\n",
       "      <td>60</td>\n",
       "      <td>59</td>\n",
       "    </tr>\n",
       "    <tr>\n",
       "      <th>1</th>\n",
       "      <td>A002</td>\n",
       "      <td>77</td>\n",
       "      <td>58</td>\n",
       "      <td>76</td>\n",
       "    </tr>\n",
       "    <tr>\n",
       "      <th>2</th>\n",
       "      <td>A003</td>\n",
       "      <td>56</td>\n",
       "      <td>78</td>\n",
       "      <td>66</td>\n",
       "    </tr>\n",
       "    <tr>\n",
       "      <th>3</th>\n",
       "      <td>A004</td>\n",
       "      <td>68</td>\n",
       "      <td>71</td>\n",
       "      <td>76</td>\n",
       "    </tr>\n",
       "    <tr>\n",
       "      <th>4</th>\n",
       "      <td>A005</td>\n",
       "      <td>87</td>\n",
       "      <td>69</td>\n",
       "      <td>59</td>\n",
       "    </tr>\n",
       "    <tr>\n",
       "      <th>5</th>\n",
       "      <td>A006</td>\n",
       "      <td>67</td>\n",
       "      <td>66</td>\n",
       "      <td>49</td>\n",
       "    </tr>\n",
       "    <tr>\n",
       "      <th>6</th>\n",
       "      <td>A007</td>\n",
       "      <td>85</td>\n",
       "      <td>68</td>\n",
       "      <td>10</td>\n",
       "    </tr>\n",
       "    <tr>\n",
       "      <th>7</th>\n",
       "      <td>A008</td>\n",
       "      <td>90</td>\n",
       "      <td>41</td>\n",
       "      <td>67</td>\n",
       "    </tr>\n",
       "    <tr>\n",
       "      <th>8</th>\n",
       "      <td>A009</td>\n",
       "      <td>78</td>\n",
       "      <td>67</td>\n",
       "      <td>66</td>\n",
       "    </tr>\n",
       "  </tbody>\n",
       "</table>\n",
       "</div>"
      ],
      "text/plain": [
       "  Student_id  Math  Science  History\n",
       "0       A001    56       60       59\n",
       "1       A002    77       58       76\n",
       "2       A003    56       78       66\n",
       "3       A004    68       71       76\n",
       "4       A005    87       69       59\n",
       "5       A006    67       66       49\n",
       "6       A007    85       68       10\n",
       "7       A008    90       41       67\n",
       "8       A009    78       67       66"
      ]
     },
     "metadata": {},
     "output_type": "display_data"
    }
   ],
   "source": [
    "t2"
   ]
  },
  {
   "cell_type": "code",
   "execution_count": null,
   "metadata": {},
   "outputs": [
    {
     "data": {
      "text/plain": [
       "Student_id    object\n",
       "DOB           object\n",
       "dtype: object"
      ]
     },
     "metadata": {},
     "output_type": "display_data"
    }
   ],
   "source": [
    "t1.dtypes"
   ]
  },
  {
   "cell_type": "code",
   "execution_count": null,
   "metadata": {},
   "outputs": [
    {
     "data": {
      "text/plain": [
       "0   2005-02-11\n",
       "1   2005-12-23\n",
       "2   2005-04-08\n",
       "3   2005-09-25\n",
       "4   2004-06-12\n",
       "5   2005-02-27\n",
       "6   2005-01-01\n",
       "7   2003-03-30\n",
       "8   2004-12-30\n",
       "Name: DOB, dtype: datetime64[ns]"
      ]
     },
     "metadata": {},
     "output_type": "display_data"
    }
   ],
   "source": [
    "# Conveting the DOB to  Datetime Format\n",
    "\n",
    "t1['DOB'] = pd.to_datetime(t1.DOB)\n",
    "\n",
    "t1['DOB']"
   ]
  },
  {
   "cell_type": "markdown",
   "metadata": {},
   "source": [
    "#### Calculating the Student age from DOB"
   ]
  },
  {
   "cell_type": "code",
   "execution_count": null,
   "metadata": {},
   "outputs": [],
   "source": [
    "# Creating a function to calculate the student age from DOB\n",
    "\n",
    "def from_dob_to_age(born):\n",
    "    today = datetime.date(2021,12,31)\n",
    "    return today.year - born.year - ((today.month, today.day) < (born.month, born.day))"
   ]
  },
  {
   "cell_type": "code",
   "execution_count": null,
   "metadata": {},
   "outputs": [],
   "source": [
    "# applying the fucntion to t1 : 'Student Master Table' DataFrame\n",
    "t1['Age'] = t1['DOB'].apply(lambda x: from_dob_to_age(x))"
   ]
  },
  {
   "cell_type": "code",
   "execution_count": null,
   "metadata": {},
   "outputs": [
    {
     "data": {
      "text/html": [
       "<div>\n",
       "<style scoped>\n",
       "    .dataframe tbody tr th:only-of-type {\n",
       "        vertical-align: middle;\n",
       "    }\n",
       "\n",
       "    .dataframe tbody tr th {\n",
       "        vertical-align: top;\n",
       "    }\n",
       "\n",
       "    .dataframe thead th {\n",
       "        text-align: right;\n",
       "    }\n",
       "</style>\n",
       "<table border=\"1\" class=\"dataframe\">\n",
       "  <thead>\n",
       "    <tr style=\"text-align: right;\">\n",
       "      <th></th>\n",
       "      <th>Student_id</th>\n",
       "      <th>DOB</th>\n",
       "      <th>Age</th>\n",
       "    </tr>\n",
       "  </thead>\n",
       "  <tbody>\n",
       "    <tr>\n",
       "      <th>0</th>\n",
       "      <td>A001</td>\n",
       "      <td>2005-02-11</td>\n",
       "      <td>16</td>\n",
       "    </tr>\n",
       "    <tr>\n",
       "      <th>1</th>\n",
       "      <td>A002</td>\n",
       "      <td>2005-12-23</td>\n",
       "      <td>16</td>\n",
       "    </tr>\n",
       "    <tr>\n",
       "      <th>2</th>\n",
       "      <td>A003</td>\n",
       "      <td>2005-04-08</td>\n",
       "      <td>16</td>\n",
       "    </tr>\n",
       "    <tr>\n",
       "      <th>3</th>\n",
       "      <td>A004</td>\n",
       "      <td>2005-09-25</td>\n",
       "      <td>16</td>\n",
       "    </tr>\n",
       "    <tr>\n",
       "      <th>4</th>\n",
       "      <td>A005</td>\n",
       "      <td>2004-06-12</td>\n",
       "      <td>17</td>\n",
       "    </tr>\n",
       "    <tr>\n",
       "      <th>5</th>\n",
       "      <td>A006</td>\n",
       "      <td>2005-02-27</td>\n",
       "      <td>16</td>\n",
       "    </tr>\n",
       "    <tr>\n",
       "      <th>6</th>\n",
       "      <td>A007</td>\n",
       "      <td>2005-01-01</td>\n",
       "      <td>16</td>\n",
       "    </tr>\n",
       "    <tr>\n",
       "      <th>7</th>\n",
       "      <td>A008</td>\n",
       "      <td>2003-03-30</td>\n",
       "      <td>18</td>\n",
       "    </tr>\n",
       "    <tr>\n",
       "      <th>8</th>\n",
       "      <td>A009</td>\n",
       "      <td>2004-12-30</td>\n",
       "      <td>17</td>\n",
       "    </tr>\n",
       "  </tbody>\n",
       "</table>\n",
       "</div>"
      ],
      "text/plain": [
       "  Student_id        DOB  Age\n",
       "0       A001 2005-02-11   16\n",
       "1       A002 2005-12-23   16\n",
       "2       A003 2005-04-08   16\n",
       "3       A004 2005-09-25   16\n",
       "4       A005 2004-06-12   17\n",
       "5       A006 2005-02-27   16\n",
       "6       A007 2005-01-01   16\n",
       "7       A008 2003-03-30   18\n",
       "8       A009 2004-12-30   17"
      ]
     },
     "metadata": {},
     "output_type": "display_data"
    }
   ],
   "source": [
    "t1"
   ]
  },
  {
   "cell_type": "markdown",
   "metadata": {},
   "source": [
    "#### creating a new DataFrame from the two DataFrames"
   ]
  },
  {
   "cell_type": "code",
   "execution_count": null,
   "metadata": {},
   "outputs": [],
   "source": [
    "# Using pd.merge to create a new dataframe by 'student id'\n",
    "\n",
    "new_table = pd.merge(t1,t2, on = 'Student_id',how= 'left')"
   ]
  },
  {
   "cell_type": "code",
   "execution_count": null,
   "metadata": {},
   "outputs": [
    {
     "data": {
      "text/html": [
       "<div>\n",
       "<style scoped>\n",
       "    .dataframe tbody tr th:only-of-type {\n",
       "        vertical-align: middle;\n",
       "    }\n",
       "\n",
       "    .dataframe tbody tr th {\n",
       "        vertical-align: top;\n",
       "    }\n",
       "\n",
       "    .dataframe thead th {\n",
       "        text-align: right;\n",
       "    }\n",
       "</style>\n",
       "<table border=\"1\" class=\"dataframe\">\n",
       "  <thead>\n",
       "    <tr style=\"text-align: right;\">\n",
       "      <th></th>\n",
       "      <th>Student_id</th>\n",
       "      <th>DOB</th>\n",
       "      <th>Age</th>\n",
       "      <th>Math</th>\n",
       "      <th>Science</th>\n",
       "      <th>History</th>\n",
       "    </tr>\n",
       "  </thead>\n",
       "  <tbody>\n",
       "    <tr>\n",
       "      <th>0</th>\n",
       "      <td>A001</td>\n",
       "      <td>2005-02-11</td>\n",
       "      <td>16</td>\n",
       "      <td>56</td>\n",
       "      <td>60</td>\n",
       "      <td>59</td>\n",
       "    </tr>\n",
       "    <tr>\n",
       "      <th>1</th>\n",
       "      <td>A002</td>\n",
       "      <td>2005-12-23</td>\n",
       "      <td>16</td>\n",
       "      <td>77</td>\n",
       "      <td>58</td>\n",
       "      <td>76</td>\n",
       "    </tr>\n",
       "    <tr>\n",
       "      <th>2</th>\n",
       "      <td>A003</td>\n",
       "      <td>2005-04-08</td>\n",
       "      <td>16</td>\n",
       "      <td>56</td>\n",
       "      <td>78</td>\n",
       "      <td>66</td>\n",
       "    </tr>\n",
       "    <tr>\n",
       "      <th>3</th>\n",
       "      <td>A004</td>\n",
       "      <td>2005-09-25</td>\n",
       "      <td>16</td>\n",
       "      <td>68</td>\n",
       "      <td>71</td>\n",
       "      <td>76</td>\n",
       "    </tr>\n",
       "    <tr>\n",
       "      <th>4</th>\n",
       "      <td>A005</td>\n",
       "      <td>2004-06-12</td>\n",
       "      <td>17</td>\n",
       "      <td>87</td>\n",
       "      <td>69</td>\n",
       "      <td>59</td>\n",
       "    </tr>\n",
       "    <tr>\n",
       "      <th>5</th>\n",
       "      <td>A006</td>\n",
       "      <td>2005-02-27</td>\n",
       "      <td>16</td>\n",
       "      <td>67</td>\n",
       "      <td>66</td>\n",
       "      <td>49</td>\n",
       "    </tr>\n",
       "    <tr>\n",
       "      <th>6</th>\n",
       "      <td>A007</td>\n",
       "      <td>2005-01-01</td>\n",
       "      <td>16</td>\n",
       "      <td>85</td>\n",
       "      <td>68</td>\n",
       "      <td>10</td>\n",
       "    </tr>\n",
       "    <tr>\n",
       "      <th>7</th>\n",
       "      <td>A008</td>\n",
       "      <td>2003-03-30</td>\n",
       "      <td>18</td>\n",
       "      <td>90</td>\n",
       "      <td>41</td>\n",
       "      <td>67</td>\n",
       "    </tr>\n",
       "    <tr>\n",
       "      <th>8</th>\n",
       "      <td>A009</td>\n",
       "      <td>2004-12-30</td>\n",
       "      <td>17</td>\n",
       "      <td>78</td>\n",
       "      <td>67</td>\n",
       "      <td>66</td>\n",
       "    </tr>\n",
       "  </tbody>\n",
       "</table>\n",
       "</div>"
      ],
      "text/plain": [
       "  Student_id        DOB  Age  Math  Science  History\n",
       "0       A001 2005-02-11   16    56       60       59\n",
       "1       A002 2005-12-23   16    77       58       76\n",
       "2       A003 2005-04-08   16    56       78       66\n",
       "3       A004 2005-09-25   16    68       71       76\n",
       "4       A005 2004-06-12   17    87       69       59\n",
       "5       A006 2005-02-27   16    67       66       49\n",
       "6       A007 2005-01-01   16    85       68       10\n",
       "7       A008 2003-03-30   18    90       41       67\n",
       "8       A009 2004-12-30   17    78       67       66"
      ]
     },
     "metadata": {},
     "output_type": "display_data"
    }
   ],
   "source": [
    "new_table"
   ]
  },
  {
   "cell_type": "code",
   "execution_count": null,
   "metadata": {},
   "outputs": [
    {
     "data": {
      "text/html": [
       "<div>\n",
       "<style scoped>\n",
       "    .dataframe tbody tr th:only-of-type {\n",
       "        vertical-align: middle;\n",
       "    }\n",
       "\n",
       "    .dataframe tbody tr th {\n",
       "        vertical-align: top;\n",
       "    }\n",
       "\n",
       "    .dataframe thead th {\n",
       "        text-align: right;\n",
       "    }\n",
       "</style>\n",
       "<table border=\"1\" class=\"dataframe\">\n",
       "  <thead>\n",
       "    <tr style=\"text-align: right;\">\n",
       "      <th></th>\n",
       "      <th>Student_id</th>\n",
       "      <th>Age</th>\n",
       "      <th>Math</th>\n",
       "      <th>Science</th>\n",
       "      <th>History</th>\n",
       "    </tr>\n",
       "  </thead>\n",
       "  <tbody>\n",
       "    <tr>\n",
       "      <th>0</th>\n",
       "      <td>A001</td>\n",
       "      <td>16</td>\n",
       "      <td>56</td>\n",
       "      <td>60</td>\n",
       "      <td>59</td>\n",
       "    </tr>\n",
       "    <tr>\n",
       "      <th>1</th>\n",
       "      <td>A002</td>\n",
       "      <td>16</td>\n",
       "      <td>77</td>\n",
       "      <td>58</td>\n",
       "      <td>76</td>\n",
       "    </tr>\n",
       "    <tr>\n",
       "      <th>2</th>\n",
       "      <td>A003</td>\n",
       "      <td>16</td>\n",
       "      <td>56</td>\n",
       "      <td>78</td>\n",
       "      <td>66</td>\n",
       "    </tr>\n",
       "    <tr>\n",
       "      <th>3</th>\n",
       "      <td>A004</td>\n",
       "      <td>16</td>\n",
       "      <td>68</td>\n",
       "      <td>71</td>\n",
       "      <td>76</td>\n",
       "    </tr>\n",
       "    <tr>\n",
       "      <th>4</th>\n",
       "      <td>A005</td>\n",
       "      <td>17</td>\n",
       "      <td>87</td>\n",
       "      <td>69</td>\n",
       "      <td>59</td>\n",
       "    </tr>\n",
       "    <tr>\n",
       "      <th>5</th>\n",
       "      <td>A006</td>\n",
       "      <td>16</td>\n",
       "      <td>67</td>\n",
       "      <td>66</td>\n",
       "      <td>49</td>\n",
       "    </tr>\n",
       "    <tr>\n",
       "      <th>6</th>\n",
       "      <td>A007</td>\n",
       "      <td>16</td>\n",
       "      <td>85</td>\n",
       "      <td>68</td>\n",
       "      <td>10</td>\n",
       "    </tr>\n",
       "    <tr>\n",
       "      <th>7</th>\n",
       "      <td>A008</td>\n",
       "      <td>18</td>\n",
       "      <td>90</td>\n",
       "      <td>41</td>\n",
       "      <td>67</td>\n",
       "    </tr>\n",
       "    <tr>\n",
       "      <th>8</th>\n",
       "      <td>A009</td>\n",
       "      <td>17</td>\n",
       "      <td>78</td>\n",
       "      <td>67</td>\n",
       "      <td>66</td>\n",
       "    </tr>\n",
       "  </tbody>\n",
       "</table>\n",
       "</div>"
      ],
      "text/plain": [
       "  Student_id  Age  Math  Science  History\n",
       "0       A001   16    56       60       59\n",
       "1       A002   16    77       58       76\n",
       "2       A003   16    56       78       66\n",
       "3       A004   16    68       71       76\n",
       "4       A005   17    87       69       59\n",
       "5       A006   16    67       66       49\n",
       "6       A007   16    85       68       10\n",
       "7       A008   18    90       41       67\n",
       "8       A009   17    78       67       66"
      ]
     },
     "metadata": {},
     "output_type": "display_data"
    }
   ],
   "source": [
    "# Dropping the DOB column\n",
    "\n",
    "new_table.drop('DOB',axis = 1,inplace = True)\n",
    "new_table"
   ]
  },
  {
   "cell_type": "code",
   "execution_count": null,
   "metadata": {},
   "outputs": [],
   "source": [
    "# Calculating the percentage and assigning it to new column 'Percentage'\n",
    "\n",
    "total = new_table['Math'] + new_table['Science'] + new_table['History']\n",
    "new_table['Percentage'] = round(((total / 300) * 100),2)"
   ]
  },
  {
   "cell_type": "code",
   "execution_count": null,
   "metadata": {},
   "outputs": [
    {
     "data": {
      "text/html": [
       "<div>\n",
       "<style scoped>\n",
       "    .dataframe tbody tr th:only-of-type {\n",
       "        vertical-align: middle;\n",
       "    }\n",
       "\n",
       "    .dataframe tbody tr th {\n",
       "        vertical-align: top;\n",
       "    }\n",
       "\n",
       "    .dataframe thead th {\n",
       "        text-align: right;\n",
       "    }\n",
       "</style>\n",
       "<table border=\"1\" class=\"dataframe\">\n",
       "  <thead>\n",
       "    <tr style=\"text-align: right;\">\n",
       "      <th></th>\n",
       "      <th>Student_id</th>\n",
       "      <th>Age</th>\n",
       "      <th>Math</th>\n",
       "      <th>Science</th>\n",
       "      <th>History</th>\n",
       "      <th>Percentage</th>\n",
       "    </tr>\n",
       "  </thead>\n",
       "  <tbody>\n",
       "    <tr>\n",
       "      <th>0</th>\n",
       "      <td>A001</td>\n",
       "      <td>16</td>\n",
       "      <td>56</td>\n",
       "      <td>60</td>\n",
       "      <td>59</td>\n",
       "      <td>58.33</td>\n",
       "    </tr>\n",
       "    <tr>\n",
       "      <th>1</th>\n",
       "      <td>A002</td>\n",
       "      <td>16</td>\n",
       "      <td>77</td>\n",
       "      <td>58</td>\n",
       "      <td>76</td>\n",
       "      <td>70.33</td>\n",
       "    </tr>\n",
       "    <tr>\n",
       "      <th>2</th>\n",
       "      <td>A003</td>\n",
       "      <td>16</td>\n",
       "      <td>56</td>\n",
       "      <td>78</td>\n",
       "      <td>66</td>\n",
       "      <td>66.67</td>\n",
       "    </tr>\n",
       "    <tr>\n",
       "      <th>3</th>\n",
       "      <td>A004</td>\n",
       "      <td>16</td>\n",
       "      <td>68</td>\n",
       "      <td>71</td>\n",
       "      <td>76</td>\n",
       "      <td>71.67</td>\n",
       "    </tr>\n",
       "    <tr>\n",
       "      <th>4</th>\n",
       "      <td>A005</td>\n",
       "      <td>17</td>\n",
       "      <td>87</td>\n",
       "      <td>69</td>\n",
       "      <td>59</td>\n",
       "      <td>71.67</td>\n",
       "    </tr>\n",
       "    <tr>\n",
       "      <th>5</th>\n",
       "      <td>A006</td>\n",
       "      <td>16</td>\n",
       "      <td>67</td>\n",
       "      <td>66</td>\n",
       "      <td>49</td>\n",
       "      <td>60.67</td>\n",
       "    </tr>\n",
       "    <tr>\n",
       "      <th>6</th>\n",
       "      <td>A007</td>\n",
       "      <td>16</td>\n",
       "      <td>85</td>\n",
       "      <td>68</td>\n",
       "      <td>10</td>\n",
       "      <td>54.33</td>\n",
       "    </tr>\n",
       "    <tr>\n",
       "      <th>7</th>\n",
       "      <td>A008</td>\n",
       "      <td>18</td>\n",
       "      <td>90</td>\n",
       "      <td>41</td>\n",
       "      <td>67</td>\n",
       "      <td>66.00</td>\n",
       "    </tr>\n",
       "    <tr>\n",
       "      <th>8</th>\n",
       "      <td>A009</td>\n",
       "      <td>17</td>\n",
       "      <td>78</td>\n",
       "      <td>67</td>\n",
       "      <td>66</td>\n",
       "      <td>70.33</td>\n",
       "    </tr>\n",
       "  </tbody>\n",
       "</table>\n",
       "</div>"
      ],
      "text/plain": [
       "  Student_id  Age  Math  Science  History  Percentage\n",
       "0       A001   16    56       60       59       58.33\n",
       "1       A002   16    77       58       76       70.33\n",
       "2       A003   16    56       78       66       66.67\n",
       "3       A004   16    68       71       76       71.67\n",
       "4       A005   17    87       69       59       71.67\n",
       "5       A006   16    67       66       49       60.67\n",
       "6       A007   16    85       68       10       54.33\n",
       "7       A008   18    90       41       67       66.00\n",
       "8       A009   17    78       67       66       70.33"
      ]
     },
     "metadata": {},
     "output_type": "display_data"
    }
   ],
   "source": [
    "new_table"
   ]
  },
  {
   "cell_type": "code",
   "execution_count": null,
   "metadata": {},
   "outputs": [
    {
     "data": {
      "text/plain": [
       "Student_id     object\n",
       "Age             int64\n",
       "Math            int64\n",
       "Science         int64\n",
       "History         int64\n",
       "Percentage    float64\n",
       "dtype: object"
      ]
     },
     "metadata": {},
     "output_type": "display_data"
    }
   ],
   "source": [
    "new_table.dtypes"
   ]
  },
  {
   "cell_type": "code",
   "execution_count": null,
   "metadata": {},
   "outputs": [],
   "source": [
    "#creating a function to add the bonus percentage if the percentage is greater than 65\n",
    "\n",
    "def bonus(row):\n",
    "    if(row['Percentage'] > 65):\n",
    "        return(row['Percentage'] + 5)\n",
    "    else:\n",
    "        return(row['Percentage'])"
   ]
  },
  {
   "cell_type": "code",
   "execution_count": null,
   "metadata": {},
   "outputs": [],
   "source": [
    "# applying the fucntion \n",
    "\n",
    "new_table['Percentage'] = new_table.apply(bonus, axis =1)"
   ]
  },
  {
   "cell_type": "code",
   "execution_count": null,
   "metadata": {},
   "outputs": [
    {
     "data": {
      "text/html": [
       "<div>\n",
       "<style scoped>\n",
       "    .dataframe tbody tr th:only-of-type {\n",
       "        vertical-align: middle;\n",
       "    }\n",
       "\n",
       "    .dataframe tbody tr th {\n",
       "        vertical-align: top;\n",
       "    }\n",
       "\n",
       "    .dataframe thead th {\n",
       "        text-align: right;\n",
       "    }\n",
       "</style>\n",
       "<table border=\"1\" class=\"dataframe\">\n",
       "  <thead>\n",
       "    <tr style=\"text-align: right;\">\n",
       "      <th></th>\n",
       "      <th>Student_id</th>\n",
       "      <th>Age</th>\n",
       "      <th>Math</th>\n",
       "      <th>Science</th>\n",
       "      <th>History</th>\n",
       "      <th>Percentage</th>\n",
       "    </tr>\n",
       "  </thead>\n",
       "  <tbody>\n",
       "    <tr>\n",
       "      <th>0</th>\n",
       "      <td>A001</td>\n",
       "      <td>16</td>\n",
       "      <td>56</td>\n",
       "      <td>60</td>\n",
       "      <td>59</td>\n",
       "      <td>58.33</td>\n",
       "    </tr>\n",
       "    <tr>\n",
       "      <th>1</th>\n",
       "      <td>A002</td>\n",
       "      <td>16</td>\n",
       "      <td>77</td>\n",
       "      <td>58</td>\n",
       "      <td>76</td>\n",
       "      <td>75.33</td>\n",
       "    </tr>\n",
       "    <tr>\n",
       "      <th>2</th>\n",
       "      <td>A003</td>\n",
       "      <td>16</td>\n",
       "      <td>56</td>\n",
       "      <td>78</td>\n",
       "      <td>66</td>\n",
       "      <td>71.67</td>\n",
       "    </tr>\n",
       "    <tr>\n",
       "      <th>3</th>\n",
       "      <td>A004</td>\n",
       "      <td>16</td>\n",
       "      <td>68</td>\n",
       "      <td>71</td>\n",
       "      <td>76</td>\n",
       "      <td>76.67</td>\n",
       "    </tr>\n",
       "    <tr>\n",
       "      <th>4</th>\n",
       "      <td>A005</td>\n",
       "      <td>17</td>\n",
       "      <td>87</td>\n",
       "      <td>69</td>\n",
       "      <td>59</td>\n",
       "      <td>76.67</td>\n",
       "    </tr>\n",
       "    <tr>\n",
       "      <th>5</th>\n",
       "      <td>A006</td>\n",
       "      <td>16</td>\n",
       "      <td>67</td>\n",
       "      <td>66</td>\n",
       "      <td>49</td>\n",
       "      <td>60.67</td>\n",
       "    </tr>\n",
       "    <tr>\n",
       "      <th>6</th>\n",
       "      <td>A007</td>\n",
       "      <td>16</td>\n",
       "      <td>85</td>\n",
       "      <td>68</td>\n",
       "      <td>10</td>\n",
       "      <td>54.33</td>\n",
       "    </tr>\n",
       "    <tr>\n",
       "      <th>7</th>\n",
       "      <td>A008</td>\n",
       "      <td>18</td>\n",
       "      <td>90</td>\n",
       "      <td>41</td>\n",
       "      <td>67</td>\n",
       "      <td>71.00</td>\n",
       "    </tr>\n",
       "    <tr>\n",
       "      <th>8</th>\n",
       "      <td>A009</td>\n",
       "      <td>17</td>\n",
       "      <td>78</td>\n",
       "      <td>67</td>\n",
       "      <td>66</td>\n",
       "      <td>75.33</td>\n",
       "    </tr>\n",
       "  </tbody>\n",
       "</table>\n",
       "</div>"
      ],
      "text/plain": [
       "  Student_id  Age  Math  Science  History  Percentage\n",
       "0       A001   16    56       60       59       58.33\n",
       "1       A002   16    77       58       76       75.33\n",
       "2       A003   16    56       78       66       71.67\n",
       "3       A004   16    68       71       76       76.67\n",
       "4       A005   17    87       69       59       76.67\n",
       "5       A006   16    67       66       49       60.67\n",
       "6       A007   16    85       68       10       54.33\n",
       "7       A008   18    90       41       67       71.00\n",
       "8       A009   17    78       67       66       75.33"
      ]
     },
     "metadata": {},
     "output_type": "display_data"
    }
   ],
   "source": [
    "new_table"
   ]
  },
  {
   "cell_type": "code",
   "execution_count": null,
   "metadata": {},
   "outputs": [],
   "source": [
    "# creating a fucntion to update the student id if the percntage is less than 60 \"replace the student_id from A TO X\"\n",
    "\n",
    "def update_student_id(row):\n",
    "    if(row['Percentage'] < 60):\n",
    "        return (row['Student_id'].replace(\"A\", \"X\", 1))\n",
    "    else:\n",
    "        return (row['Student_id'])"
   ]
  },
  {
   "cell_type": "code",
   "execution_count": null,
   "metadata": {},
   "outputs": [],
   "source": [
    "# applying the fucntion\n",
    "\n",
    "new_table['Student_id'] = new_table.apply(update_student_id, axis =1)"
   ]
  },
  {
   "cell_type": "code",
   "execution_count": null,
   "metadata": {},
   "outputs": [
    {
     "data": {
      "text/html": [
       "<div>\n",
       "<style scoped>\n",
       "    .dataframe tbody tr th:only-of-type {\n",
       "        vertical-align: middle;\n",
       "    }\n",
       "\n",
       "    .dataframe tbody tr th {\n",
       "        vertical-align: top;\n",
       "    }\n",
       "\n",
       "    .dataframe thead th {\n",
       "        text-align: right;\n",
       "    }\n",
       "</style>\n",
       "<table border=\"1\" class=\"dataframe\">\n",
       "  <thead>\n",
       "    <tr style=\"text-align: right;\">\n",
       "      <th></th>\n",
       "      <th>Student_id</th>\n",
       "      <th>Age</th>\n",
       "      <th>Math</th>\n",
       "      <th>Science</th>\n",
       "      <th>History</th>\n",
       "      <th>Percentage</th>\n",
       "    </tr>\n",
       "  </thead>\n",
       "  <tbody>\n",
       "    <tr>\n",
       "      <th>0</th>\n",
       "      <td>X001</td>\n",
       "      <td>16</td>\n",
       "      <td>56</td>\n",
       "      <td>60</td>\n",
       "      <td>59</td>\n",
       "      <td>58.33</td>\n",
       "    </tr>\n",
       "    <tr>\n",
       "      <th>1</th>\n",
       "      <td>A002</td>\n",
       "      <td>16</td>\n",
       "      <td>77</td>\n",
       "      <td>58</td>\n",
       "      <td>76</td>\n",
       "      <td>75.33</td>\n",
       "    </tr>\n",
       "    <tr>\n",
       "      <th>2</th>\n",
       "      <td>A003</td>\n",
       "      <td>16</td>\n",
       "      <td>56</td>\n",
       "      <td>78</td>\n",
       "      <td>66</td>\n",
       "      <td>71.67</td>\n",
       "    </tr>\n",
       "    <tr>\n",
       "      <th>3</th>\n",
       "      <td>A004</td>\n",
       "      <td>16</td>\n",
       "      <td>68</td>\n",
       "      <td>71</td>\n",
       "      <td>76</td>\n",
       "      <td>76.67</td>\n",
       "    </tr>\n",
       "    <tr>\n",
       "      <th>4</th>\n",
       "      <td>A005</td>\n",
       "      <td>17</td>\n",
       "      <td>87</td>\n",
       "      <td>69</td>\n",
       "      <td>59</td>\n",
       "      <td>76.67</td>\n",
       "    </tr>\n",
       "    <tr>\n",
       "      <th>5</th>\n",
       "      <td>A006</td>\n",
       "      <td>16</td>\n",
       "      <td>67</td>\n",
       "      <td>66</td>\n",
       "      <td>49</td>\n",
       "      <td>60.67</td>\n",
       "    </tr>\n",
       "    <tr>\n",
       "      <th>6</th>\n",
       "      <td>X007</td>\n",
       "      <td>16</td>\n",
       "      <td>85</td>\n",
       "      <td>68</td>\n",
       "      <td>10</td>\n",
       "      <td>54.33</td>\n",
       "    </tr>\n",
       "    <tr>\n",
       "      <th>7</th>\n",
       "      <td>A008</td>\n",
       "      <td>18</td>\n",
       "      <td>90</td>\n",
       "      <td>41</td>\n",
       "      <td>67</td>\n",
       "      <td>71.00</td>\n",
       "    </tr>\n",
       "    <tr>\n",
       "      <th>8</th>\n",
       "      <td>A009</td>\n",
       "      <td>17</td>\n",
       "      <td>78</td>\n",
       "      <td>67</td>\n",
       "      <td>66</td>\n",
       "      <td>75.33</td>\n",
       "    </tr>\n",
       "  </tbody>\n",
       "</table>\n",
       "</div>"
      ],
      "text/plain": [
       "  Student_id  Age  Math  Science  History  Percentage\n",
       "0       X001   16    56       60       59       58.33\n",
       "1       A002   16    77       58       76       75.33\n",
       "2       A003   16    56       78       66       71.67\n",
       "3       A004   16    68       71       76       76.67\n",
       "4       A005   17    87       69       59       76.67\n",
       "5       A006   16    67       66       49       60.67\n",
       "6       X007   16    85       68       10       54.33\n",
       "7       A008   18    90       41       67       71.00\n",
       "8       A009   17    78       67       66       75.33"
      ]
     },
     "metadata": {},
     "output_type": "display_data"
    }
   ],
   "source": [
    "new_table"
   ]
  }
 ],
 "metadata": {
  "interpreter": {
   "hash": "40d3a090f54c6569ab1632332b64b2c03c39dcf918b08424e98f38b5ae0af88f"
  },
  "kernelspec": {
   "display_name": "Python 3.8.8 ('base')",
   "language": "python",
   "name": "python3"
  },
  "language_info": {
   "codemirror_mode": {
    "name": "ipython",
    "version": 3
   },
   "file_extension": ".py",
   "mimetype": "text/x-python",
   "name": "python",
   "nbconvert_exporter": "python",
   "pygments_lexer": "ipython3",
   "version": "3.8.8"
  },
  "orig_nbformat": 4
 },
 "nbformat": 4,
 "nbformat_minor": 2
}
