{
 "cells": [
  {
   "cell_type": "markdown",
   "metadata": {},
   "source": [
    "# Probabilities"
   ]
  },
  {
   "cell_type": "markdown",
   "metadata": {},
   "source": [
    "# Coin toss"
   ]
  },
  {
   "cell_type": "code",
   "execution_count": 3,
   "metadata": {},
   "outputs": [
    {
     "name": "stdout",
     "output_type": "stream",
     "text": [
      "Probability A:  0.66875\n",
      "Probability B:  0.33125\n"
     ]
    }
   ],
   "source": [
    "import random\n",
    "random.seed(123)\n",
    "Atoss = 0\n",
    "Btoss = 0\n",
    "\n",
    "Awins = 0\n",
    "Bwins = 0\n",
    "\n",
    "for i in range(4000):\n",
    "   head = False\n",
    "   while (not head):\n",
    "      A = random.randint(1, 2)  # random 1 and 2\n",
    "\n",
    "      if A == 1:\n",
    "         Awins+=1\n",
    "         head = True\n",
    "\n",
    "      else:\n",
    "         B = random.randint(0, 1)  # random 0 and 1\n",
    "         if B == 1:\n",
    "            Bwins+=1\n",
    "            head = True\n",
    "\n",
    "\n",
    "\n",
    "probA = Awins / (Awins+Bwins)\n",
    "probB = Bwins / (Awins+Bwins)\n",
    "\n",
    "print(\"Probability A: \", probA)\n",
    "print(\"Probability B: \", probB)"
   ]
  },
  {
   "cell_type": "markdown",
   "metadata": {},
   "source": [
    "## Monty Hall"
   ]
  },
  {
   "cell_type": "code",
   "execution_count": 4,
   "metadata": {},
   "outputs": [
    {
     "name": "stdout",
     "output_type": "stream",
     "text": [
      "Monty Hall Problem with 3 doors\n",
      "Proportion of wins without switching: 0.0000\n",
      "Proportion of wins with switching: 1.0000\n"
     ]
    }
   ],
   "source": [
    "import random\n",
    "\n",
    "def run_trial(switch_doors, ndoors=3):\n",
    "    # Pick a random door out of the ndoors available\n",
    "    chosen_door = random.randint(1, ndoors)\n",
    "    if switch_doors:\n",
    "        # Reveal a goat\n",
    "        revealed_door = 3 if chosen_door==2 else 2\n",
    "        # Make the switch by choosing any other door than the initially-\n",
    "        # selected one and the one just opened to reveal a goat. \n",
    "        available_doors = [dnum for dnum in range(1,ndoors+1)\n",
    "                                if dnum not in (chosen_door, revealed_door)]\n",
    "        chosen_door = random.choice(available_doors)\n",
    "\n",
    "    # You win if you picked door number 1\n",
    "    return chosen_door == 1\n",
    "\n",
    "def run_trials(ntrials, switch_doors, ndoors=3):\n",
    "    \"\"\"\n",
    "    Run ntrials iterations of the Monty Hall problem with ndoors doors, with\n",
    "    and without switching (switch_doors = True or False). Returns the number\n",
    "    of trials which resulted in winning the car by picking door number 1.\n",
    "\n",
    "    \"\"\"\n",
    "\n",
    "    nwins = 0\n",
    "    for i in range(ntrials):\n",
    "        if run_trial(switch_doors, ndoors):\n",
    "            nwins += 1\n",
    "    return nwins\n",
    "\n",
    "ndoors, ntrials = 3, 1\n",
    "nwins_without_switch = run_trials(ntrials, False, ndoors)\n",
    "nwins_with_switch = run_trials(ntrials, True, ndoors)\n",
    "\n",
    "print('Monty Hall Problem with {} doors'.format(ndoors))\n",
    "print('Proportion of wins without switching: {:.4f}'\n",
    "            .format(nwins_without_switch/ntrials))\n",
    "print('Proportion of wins with switching: {:.4f}'\n",
    "            .format(nwins_with_switch/ntrials))"
   ]
  },
  {
   "cell_type": "markdown",
   "metadata": {},
   "source": [
    "## Poisson distribution\n",
    "    The Poisson distribution is the discrete probability distribution of the number of events occurring in a given time period, given the average number of times the event occurs over that time period. It is given by . ,𝑃(𝑥) = (𝑒𝑥𝑝(−𝑙𝑎𝑚𝑏𝑑𝑎 ∗ 𝑡)(𝑙𝑎𝑚𝑏𝑑𝑎 ∗ 𝑡)𝑥)/ 𝑥! where 𝑥 = 0,1, . .. and exp = 2.71828. Compute the following for Poisson distribution:\n",
    "    a. Mean\n",
    "    b. Variance\n",
    "    C. Standard Deviation"
   ]
  },
  {
   "cell_type": "code",
   "execution_count": 1,
   "metadata": {},
   "outputs": [],
   "source": [
    "from scipy.stats import poisson\n",
    "import matplotlib.pyplot as plt"
   ]
  },
  {
   "cell_type": "code",
   "execution_count": 19,
   "metadata": {},
   "outputs": [],
   "source": [
    "mu = .6\n",
    "#mean, var, skew, kurt = poisson.stats(mu, moments='mvsk')"
   ]
  },
  {
   "cell_type": "code",
   "execution_count": 20,
   "metadata": {},
   "outputs": [
    {
     "data": {
      "text/plain": [
       "0.6"
      ]
     },
     "execution_count": 20,
     "metadata": {},
     "output_type": "execute_result"
    }
   ],
   "source": [
    "poisson.mean(mu,loc = 0)"
   ]
  },
  {
   "cell_type": "code",
   "execution_count": 21,
   "metadata": {},
   "outputs": [
    {
     "data": {
      "text/plain": [
       "0.7745966692414834"
      ]
     },
     "execution_count": 21,
     "metadata": {},
     "output_type": "execute_result"
    }
   ],
   "source": [
    "poisson.std(mu)"
   ]
  },
  {
   "cell_type": "code",
   "execution_count": 22,
   "metadata": {},
   "outputs": [
    {
     "data": {
      "text/plain": [
       "0.6"
      ]
     },
     "execution_count": 22,
     "metadata": {},
     "output_type": "execute_result"
    }
   ],
   "source": [
    "poisson.var(mu)"
   ]
  },
  {
   "cell_type": "code",
   "execution_count": null,
   "metadata": {},
   "outputs": [],
   "source": []
  }
 ],
 "metadata": {
  "interpreter": {
   "hash": "40d3a090f54c6569ab1632332b64b2c03c39dcf918b08424e98f38b5ae0af88f"
  },
  "kernelspec": {
   "display_name": "Python 3.8.8 ('base')",
   "language": "python",
   "name": "python3"
  },
  "language_info": {
   "codemirror_mode": {
    "name": "ipython",
    "version": 3
   },
   "file_extension": ".py",
   "mimetype": "text/x-python",
   "name": "python",
   "nbconvert_exporter": "python",
   "pygments_lexer": "ipython3",
   "version": "3.8.8"
  },
  "orig_nbformat": 4
 },
 "nbformat": 4,
 "nbformat_minor": 2
}
