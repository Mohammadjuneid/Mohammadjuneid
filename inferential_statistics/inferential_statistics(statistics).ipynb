{
 "cells": [
  {
   "cell_type": "markdown",
   "metadata": {},
   "source": [
    "# Statistics"
   ]
  },
  {
   "cell_type": "code",
   "execution_count": 2,
   "metadata": {},
   "outputs": [],
   "source": [
    "import pandas as pd \n",
    "import numpy as np\n",
    "import plotly.express as px\n",
    "import plotly.graph_objects as go\n",
    "import seaborn as sns\n",
    "import statistics as stat"
   ]
  },
  {
   "cell_type": "code",
   "execution_count": 3,
   "metadata": {
    "pycharm": {
     "name": "#%%\n"
    }
   },
   "outputs": [],
   "source": [
    "# Read the data in pandas dataframe and print the head.\n",
    "df = pd.read_csv('laptop_data - Sheet1.csv')"
   ]
  },
  {
   "cell_type": "code",
   "execution_count": 4,
   "metadata": {
    "pycharm": {
     "name": "#%%\n"
    }
   },
   "outputs": [
    {
     "data": {
      "text/html": [
       "<div>\n",
       "<style scoped>\n",
       "    .dataframe tbody tr th:only-of-type {\n",
       "        vertical-align: middle;\n",
       "    }\n",
       "\n",
       "    .dataframe tbody tr th {\n",
       "        vertical-align: top;\n",
       "    }\n",
       "\n",
       "    .dataframe thead th {\n",
       "        text-align: right;\n",
       "    }\n",
       "</style>\n",
       "<table border=\"1\" class=\"dataframe\">\n",
       "  <thead>\n",
       "    <tr style=\"text-align: right;\">\n",
       "      <th></th>\n",
       "      <th>index</th>\n",
       "      <th>company</th>\n",
       "      <th>Operating System</th>\n",
       "      <th>Screen Size</th>\n",
       "      <th>battery life (in hours)</th>\n",
       "      <th>Processor</th>\n",
       "      <th>num-of-cores</th>\n",
       "      <th>Graphic support index</th>\n",
       "      <th>price</th>\n",
       "    </tr>\n",
       "  </thead>\n",
       "  <tbody>\n",
       "    <tr>\n",
       "      <th>0</th>\n",
       "      <td>0</td>\n",
       "      <td>Samsung</td>\n",
       "      <td>Windows</td>\n",
       "      <td>14.766667</td>\n",
       "      <td>21.1000</td>\n",
       "      <td>Intel</td>\n",
       "      <td>four</td>\n",
       "      <td>111</td>\n",
       "      <td>1350</td>\n",
       "    </tr>\n",
       "    <tr>\n",
       "      <th>1</th>\n",
       "      <td>1</td>\n",
       "      <td>Samsung</td>\n",
       "      <td>Linux</td>\n",
       "      <td>15.750000</td>\n",
       "      <td>21.1000</td>\n",
       "      <td>Intel</td>\n",
       "      <td>four</td>\n",
       "      <td>111</td>\n",
       "      <td>1650</td>\n",
       "    </tr>\n",
       "    <tr>\n",
       "      <th>2</th>\n",
       "      <td>46</td>\n",
       "      <td>HP</td>\n",
       "      <td>Windows</td>\n",
       "      <td>18.666667</td>\n",
       "      <td>26.0125</td>\n",
       "      <td>AMD</td>\n",
       "      <td>eight</td>\n",
       "      <td>184</td>\n",
       "      <td>4096</td>\n",
       "    </tr>\n",
       "    <tr>\n",
       "      <th>3</th>\n",
       "      <td>3</td>\n",
       "      <td>Apple</td>\n",
       "      <td>Mac</td>\n",
       "      <td>16.566667</td>\n",
       "      <td>22.0750</td>\n",
       "      <td>Intel</td>\n",
       "      <td>four</td>\n",
       "      <td>102</td>\n",
       "      <td>1395</td>\n",
       "    </tr>\n",
       "    <tr>\n",
       "      <th>4</th>\n",
       "      <td>4</td>\n",
       "      <td>Apple</td>\n",
       "      <td>Mac</td>\n",
       "      <td>16.633333</td>\n",
       "      <td>22.0750</td>\n",
       "      <td>Intel</td>\n",
       "      <td>five</td>\n",
       "      <td>115</td>\n",
       "      <td>1745</td>\n",
       "    </tr>\n",
       "  </tbody>\n",
       "</table>\n",
       "</div>"
      ],
      "text/plain": [
       "   index  company Operating System  Screen Size  battery life (in hours)  \\\n",
       "0      0  Samsung          Windows    14.766667                  21.1000   \n",
       "1      1  Samsung            Linux    15.750000                  21.1000   \n",
       "2     46       HP          Windows    18.666667                  26.0125   \n",
       "3      3    Apple              Mac    16.566667                  22.0750   \n",
       "4      4    Apple              Mac    16.633333                  22.0750   \n",
       "\n",
       "  Processor num-of-cores  Graphic support index  price  \n",
       "0     Intel         four                    111   1350  \n",
       "1     Intel         four                    111   1650  \n",
       "2       AMD        eight                    184   4096  \n",
       "3     Intel         four                    102   1395  \n",
       "4     Intel         five                    115   1745  "
      ]
     },
     "execution_count": 4,
     "metadata": {},
     "output_type": "execute_result"
    }
   ],
   "source": [
    "df.head()"
   ]
  },
  {
   "cell_type": "code",
   "execution_count": 5,
   "metadata": {
    "pycharm": {
     "name": "#%%\n"
    }
   },
   "outputs": [
    {
     "data": {
      "text/html": [
       "<div>\n",
       "<style scoped>\n",
       "    .dataframe tbody tr th:only-of-type {\n",
       "        vertical-align: middle;\n",
       "    }\n",
       "\n",
       "    .dataframe tbody tr th {\n",
       "        vertical-align: top;\n",
       "    }\n",
       "\n",
       "    .dataframe thead th {\n",
       "        text-align: right;\n",
       "    }\n",
       "</style>\n",
       "<table border=\"1\" class=\"dataframe\">\n",
       "  <thead>\n",
       "    <tr style=\"text-align: right;\">\n",
       "      <th></th>\n",
       "      <th>company</th>\n",
       "      <th>Operating System</th>\n",
       "      <th>Screen Size</th>\n",
       "      <th>battery life (in hours)</th>\n",
       "      <th>Processor</th>\n",
       "      <th>num-of-cores</th>\n",
       "      <th>Graphic support index</th>\n",
       "      <th>price</th>\n",
       "    </tr>\n",
       "  </thead>\n",
       "  <tbody>\n",
       "    <tr>\n",
       "      <th>0</th>\n",
       "      <td>Samsung</td>\n",
       "      <td>Windows</td>\n",
       "      <td>14.766667</td>\n",
       "      <td>21.1000</td>\n",
       "      <td>Intel</td>\n",
       "      <td>four</td>\n",
       "      <td>111</td>\n",
       "      <td>1350</td>\n",
       "    </tr>\n",
       "    <tr>\n",
       "      <th>1</th>\n",
       "      <td>Samsung</td>\n",
       "      <td>Linux</td>\n",
       "      <td>15.750000</td>\n",
       "      <td>21.1000</td>\n",
       "      <td>Intel</td>\n",
       "      <td>four</td>\n",
       "      <td>111</td>\n",
       "      <td>1650</td>\n",
       "    </tr>\n",
       "    <tr>\n",
       "      <th>2</th>\n",
       "      <td>HP</td>\n",
       "      <td>Windows</td>\n",
       "      <td>18.666667</td>\n",
       "      <td>26.0125</td>\n",
       "      <td>AMD</td>\n",
       "      <td>eight</td>\n",
       "      <td>184</td>\n",
       "      <td>4096</td>\n",
       "    </tr>\n",
       "    <tr>\n",
       "      <th>3</th>\n",
       "      <td>Apple</td>\n",
       "      <td>Mac</td>\n",
       "      <td>16.566667</td>\n",
       "      <td>22.0750</td>\n",
       "      <td>Intel</td>\n",
       "      <td>four</td>\n",
       "      <td>102</td>\n",
       "      <td>1395</td>\n",
       "    </tr>\n",
       "    <tr>\n",
       "      <th>4</th>\n",
       "      <td>Apple</td>\n",
       "      <td>Mac</td>\n",
       "      <td>16.633333</td>\n",
       "      <td>22.0750</td>\n",
       "      <td>Intel</td>\n",
       "      <td>five</td>\n",
       "      <td>115</td>\n",
       "      <td>1745</td>\n",
       "    </tr>\n",
       "    <tr>\n",
       "      <th>...</th>\n",
       "      <td>...</td>\n",
       "      <td>...</td>\n",
       "      <td>...</td>\n",
       "      <td>...</td>\n",
       "      <td>...</td>\n",
       "      <td>...</td>\n",
       "      <td>...</td>\n",
       "      <td>...</td>\n",
       "    </tr>\n",
       "    <tr>\n",
       "      <th>56</th>\n",
       "      <td>Lenovo</td>\n",
       "      <td>Windows</td>\n",
       "      <td>16.216667</td>\n",
       "      <td>21.4625</td>\n",
       "      <td>Intel</td>\n",
       "      <td>four</td>\n",
       "      <td>85</td>\n",
       "      <td>798</td>\n",
       "    </tr>\n",
       "    <tr>\n",
       "      <th>57</th>\n",
       "      <td>Lenovo</td>\n",
       "      <td>Windows</td>\n",
       "      <td>16.216667</td>\n",
       "      <td>21.4625</td>\n",
       "      <td>Intel</td>\n",
       "      <td>four</td>\n",
       "      <td>52</td>\n",
       "      <td>800</td>\n",
       "    </tr>\n",
       "    <tr>\n",
       "      <th>58</th>\n",
       "      <td>Lenovo</td>\n",
       "      <td>Windows</td>\n",
       "      <td>17.383333</td>\n",
       "      <td>21.4625</td>\n",
       "      <td>Intel</td>\n",
       "      <td>four</td>\n",
       "      <td>100</td>\n",
       "      <td>1000</td>\n",
       "    </tr>\n",
       "    <tr>\n",
       "      <th>59</th>\n",
       "      <td>Asus</td>\n",
       "      <td>Linux</td>\n",
       "      <td>17.383333</td>\n",
       "      <td>23.6000</td>\n",
       "      <td>Intel</td>\n",
       "      <td>four</td>\n",
       "      <td>114</td>\n",
       "      <td>1294</td>\n",
       "    </tr>\n",
       "    <tr>\n",
       "      <th>60</th>\n",
       "      <td>Asus</td>\n",
       "      <td>Linux</td>\n",
       "      <td>104.300000</td>\n",
       "      <td>23.6000</td>\n",
       "      <td>AMD</td>\n",
       "      <td>four</td>\n",
       "      <td>114</td>\n",
       "      <td>1342</td>\n",
       "    </tr>\n",
       "  </tbody>\n",
       "</table>\n",
       "<p>61 rows × 8 columns</p>\n",
       "</div>"
      ],
      "text/plain": [
       "    company Operating System  Screen Size  battery life (in hours) Processor  \\\n",
       "0   Samsung          Windows    14.766667                  21.1000     Intel   \n",
       "1   Samsung            Linux    15.750000                  21.1000     Intel   \n",
       "2        HP          Windows    18.666667                  26.0125       AMD   \n",
       "3     Apple              Mac    16.566667                  22.0750     Intel   \n",
       "4     Apple              Mac    16.633333                  22.0750     Intel   \n",
       "..      ...              ...          ...                      ...       ...   \n",
       "56   Lenovo          Windows    16.216667                  21.4625     Intel   \n",
       "57   Lenovo          Windows    16.216667                  21.4625     Intel   \n",
       "58   Lenovo          Windows    17.383333                  21.4625     Intel   \n",
       "59     Asus            Linux    17.383333                  23.6000     Intel   \n",
       "60     Asus            Linux   104.300000                  23.6000       AMD   \n",
       "\n",
       "   num-of-cores  Graphic support index  price  \n",
       "0          four                    111   1350  \n",
       "1          four                    111   1650  \n",
       "2         eight                    184   4096  \n",
       "3          four                    102   1395  \n",
       "4          five                    115   1745  \n",
       "..          ...                    ...    ...  \n",
       "56         four                     85    798  \n",
       "57         four                     52    800  \n",
       "58         four                    100   1000  \n",
       "59         four                    114   1294  \n",
       "60         four                    114   1342  \n",
       "\n",
       "[61 rows x 8 columns]"
      ]
     },
     "execution_count": 5,
     "metadata": {},
     "output_type": "execute_result"
    }
   ],
   "source": [
    "df.drop('index',inplace = True,axis = 1)\n",
    "df"
   ]
  },
  {
   "cell_type": "code",
   "execution_count": 6,
   "metadata": {
    "pycharm": {
     "name": "#%%\n"
    }
   },
   "outputs": [
    {
     "data": {
      "text/plain": [
       "company                     object\n",
       "Operating System            object\n",
       "Screen Size                float64\n",
       "battery life (in hours)    float64\n",
       "Processor                   object\n",
       "num-of-cores                object\n",
       "Graphic support index        int64\n",
       "price                        int64\n",
       "dtype: object"
      ]
     },
     "execution_count": 6,
     "metadata": {},
     "output_type": "execute_result"
    }
   ],
   "source": [
    "# List down type of data types for each of the variables in columns\n",
    "df.dtypes"
   ]
  },
  {
   "cell_type": "markdown",
   "metadata": {
    "pycharm": {
     "name": "#%% md\n"
    }
   },
   "source": [
    "### Compute the mean, median and mode of columns wherever applicable"
   ]
  },
  {
   "cell_type": "code",
   "execution_count": 7,
   "metadata": {
    "pycharm": {
     "name": "#%%\n"
    }
   },
   "outputs": [
    {
     "name": "stderr",
     "output_type": "stream",
     "text": [
      "<ipython-input-7-c61f0c8f89b5>:1: FutureWarning: Dropping of nuisance columns in DataFrame reductions (with 'numeric_only=None') is deprecated; in a future version this will raise TypeError.  Select only valid columns before calling the reduction.\n",
      "  df.mean()\n"
     ]
    },
    {
     "data": {
      "text/plain": [
       "Screen Size                  17.365027\n",
       "battery life (in hours)      21.637295\n",
       "Graphic support index       107.852459\n",
       "price                      1463.213115\n",
       "dtype: float64"
      ]
     },
     "execution_count": 7,
     "metadata": {},
     "output_type": "execute_result"
    }
   ],
   "source": [
    "df.mean()"
   ]
  },
  {
   "cell_type": "code",
   "execution_count": 8,
   "metadata": {
    "pycharm": {
     "name": "#%%\n"
    }
   },
   "outputs": [
    {
     "name": "stdout",
     "output_type": "stream",
     "text": [
      "median of price = 1000.0\n",
      "median of battery life (in hours) = 21.4\n",
      "median of Graphic support index = 100.0\n",
      "median of Screen Size = 16.08333333\n"
     ]
    }
   ],
   "source": [
    "print(f\"median of price = {np.median(df['price'])}\")\n",
    "print(f\"median of battery life (in hours) = {np.median(df['battery life (in hours)'])}\")\n",
    "print(f\"median of Graphic support index = {np.median(df['Graphic support index'])}\")\n",
    "print(f\"median of Screen Size = {np.median(df['Screen Size'])}\")"
   ]
  },
  {
   "cell_type": "code",
   "execution_count": 9,
   "metadata": {
    "pycharm": {
     "name": "#%%\n"
    }
   },
   "outputs": [
    {
     "name": "stdout",
     "output_type": "stream",
     "text": [
      "mode of price = 0\n",
      "mode of battery life (in hours) = 19.6625\n",
      "mode of Graphic support index = 68\n",
      "mode of Screen Size = 15.75\n"
     ]
    }
   ],
   "source": [
    "print(f\"mode of price = {stat.mode(df['price'])}\")\n",
    "print(f\"mode of battery life (in hours) = {stat.mode(df['battery life (in hours)'])}\")\n",
    "print(f\"mode of Graphic support index = {stat.mode(df['Graphic support index'])}\")\n",
    "print(f\"mode of Screen Size = {stat.mode(df['Screen Size'])}\")"
   ]
  },
  {
   "cell_type": "code",
   "execution_count": 10,
   "metadata": {
    "pycharm": {
     "name": "#%%\n"
    }
   },
   "outputs": [
    {
     "data": {
      "text/html": [
       "<div>\n",
       "<style scoped>\n",
       "    .dataframe tbody tr th:only-of-type {\n",
       "        vertical-align: middle;\n",
       "    }\n",
       "\n",
       "    .dataframe tbody tr th {\n",
       "        vertical-align: top;\n",
       "    }\n",
       "\n",
       "    .dataframe thead th {\n",
       "        text-align: right;\n",
       "    }\n",
       "</style>\n",
       "<table border=\"1\" class=\"dataframe\">\n",
       "  <thead>\n",
       "    <tr style=\"text-align: right;\">\n",
       "      <th></th>\n",
       "      <th>Screen Size</th>\n",
       "      <th>battery life (in hours)</th>\n",
       "      <th>Graphic support index</th>\n",
       "      <th>price</th>\n",
       "    </tr>\n",
       "  </thead>\n",
       "  <tbody>\n",
       "    <tr>\n",
       "      <th>count</th>\n",
       "      <td>61.000000</td>\n",
       "      <td>61.000000</td>\n",
       "      <td>61.000000</td>\n",
       "      <td>61.000000</td>\n",
       "    </tr>\n",
       "    <tr>\n",
       "      <th>mean</th>\n",
       "      <td>17.365027</td>\n",
       "      <td>21.637295</td>\n",
       "      <td>107.852459</td>\n",
       "      <td>1463.213115</td>\n",
       "    </tr>\n",
       "    <tr>\n",
       "      <th>std</th>\n",
       "      <td>12.093042</td>\n",
       "      <td>1.752731</td>\n",
       "      <td>53.524398</td>\n",
       "      <td>1153.180170</td>\n",
       "    </tr>\n",
       "    <tr>\n",
       "      <th>min</th>\n",
       "      <td>-15.750000</td>\n",
       "      <td>17.637500</td>\n",
       "      <td>48.000000</td>\n",
       "      <td>0.000000</td>\n",
       "    </tr>\n",
       "    <tr>\n",
       "      <th>25%</th>\n",
       "      <td>15.750000</td>\n",
       "      <td>19.887500</td>\n",
       "      <td>68.000000</td>\n",
       "      <td>665.000000</td>\n",
       "    </tr>\n",
       "    <tr>\n",
       "      <th>50%</th>\n",
       "      <td>16.083333</td>\n",
       "      <td>21.400000</td>\n",
       "      <td>100.000000</td>\n",
       "      <td>1000.000000</td>\n",
       "    </tr>\n",
       "    <tr>\n",
       "      <th>75%</th>\n",
       "      <td>17.000000</td>\n",
       "      <td>22.162500</td>\n",
       "      <td>123.000000</td>\n",
       "      <td>1745.000000</td>\n",
       "    </tr>\n",
       "    <tr>\n",
       "      <th>max</th>\n",
       "      <td>104.300000</td>\n",
       "      <td>26.012500</td>\n",
       "      <td>288.000000</td>\n",
       "      <td>4540.000000</td>\n",
       "    </tr>\n",
       "  </tbody>\n",
       "</table>\n",
       "</div>"
      ],
      "text/plain": [
       "       Screen Size  battery life (in hours)  Graphic support index  \\\n",
       "count    61.000000                61.000000              61.000000   \n",
       "mean     17.365027                21.637295             107.852459   \n",
       "std      12.093042                 1.752731              53.524398   \n",
       "min     -15.750000                17.637500              48.000000   \n",
       "25%      15.750000                19.887500              68.000000   \n",
       "50%      16.083333                21.400000             100.000000   \n",
       "75%      17.000000                22.162500             123.000000   \n",
       "max     104.300000                26.012500             288.000000   \n",
       "\n",
       "             price  \n",
       "count    61.000000  \n",
       "mean   1463.213115  \n",
       "std    1153.180170  \n",
       "min       0.000000  \n",
       "25%     665.000000  \n",
       "50%    1000.000000  \n",
       "75%    1745.000000  \n",
       "max    4540.000000  "
      ]
     },
     "execution_count": 10,
     "metadata": {},
     "output_type": "execute_result"
    }
   ],
   "source": [
    "# Describe the dataframe using pandas’ native function\n",
    "df.describe()"
   ]
  },
  {
   "cell_type": "markdown",
   "metadata": {
    "pycharm": {
     "name": "#%% md\n"
    }
   },
   "source": [
    "### Compute all the spread variable wherever applicable \n",
    "    including variance, standard deviation, absolute deviation, 1st quartile, 2nd quartile, 3rd quartile and \n",
    "    interquartile range"
   ]
  },
  {
   "cell_type": "code",
   "execution_count": 11,
   "metadata": {
    "pycharm": {
     "name": "#%%\n"
    }
   },
   "outputs": [
    {
     "name": "stdout",
     "output_type": "stream",
     "text": [
      "146.24165467256398\n",
      "3.0720650614754095\n",
      "2864.8612021857925\n",
      "1329824.5038251365\n"
     ]
    }
   ],
   "source": [
    "print (stat.variance(df['Screen Size']))\n",
    "print (stat.variance(df['battery life (in hours)']))\n",
    "print (stat.variance(df['Graphic support index']))\n",
    "print (stat.variance(df['price']))"
   ]
  },
  {
   "cell_type": "code",
   "execution_count": 12,
   "metadata": {
    "pycharm": {
     "name": "#%%\n"
    }
   },
   "outputs": [
    {
     "name": "stdout",
     "output_type": "stream",
     "text": [
      "1143.6888134991464\n",
      "11.993508681682934\n",
      "1.7383047313851903\n",
      "53.08386067765835\n"
     ]
    }
   ],
   "source": [
    "print(np.std(df['price']))\n",
    "print(np.std(df['Screen Size']))\n",
    "print(np.std(df['battery life (in hours)']))\n",
    "print(np.std(df['Graphic support index']))"
   ]
  },
  {
   "cell_type": "code",
   "execution_count": 13,
   "metadata": {
    "pycharm": {
     "name": "#%%\n"
    }
   },
   "outputs": [
    {
     "data": {
      "text/plain": [
       "Screen Size                  3.191409\n",
       "battery life (in hours)      1.373522\n",
       "Graphic support index       41.165278\n",
       "price                      902.010212\n",
       "dtype: float64"
      ]
     },
     "execution_count": 13,
     "metadata": {},
     "output_type": "execute_result"
    }
   ],
   "source": [
    "df.mad()"
   ]
  },
  {
   "cell_type": "code",
   "execution_count": 14,
   "metadata": {
    "pycharm": {
     "name": "#%%\n"
    }
   },
   "outputs": [
    {
     "name": "stdout",
     "output_type": "stream",
     "text": [
      "********************************************************1st Quartile**********************************************************************************\n",
      "Q1 quantile of Screen Size :  15.75\n",
      "Q1 quantile of battery life (in hours) :  19.8875\n",
      "Q1 quantile of Graphic support index :  68.0\n",
      "Q1 quantile of Price :  665.0\n",
      "********************************************************2nd Quartile**********************************************************************************\n",
      "Q2 quantile of Screen Size :  16.08333333\n",
      "Q2 quantile of battery life (in hours) :  21.4\n",
      "Q2 quantile of Graphic support index :  100.0\n",
      "Q2 quantile of Price :  1000.0\n",
      "********************************************************3Rd Quartile**********************************************************************************\n",
      "Q3 quantile of Screen Size :  17.0\n",
      "Q3 quantile of battery life (in hours) :  22.1625\n",
      "Q3 quantile of Graphic support index :  123.0\n",
      "Q3 quantile of Price :  1745.0\n"
     ]
    }
   ],
   "source": [
    "print(\"********************************************************1st Quartile**********************************************************************************\")\n",
    "print(\"Q1 quantile of Screen Size : \", np.quantile(df['Screen Size'], .25, method='midpoint'))\n",
    "print(\"Q1 quantile of battery life (in hours) : \", np.quantile(df['battery life (in hours)'], .25, method='midpoint'))\n",
    "print(\"Q1 quantile of Graphic support index : \", np.quantile(df['Graphic support index'], .25, method='midpoint'))\n",
    "print(\"Q1 quantile of Price : \", np.quantile(df['price'], .25, method='midpoint'))\n",
    "\n",
    "print(\"********************************************************2nd Quartile**********************************************************************************\")\n",
    "print(\"Q2 quantile of Screen Size : \", np.quantile(df['Screen Size'], .50, method='midpoint'))\n",
    "print(\"Q2 quantile of battery life (in hours) : \", np.quantile(df['battery life (in hours)'], .50, method='midpoint'))\n",
    "print(\"Q2 quantile of Graphic support index : \", np.quantile(df['Graphic support index'], .50, method='midpoint'))\n",
    "print(\"Q2 quantile of Price : \", np.quantile(df['price'], .50, method='midpoint'))\n",
    "\n",
    "print(\"********************************************************3Rd Quartile**********************************************************************************\")\n",
    "print(\"Q3 quantile of Screen Size : \", np.quantile(df['Screen Size'], .75, method='midpoint'))\n",
    "print(\"Q3 quantile of battery life (in hours) : \", np.quantile(df['battery life (in hours)'], .75, method='midpoint'))\n",
    "print(\"Q3 quantile of Graphic support index : \", np.quantile(df['Graphic support index'], .75, method='midpoint'))\n",
    "print(\"Q3 quantile of Price : \", np.quantile(df['price'], .75, method='midpoint'))"
   ]
  },
  {
   "cell_type": "code",
   "execution_count": 15,
   "metadata": {
    "pycharm": {
     "name": "#%%\n"
    }
   },
   "outputs": [
    {
     "name": "stdout",
     "output_type": "stream",
     "text": [
      "IQR of price1080.0\n",
      "IQR of Screen Size1.25\n",
      "IQR of battery life (in hours)2.275000000000002\n",
      "IQR of Graphic support index55.0\n"
     ]
    }
   ],
   "source": [
    "# computing inter qurartile range using scipy lib\n",
    "from scipy import stats\n",
    "IQR1 = stats.iqr(df['price'], interpolation = 'midpoint')\n",
    "IQR2 = stats.iqr(df['Screen Size'], interpolation = 'midpoint')\n",
    "IQR3 = stats.iqr(df['battery life (in hours)'], interpolation = 'midpoint')\n",
    "IQR4 = stats.iqr(df['Graphic support index'], interpolation = 'midpoint')\n",
    "  \n",
    "print(f\"IQR of price{IQR1}\")\n",
    "print(f\"IQR of Screen Size{IQR2}\")\n",
    "print(f\"IQR of battery life (in hours){IQR3}\")\n",
    "print(f\"IQR of Graphic support index{IQR4}\")"
   ]
  },
  {
   "cell_type": "markdown",
   "metadata": {
    "pycharm": {
     "name": "#%% md\n"
    }
   },
   "source": [
    "#### Compute the correlation between battery life and price. Plot the variables using a scatter plot"
   ]
  },
  {
   "cell_type": "code",
   "execution_count": 16,
   "metadata": {
    "pycharm": {
     "name": "#%%\n"
    }
   },
   "outputs": [
    {
     "name": "stdout",
     "output_type": "stream",
     "text": [
      "Pearsons correlation: 0.785\n"
     ]
    }
   ],
   "source": [
    "from scipy.stats import pearsonr\n",
    "# Convert dataframe into series\n",
    "list1 = df['battery life (in hours)']\n",
    "list2 = df['price']\n",
    " \n",
    "# Apply the pearsonr()\n",
    "corr, _ = pearsonr(list1, list2)\n",
    "print('Pearsons correlation: %.3f' % corr)"
   ]
  },
  {
   "cell_type": "code",
   "execution_count": 17,
   "metadata": {
    "pycharm": {
     "name": "#%%\n"
    }
   },
   "outputs": [
    {
     "data": {
      "application/vnd.plotly.v1+json": {
       "config": {
        "plotlyServerURL": "https://plot.ly"
       },
       "data": [
        {
         "hovertemplate": "battery life (in hours)=%{marker.color}<br>price=%{y}<extra></extra>",
         "legendgroup": "",
         "marker": {
          "color": [
           21.1,
           21.1,
           26.0125,
           22.075,
           22.075,
           22.1625,
           24.0875,
           22.1,
           22.1,
           22.1,
           23.625,
           24.225,
           24.625,
           17.6375,
           19.4875,
           19.85,
           19.6625,
           19.6625,
           19.6375,
           21.925,
           23.8625,
           21.1375,
           21.3375,
           19.4875,
           24.95,
           24.95,
           23.9625,
           19.4875,
           19.8875,
           19.8875,
           19.8875,
           21.875,
           19.6625,
           23.8625,
           21.275,
           24.9,
           19.6625,
           21.4,
           21.55,
           21.55,
           20.6625,
           20.6625,
           20.6625,
           21.125,
           23.075,
           21.1125,
           21.1125,
           21.9625,
           19.8375,
           19.8375,
           19.8375,
           21.2125,
           21.2125,
           21.2125,
           23.475,
           21.4625,
           21.4625,
           21.4625,
           21.4625,
           23.6,
           23.6
          ],
          "coloraxis": "coloraxis",
          "size": [
           21.1,
           21.1,
           26.0125,
           22.075,
           22.075,
           22.1625,
           24.0875,
           22.1,
           22.1,
           22.1,
           23.625,
           24.225,
           24.625,
           17.6375,
           19.4875,
           19.85,
           19.6625,
           19.6625,
           19.6375,
           21.925,
           23.8625,
           21.1375,
           21.3375,
           19.4875,
           24.95,
           24.95,
           23.9625,
           19.4875,
           19.8875,
           19.8875,
           19.8875,
           21.875,
           19.6625,
           23.8625,
           21.275,
           24.9,
           19.6625,
           21.4,
           21.55,
           21.55,
           20.6625,
           20.6625,
           20.6625,
           21.125,
           23.075,
           21.1125,
           21.1125,
           21.9625,
           19.8375,
           19.8375,
           19.8375,
           21.2125,
           21.2125,
           21.2125,
           23.475,
           21.4625,
           21.4625,
           21.4625,
           21.4625,
           23.6,
           23.6
          ],
          "sizemode": "area",
          "sizeref": 0.06503125,
          "symbol": "circle"
         },
         "mode": "markers",
         "name": "",
         "orientation": "v",
         "showlegend": false,
         "type": "scatter",
         "x": [
          21.1,
          21.1,
          26.0125,
          22.075,
          22.075,
          22.1625,
          24.0875,
          22.1,
          22.1,
          22.1,
          23.625,
          24.225,
          24.625,
          17.6375,
          19.4875,
          19.85,
          19.6625,
          19.6625,
          19.6375,
          21.925,
          23.8625,
          21.1375,
          21.3375,
          19.4875,
          24.95,
          24.95,
          23.9625,
          19.4875,
          19.8875,
          19.8875,
          19.8875,
          21.875,
          19.6625,
          23.8625,
          21.275,
          24.9,
          19.6625,
          21.4,
          21.55,
          21.55,
          20.6625,
          20.6625,
          20.6625,
          21.125,
          23.075,
          21.1125,
          21.1125,
          21.9625,
          19.8375,
          19.8375,
          19.8375,
          21.2125,
          21.2125,
          21.2125,
          23.475,
          21.4625,
          21.4625,
          21.4625,
          21.4625,
          23.6,
          23.6
         ],
         "xaxis": "x",
         "y": [
          1350,
          1650,
          4096,
          1395,
          1745,
          1525,
          1892,
          1643,
          1693,
          2097,
          3076,
          4132,
          3688,
          515,
          630,
          658,
          638,
          623,
          730,
          1295,
          2555,
          1035,
          679,
          0,
          3225,
          3555,
          3600,
          0,
          610,
          520,
          680,
          1834,
          619,
          2825,
          735,
          4540,
          539,
          1650,
          699,
          819,
          710,
          665,
          685,
          1185,
          1350,
          3403,
          3703,
          0,
          535,
          634,
          649,
          692,
          790,
          878,
          1575,
          778,
          798,
          800,
          1000,
          1294,
          1342
         ],
         "yaxis": "y"
        }
       ],
       "layout": {
        "autosize": false,
        "coloraxis": {
         "colorbar": {
          "title": {
           "text": "battery life (in hours)"
          }
         },
         "colorscale": [
          [
           0,
           "#0d0887"
          ],
          [
           0.1111111111111111,
           "#46039f"
          ],
          [
           0.2222222222222222,
           "#7201a8"
          ],
          [
           0.3333333333333333,
           "#9c179e"
          ],
          [
           0.4444444444444444,
           "#bd3786"
          ],
          [
           0.5555555555555556,
           "#d8576b"
          ],
          [
           0.6666666666666666,
           "#ed7953"
          ],
          [
           0.7777777777777778,
           "#fb9f3a"
          ],
          [
           0.8888888888888888,
           "#fdca26"
          ],
          [
           1,
           "#f0f921"
          ]
         ]
        },
        "height": 800,
        "legend": {
         "itemsizing": "constant",
         "tracegroupgap": 0
        },
        "margin": {
         "t": 60
        },
        "template": {
         "data": {
          "bar": [
           {
            "error_x": {
             "color": "#2a3f5f"
            },
            "error_y": {
             "color": "#2a3f5f"
            },
            "marker": {
             "line": {
              "color": "white",
              "width": 0.5
             },
             "pattern": {
              "fillmode": "overlay",
              "size": 10,
              "solidity": 0.2
             }
            },
            "type": "bar"
           }
          ],
          "barpolar": [
           {
            "marker": {
             "line": {
              "color": "white",
              "width": 0.5
             },
             "pattern": {
              "fillmode": "overlay",
              "size": 10,
              "solidity": 0.2
             }
            },
            "type": "barpolar"
           }
          ],
          "carpet": [
           {
            "aaxis": {
             "endlinecolor": "#2a3f5f",
             "gridcolor": "#C8D4E3",
             "linecolor": "#C8D4E3",
             "minorgridcolor": "#C8D4E3",
             "startlinecolor": "#2a3f5f"
            },
            "baxis": {
             "endlinecolor": "#2a3f5f",
             "gridcolor": "#C8D4E3",
             "linecolor": "#C8D4E3",
             "minorgridcolor": "#C8D4E3",
             "startlinecolor": "#2a3f5f"
            },
            "type": "carpet"
           }
          ],
          "choropleth": [
           {
            "colorbar": {
             "outlinewidth": 0,
             "ticks": ""
            },
            "type": "choropleth"
           }
          ],
          "contour": [
           {
            "colorbar": {
             "outlinewidth": 0,
             "ticks": ""
            },
            "colorscale": [
             [
              0,
              "#0d0887"
             ],
             [
              0.1111111111111111,
              "#46039f"
             ],
             [
              0.2222222222222222,
              "#7201a8"
             ],
             [
              0.3333333333333333,
              "#9c179e"
             ],
             [
              0.4444444444444444,
              "#bd3786"
             ],
             [
              0.5555555555555556,
              "#d8576b"
             ],
             [
              0.6666666666666666,
              "#ed7953"
             ],
             [
              0.7777777777777778,
              "#fb9f3a"
             ],
             [
              0.8888888888888888,
              "#fdca26"
             ],
             [
              1,
              "#f0f921"
             ]
            ],
            "type": "contour"
           }
          ],
          "contourcarpet": [
           {
            "colorbar": {
             "outlinewidth": 0,
             "ticks": ""
            },
            "type": "contourcarpet"
           }
          ],
          "heatmap": [
           {
            "colorbar": {
             "outlinewidth": 0,
             "ticks": ""
            },
            "colorscale": [
             [
              0,
              "#0d0887"
             ],
             [
              0.1111111111111111,
              "#46039f"
             ],
             [
              0.2222222222222222,
              "#7201a8"
             ],
             [
              0.3333333333333333,
              "#9c179e"
             ],
             [
              0.4444444444444444,
              "#bd3786"
             ],
             [
              0.5555555555555556,
              "#d8576b"
             ],
             [
              0.6666666666666666,
              "#ed7953"
             ],
             [
              0.7777777777777778,
              "#fb9f3a"
             ],
             [
              0.8888888888888888,
              "#fdca26"
             ],
             [
              1,
              "#f0f921"
             ]
            ],
            "type": "heatmap"
           }
          ],
          "heatmapgl": [
           {
            "colorbar": {
             "outlinewidth": 0,
             "ticks": ""
            },
            "colorscale": [
             [
              0,
              "#0d0887"
             ],
             [
              0.1111111111111111,
              "#46039f"
             ],
             [
              0.2222222222222222,
              "#7201a8"
             ],
             [
              0.3333333333333333,
              "#9c179e"
             ],
             [
              0.4444444444444444,
              "#bd3786"
             ],
             [
              0.5555555555555556,
              "#d8576b"
             ],
             [
              0.6666666666666666,
              "#ed7953"
             ],
             [
              0.7777777777777778,
              "#fb9f3a"
             ],
             [
              0.8888888888888888,
              "#fdca26"
             ],
             [
              1,
              "#f0f921"
             ]
            ],
            "type": "heatmapgl"
           }
          ],
          "histogram": [
           {
            "marker": {
             "pattern": {
              "fillmode": "overlay",
              "size": 10,
              "solidity": 0.2
             }
            },
            "type": "histogram"
           }
          ],
          "histogram2d": [
           {
            "colorbar": {
             "outlinewidth": 0,
             "ticks": ""
            },
            "colorscale": [
             [
              0,
              "#0d0887"
             ],
             [
              0.1111111111111111,
              "#46039f"
             ],
             [
              0.2222222222222222,
              "#7201a8"
             ],
             [
              0.3333333333333333,
              "#9c179e"
             ],
             [
              0.4444444444444444,
              "#bd3786"
             ],
             [
              0.5555555555555556,
              "#d8576b"
             ],
             [
              0.6666666666666666,
              "#ed7953"
             ],
             [
              0.7777777777777778,
              "#fb9f3a"
             ],
             [
              0.8888888888888888,
              "#fdca26"
             ],
             [
              1,
              "#f0f921"
             ]
            ],
            "type": "histogram2d"
           }
          ],
          "histogram2dcontour": [
           {
            "colorbar": {
             "outlinewidth": 0,
             "ticks": ""
            },
            "colorscale": [
             [
              0,
              "#0d0887"
             ],
             [
              0.1111111111111111,
              "#46039f"
             ],
             [
              0.2222222222222222,
              "#7201a8"
             ],
             [
              0.3333333333333333,
              "#9c179e"
             ],
             [
              0.4444444444444444,
              "#bd3786"
             ],
             [
              0.5555555555555556,
              "#d8576b"
             ],
             [
              0.6666666666666666,
              "#ed7953"
             ],
             [
              0.7777777777777778,
              "#fb9f3a"
             ],
             [
              0.8888888888888888,
              "#fdca26"
             ],
             [
              1,
              "#f0f921"
             ]
            ],
            "type": "histogram2dcontour"
           }
          ],
          "mesh3d": [
           {
            "colorbar": {
             "outlinewidth": 0,
             "ticks": ""
            },
            "type": "mesh3d"
           }
          ],
          "parcoords": [
           {
            "line": {
             "colorbar": {
              "outlinewidth": 0,
              "ticks": ""
             }
            },
            "type": "parcoords"
           }
          ],
          "pie": [
           {
            "automargin": true,
            "type": "pie"
           }
          ],
          "scatter": [
           {
            "fillpattern": {
             "fillmode": "overlay",
             "size": 10,
             "solidity": 0.2
            },
            "type": "scatter"
           }
          ],
          "scatter3d": [
           {
            "line": {
             "colorbar": {
              "outlinewidth": 0,
              "ticks": ""
             }
            },
            "marker": {
             "colorbar": {
              "outlinewidth": 0,
              "ticks": ""
             }
            },
            "type": "scatter3d"
           }
          ],
          "scattercarpet": [
           {
            "marker": {
             "colorbar": {
              "outlinewidth": 0,
              "ticks": ""
             }
            },
            "type": "scattercarpet"
           }
          ],
          "scattergeo": [
           {
            "marker": {
             "colorbar": {
              "outlinewidth": 0,
              "ticks": ""
             }
            },
            "type": "scattergeo"
           }
          ],
          "scattergl": [
           {
            "marker": {
             "colorbar": {
              "outlinewidth": 0,
              "ticks": ""
             }
            },
            "type": "scattergl"
           }
          ],
          "scattermapbox": [
           {
            "marker": {
             "colorbar": {
              "outlinewidth": 0,
              "ticks": ""
             }
            },
            "type": "scattermapbox"
           }
          ],
          "scatterpolar": [
           {
            "marker": {
             "colorbar": {
              "outlinewidth": 0,
              "ticks": ""
             }
            },
            "type": "scatterpolar"
           }
          ],
          "scatterpolargl": [
           {
            "marker": {
             "colorbar": {
              "outlinewidth": 0,
              "ticks": ""
             }
            },
            "type": "scatterpolargl"
           }
          ],
          "scatterternary": [
           {
            "marker": {
             "colorbar": {
              "outlinewidth": 0,
              "ticks": ""
             }
            },
            "type": "scatterternary"
           }
          ],
          "surface": [
           {
            "colorbar": {
             "outlinewidth": 0,
             "ticks": ""
            },
            "colorscale": [
             [
              0,
              "#0d0887"
             ],
             [
              0.1111111111111111,
              "#46039f"
             ],
             [
              0.2222222222222222,
              "#7201a8"
             ],
             [
              0.3333333333333333,
              "#9c179e"
             ],
             [
              0.4444444444444444,
              "#bd3786"
             ],
             [
              0.5555555555555556,
              "#d8576b"
             ],
             [
              0.6666666666666666,
              "#ed7953"
             ],
             [
              0.7777777777777778,
              "#fb9f3a"
             ],
             [
              0.8888888888888888,
              "#fdca26"
             ],
             [
              1,
              "#f0f921"
             ]
            ],
            "type": "surface"
           }
          ],
          "table": [
           {
            "cells": {
             "fill": {
              "color": "#EBF0F8"
             },
             "line": {
              "color": "white"
             }
            },
            "header": {
             "fill": {
              "color": "#C8D4E3"
             },
             "line": {
              "color": "white"
             }
            },
            "type": "table"
           }
          ]
         },
         "layout": {
          "annotationdefaults": {
           "arrowcolor": "#2a3f5f",
           "arrowhead": 0,
           "arrowwidth": 1
          },
          "autotypenumbers": "strict",
          "coloraxis": {
           "colorbar": {
            "outlinewidth": 0,
            "ticks": ""
           }
          },
          "colorscale": {
           "diverging": [
            [
             0,
             "#8e0152"
            ],
            [
             0.1,
             "#c51b7d"
            ],
            [
             0.2,
             "#de77ae"
            ],
            [
             0.3,
             "#f1b6da"
            ],
            [
             0.4,
             "#fde0ef"
            ],
            [
             0.5,
             "#f7f7f7"
            ],
            [
             0.6,
             "#e6f5d0"
            ],
            [
             0.7,
             "#b8e186"
            ],
            [
             0.8,
             "#7fbc41"
            ],
            [
             0.9,
             "#4d9221"
            ],
            [
             1,
             "#276419"
            ]
           ],
           "sequential": [
            [
             0,
             "#0d0887"
            ],
            [
             0.1111111111111111,
             "#46039f"
            ],
            [
             0.2222222222222222,
             "#7201a8"
            ],
            [
             0.3333333333333333,
             "#9c179e"
            ],
            [
             0.4444444444444444,
             "#bd3786"
            ],
            [
             0.5555555555555556,
             "#d8576b"
            ],
            [
             0.6666666666666666,
             "#ed7953"
            ],
            [
             0.7777777777777778,
             "#fb9f3a"
            ],
            [
             0.8888888888888888,
             "#fdca26"
            ],
            [
             1,
             "#f0f921"
            ]
           ],
           "sequentialminus": [
            [
             0,
             "#0d0887"
            ],
            [
             0.1111111111111111,
             "#46039f"
            ],
            [
             0.2222222222222222,
             "#7201a8"
            ],
            [
             0.3333333333333333,
             "#9c179e"
            ],
            [
             0.4444444444444444,
             "#bd3786"
            ],
            [
             0.5555555555555556,
             "#d8576b"
            ],
            [
             0.6666666666666666,
             "#ed7953"
            ],
            [
             0.7777777777777778,
             "#fb9f3a"
            ],
            [
             0.8888888888888888,
             "#fdca26"
            ],
            [
             1,
             "#f0f921"
            ]
           ]
          },
          "colorway": [
           "#636efa",
           "#EF553B",
           "#00cc96",
           "#ab63fa",
           "#FFA15A",
           "#19d3f3",
           "#FF6692",
           "#B6E880",
           "#FF97FF",
           "#FECB52"
          ],
          "font": {
           "color": "#2a3f5f"
          },
          "geo": {
           "bgcolor": "white",
           "lakecolor": "white",
           "landcolor": "white",
           "showlakes": true,
           "showland": true,
           "subunitcolor": "#C8D4E3"
          },
          "hoverlabel": {
           "align": "left"
          },
          "hovermode": "closest",
          "mapbox": {
           "style": "light"
          },
          "paper_bgcolor": "white",
          "plot_bgcolor": "white",
          "polar": {
           "angularaxis": {
            "gridcolor": "#EBF0F8",
            "linecolor": "#EBF0F8",
            "ticks": ""
           },
           "bgcolor": "white",
           "radialaxis": {
            "gridcolor": "#EBF0F8",
            "linecolor": "#EBF0F8",
            "ticks": ""
           }
          },
          "scene": {
           "xaxis": {
            "backgroundcolor": "white",
            "gridcolor": "#DFE8F3",
            "gridwidth": 2,
            "linecolor": "#EBF0F8",
            "showbackground": true,
            "ticks": "",
            "zerolinecolor": "#EBF0F8"
           },
           "yaxis": {
            "backgroundcolor": "white",
            "gridcolor": "#DFE8F3",
            "gridwidth": 2,
            "linecolor": "#EBF0F8",
            "showbackground": true,
            "ticks": "",
            "zerolinecolor": "#EBF0F8"
           },
           "zaxis": {
            "backgroundcolor": "white",
            "gridcolor": "#DFE8F3",
            "gridwidth": 2,
            "linecolor": "#EBF0F8",
            "showbackground": true,
            "ticks": "",
            "zerolinecolor": "#EBF0F8"
           }
          },
          "shapedefaults": {
           "line": {
            "color": "#2a3f5f"
           }
          },
          "ternary": {
           "aaxis": {
            "gridcolor": "#DFE8F3",
            "linecolor": "#A2B1C6",
            "ticks": ""
           },
           "baxis": {
            "gridcolor": "#DFE8F3",
            "linecolor": "#A2B1C6",
            "ticks": ""
           },
           "bgcolor": "white",
           "caxis": {
            "gridcolor": "#DFE8F3",
            "linecolor": "#A2B1C6",
            "ticks": ""
           }
          },
          "title": {
           "x": 0.05
          },
          "xaxis": {
           "automargin": true,
           "gridcolor": "#EBF0F8",
           "linecolor": "#EBF0F8",
           "ticks": "",
           "title": {
            "standoff": 15
           },
           "zerolinecolor": "#EBF0F8",
           "zerolinewidth": 2
          },
          "yaxis": {
           "automargin": true,
           "gridcolor": "#EBF0F8",
           "linecolor": "#EBF0F8",
           "ticks": "",
           "title": {
            "standoff": 15
           },
           "zerolinecolor": "#EBF0F8",
           "zerolinewidth": 2
          }
         }
        },
        "width": 1500,
        "xaxis": {
         "anchor": "y",
         "domain": [
          0,
          1
         ],
         "showgrid": false,
         "title": {
          "text": "battery life (in hours)"
         }
        },
        "yaxis": {
         "anchor": "x",
         "domain": [
          0,
          1
         ],
         "showgrid": false,
         "title": {
          "text": "price"
         }
        }
       }
      }
     },
     "metadata": {},
     "output_type": "display_data"
    }
   ],
   "source": [
    "fig = px.scatter(df,x='battery life (in hours)', y= 'price',color=\"battery life (in hours)\",\n",
    "                 size='battery life (in hours)', hover_data=['price'])\n",
    "\n",
    "fig.update_layout(autosize=False,\n",
    "                  width=1500,\n",
    "                  height=800,\n",
    "                  template = \"plotly_white\")\n",
    "fig.update_xaxes(showgrid= False)\n",
    "fig.update_yaxes(showgrid= False)     \n",
    "\n",
    "fig.show()"
   ]
  },
  {
   "cell_type": "code",
   "execution_count": 18,
   "metadata": {},
   "outputs": [],
   "source": [
    "# Case Study 3: A sample of newborn’s weights is present in Data: baby_weight"
   ]
  },
  {
   "cell_type": "code",
   "execution_count": 19,
   "metadata": {
    "pycharm": {
     "name": "#%%\n"
    }
   },
   "outputs": [],
   "source": [
    "df = pd.read_csv('/Users/mohammadjuneidk/Downloads/Assignment - Inferential statistics and Visualization-3/Assignment-1/baby_weight - middle class neighborhood.csv')"
   ]
  },
  {
   "cell_type": "code",
   "execution_count": 20,
   "metadata": {
    "pycharm": {
     "name": "#%%\n"
    }
   },
   "outputs": [
    {
     "data": {
      "text/html": [
       "<div>\n",
       "<style scoped>\n",
       "    .dataframe tbody tr th:only-of-type {\n",
       "        vertical-align: middle;\n",
       "    }\n",
       "\n",
       "    .dataframe tbody tr th {\n",
       "        vertical-align: top;\n",
       "    }\n",
       "\n",
       "    .dataframe thead th {\n",
       "        text-align: right;\n",
       "    }\n",
       "</style>\n",
       "<table border=\"1\" class=\"dataframe\">\n",
       "  <thead>\n",
       "    <tr style=\"text-align: right;\">\n",
       "      <th></th>\n",
       "      <th>weight (in pounds)</th>\n",
       "    </tr>\n",
       "  </thead>\n",
       "  <tbody>\n",
       "    <tr>\n",
       "      <th>0</th>\n",
       "      <td>7.8</td>\n",
       "    </tr>\n",
       "    <tr>\n",
       "      <th>1</th>\n",
       "      <td>8.2</td>\n",
       "    </tr>\n",
       "    <tr>\n",
       "      <th>2</th>\n",
       "      <td>9.0</td>\n",
       "    </tr>\n",
       "    <tr>\n",
       "      <th>3</th>\n",
       "      <td>8.8</td>\n",
       "    </tr>\n",
       "    <tr>\n",
       "      <th>4</th>\n",
       "      <td>6.5</td>\n",
       "    </tr>\n",
       "    <tr>\n",
       "      <th>5</th>\n",
       "      <td>2.3</td>\n",
       "    </tr>\n",
       "    <tr>\n",
       "      <th>6</th>\n",
       "      <td>7.4</td>\n",
       "    </tr>\n",
       "    <tr>\n",
       "      <th>7</th>\n",
       "      <td>8.4</td>\n",
       "    </tr>\n",
       "    <tr>\n",
       "      <th>8</th>\n",
       "      <td>8.3</td>\n",
       "    </tr>\n",
       "    <tr>\n",
       "      <th>9</th>\n",
       "      <td>9.4</td>\n",
       "    </tr>\n",
       "    <tr>\n",
       "      <th>10</th>\n",
       "      <td>10.3</td>\n",
       "    </tr>\n",
       "    <tr>\n",
       "      <th>11</th>\n",
       "      <td>6.8</td>\n",
       "    </tr>\n",
       "    <tr>\n",
       "      <th>12</th>\n",
       "      <td>8.1</td>\n",
       "    </tr>\n",
       "    <tr>\n",
       "      <th>13</th>\n",
       "      <td>7.3</td>\n",
       "    </tr>\n",
       "    <tr>\n",
       "      <th>14</th>\n",
       "      <td>6.2</td>\n",
       "    </tr>\n",
       "    <tr>\n",
       "      <th>15</th>\n",
       "      <td>8.0</td>\n",
       "    </tr>\n",
       "    <tr>\n",
       "      <th>16</th>\n",
       "      <td>8.7</td>\n",
       "    </tr>\n",
       "    <tr>\n",
       "      <th>17</th>\n",
       "      <td>7.9</td>\n",
       "    </tr>\n",
       "    <tr>\n",
       "      <th>18</th>\n",
       "      <td>7.8</td>\n",
       "    </tr>\n",
       "    <tr>\n",
       "      <th>19</th>\n",
       "      <td>8.6</td>\n",
       "    </tr>\n",
       "  </tbody>\n",
       "</table>\n",
       "</div>"
      ],
      "text/plain": [
       "    weight (in pounds)\n",
       "0                  7.8\n",
       "1                  8.2\n",
       "2                  9.0\n",
       "3                  8.8\n",
       "4                  6.5\n",
       "5                  2.3\n",
       "6                  7.4\n",
       "7                  8.4\n",
       "8                  8.3\n",
       "9                  9.4\n",
       "10                10.3\n",
       "11                 6.8\n",
       "12                 8.1\n",
       "13                 7.3\n",
       "14                 6.2\n",
       "15                 8.0\n",
       "16                 8.7\n",
       "17                 7.9\n",
       "18                 7.8\n",
       "19                 8.6"
      ]
     },
     "execution_count": 20,
     "metadata": {},
     "output_type": "execute_result"
    }
   ],
   "source": [
    "df"
   ]
  },
  {
   "cell_type": "code",
   "execution_count": 21,
   "metadata": {
    "pycharm": {
     "name": "#%%\n"
    }
   },
   "outputs": [
    {
     "data": {
      "application/vnd.plotly.v1+json": {
       "config": {
        "plotlyServerURL": "https://plot.ly"
       },
       "data": [
        {
         "alignmentgroup": "True",
         "hovertemplate": "variable=%{x}<br>value=%{y}<extra></extra>",
         "legendgroup": "",
         "marker": {
          "color": "rgb(229, 134, 6)"
         },
         "name": "",
         "notched": true,
         "offsetgroup": "",
         "orientation": "v",
         "showlegend": false,
         "type": "box",
         "x": [
          "weight (in pounds)",
          "weight (in pounds)",
          "weight (in pounds)",
          "weight (in pounds)",
          "weight (in pounds)",
          "weight (in pounds)",
          "weight (in pounds)",
          "weight (in pounds)",
          "weight (in pounds)",
          "weight (in pounds)",
          "weight (in pounds)",
          "weight (in pounds)",
          "weight (in pounds)",
          "weight (in pounds)",
          "weight (in pounds)",
          "weight (in pounds)",
          "weight (in pounds)",
          "weight (in pounds)",
          "weight (in pounds)",
          "weight (in pounds)"
         ],
         "x0": " ",
         "xaxis": "x",
         "y": [
          7.8,
          8.2,
          9,
          8.8,
          6.5,
          2.3,
          7.4,
          8.4,
          8.3,
          9.4,
          10.3,
          6.8,
          8.1,
          7.3,
          6.2,
          8,
          8.7,
          7.9,
          7.8,
          8.6
         ],
         "y0": " ",
         "yaxis": "y"
        }
       ],
       "layout": {
        "autosize": false,
        "boxmode": "group",
        "height": 700,
        "legend": {
         "tracegroupgap": 0
        },
        "margin": {
         "t": 60
        },
        "template": {
         "data": {
          "pie": [
           {
            "automargin": true,
            "type": "pie"
           }
          ],
          "scatter": [
           {
            "line": {
             "width": 3
            },
            "marker": {
             "size": 9
            },
            "type": "scatter"
           }
          ],
          "scatter3d": [
           {
            "line": {
             "width": 3
            },
            "marker": {
             "size": 9
            },
            "type": "scatter3d"
           }
          ],
          "scattergeo": [
           {
            "line": {
             "width": 3
            },
            "marker": {
             "size": 9
            },
            "type": "scattergeo"
           }
          ],
          "scattergl": [
           {
            "line": {
             "width": 3
            },
            "marker": {
             "size": 9
            },
            "type": "scattergl"
           }
          ],
          "scatterpolar": [
           {
            "line": {
             "width": 3
            },
            "marker": {
             "size": 9
            },
            "type": "scatterpolar"
           }
          ],
          "scatterpolargl": [
           {
            "line": {
             "width": 3
            },
            "marker": {
             "size": 9
            },
            "type": "scatterpolargl"
           }
          ],
          "scatterternary": [
           {
            "line": {
             "width": 3
            },
            "marker": {
             "size": 9
            },
            "type": "scatterternary"
           }
          ],
          "table": [
           {
            "cells": {
             "height": 30
            },
            "header": {
             "height": 36
            },
            "type": "table"
           }
          ]
         },
         "layout": {
          "font": {
           "size": 18
          },
          "xaxis": {
           "title": {
            "standoff": 15
           }
          },
          "yaxis": {
           "title": {
            "standoff": 15
           }
          }
         }
        },
        "width": 700,
        "xaxis": {
         "anchor": "y",
         "domain": [
          0,
          1
         ],
         "showgrid": false,
         "title": {
          "text": "variable"
         }
        },
        "yaxis": {
         "anchor": "x",
         "domain": [
          0,
          1
         ],
         "showgrid": false,
         "title": {
          "text": "value"
         }
        }
       }
      }
     },
     "metadata": {},
     "output_type": "display_data"
    }
   ],
   "source": [
    "fig = px.box(df, y=[\"weight (in pounds)\"],notched=True,color_discrete_sequence=px.colors.qualitative.Vivid)\n",
    "\n",
    "fig.update_layout(autosize=False,\n",
    "                  width=700,\n",
    "                  height=700,\n",
    "                  template = \"presentation\")\n",
    "fig.update_xaxes(showgrid= False)\n",
    "fig.update_yaxes(showgrid= False)  \n",
    "fig.show()"
   ]
  },
  {
   "cell_type": "markdown",
   "metadata": {
    "pycharm": {
     "name": "#%% md\n"
    }
   },
   "source": [
    "#### as above we can see that an outlier has been detected and that is out of the lower fence "
   ]
  },
  {
   "cell_type": "code",
   "execution_count": 22,
   "metadata": {
    "pycharm": {
     "name": "#%%\n"
    }
   },
   "outputs": [],
   "source": [
    "# dropping the outlier\n",
    "df_new = df[df[\"weight (in pounds)\"] >= 6.2 ]"
   ]
  },
  {
   "cell_type": "code",
   "execution_count": 23,
   "metadata": {
    "pycharm": {
     "name": "#%%\n"
    }
   },
   "outputs": [
    {
     "data": {
      "text/html": [
       "<div>\n",
       "<style scoped>\n",
       "    .dataframe tbody tr th:only-of-type {\n",
       "        vertical-align: middle;\n",
       "    }\n",
       "\n",
       "    .dataframe tbody tr th {\n",
       "        vertical-align: top;\n",
       "    }\n",
       "\n",
       "    .dataframe thead th {\n",
       "        text-align: right;\n",
       "    }\n",
       "</style>\n",
       "<table border=\"1\" class=\"dataframe\">\n",
       "  <thead>\n",
       "    <tr style=\"text-align: right;\">\n",
       "      <th></th>\n",
       "      <th>weight (in pounds)</th>\n",
       "    </tr>\n",
       "  </thead>\n",
       "  <tbody>\n",
       "    <tr>\n",
       "      <th>0</th>\n",
       "      <td>7.8</td>\n",
       "    </tr>\n",
       "    <tr>\n",
       "      <th>1</th>\n",
       "      <td>8.2</td>\n",
       "    </tr>\n",
       "    <tr>\n",
       "      <th>2</th>\n",
       "      <td>9.0</td>\n",
       "    </tr>\n",
       "    <tr>\n",
       "      <th>3</th>\n",
       "      <td>8.8</td>\n",
       "    </tr>\n",
       "    <tr>\n",
       "      <th>4</th>\n",
       "      <td>6.5</td>\n",
       "    </tr>\n",
       "    <tr>\n",
       "      <th>5</th>\n",
       "      <td>7.4</td>\n",
       "    </tr>\n",
       "    <tr>\n",
       "      <th>6</th>\n",
       "      <td>8.4</td>\n",
       "    </tr>\n",
       "    <tr>\n",
       "      <th>7</th>\n",
       "      <td>8.3</td>\n",
       "    </tr>\n",
       "    <tr>\n",
       "      <th>8</th>\n",
       "      <td>9.4</td>\n",
       "    </tr>\n",
       "    <tr>\n",
       "      <th>9</th>\n",
       "      <td>10.3</td>\n",
       "    </tr>\n",
       "    <tr>\n",
       "      <th>10</th>\n",
       "      <td>6.8</td>\n",
       "    </tr>\n",
       "    <tr>\n",
       "      <th>11</th>\n",
       "      <td>8.1</td>\n",
       "    </tr>\n",
       "    <tr>\n",
       "      <th>12</th>\n",
       "      <td>7.3</td>\n",
       "    </tr>\n",
       "    <tr>\n",
       "      <th>13</th>\n",
       "      <td>6.2</td>\n",
       "    </tr>\n",
       "    <tr>\n",
       "      <th>14</th>\n",
       "      <td>8.0</td>\n",
       "    </tr>\n",
       "    <tr>\n",
       "      <th>15</th>\n",
       "      <td>8.7</td>\n",
       "    </tr>\n",
       "    <tr>\n",
       "      <th>16</th>\n",
       "      <td>7.9</td>\n",
       "    </tr>\n",
       "    <tr>\n",
       "      <th>17</th>\n",
       "      <td>7.8</td>\n",
       "    </tr>\n",
       "    <tr>\n",
       "      <th>18</th>\n",
       "      <td>8.6</td>\n",
       "    </tr>\n",
       "  </tbody>\n",
       "</table>\n",
       "</div>"
      ],
      "text/plain": [
       "    weight (in pounds)\n",
       "0                  7.8\n",
       "1                  8.2\n",
       "2                  9.0\n",
       "3                  8.8\n",
       "4                  6.5\n",
       "5                  7.4\n",
       "6                  8.4\n",
       "7                  8.3\n",
       "8                  9.4\n",
       "9                 10.3\n",
       "10                 6.8\n",
       "11                 8.1\n",
       "12                 7.3\n",
       "13                 6.2\n",
       "14                 8.0\n",
       "15                 8.7\n",
       "16                 7.9\n",
       "17                 7.8\n",
       "18                 8.6"
      ]
     },
     "execution_count": 23,
     "metadata": {},
     "output_type": "execute_result"
    }
   ],
   "source": [
    "df_new.reset_index(drop = True, inplace = True)\n",
    "df_new"
   ]
  },
  {
   "cell_type": "code",
   "execution_count": 24,
   "metadata": {
    "pycharm": {
     "name": "#%%\n"
    }
   },
   "outputs": [
    {
     "data": {
      "text/plain": [
       "<seaborn.axisgrid.FacetGrid at 0x7f7e7c460d60>"
      ]
     },
     "execution_count": 24,
     "metadata": {},
     "output_type": "execute_result"
    },
    {
     "data": {
      "image/png": "[encoded data removed]",
      "text/plain": [
       "<Figure size 504x360 with 1 Axes>"
      ]
     },
     "metadata": {
      "needs_background": "light"
     },
     "output_type": "display_data"
    }
   ],
   "source": [
    "sns.displot(\n",
    "  data=df_new,\n",
    "  x=\"weight (in pounds)\",\n",
    "  kind=\"hist\",\n",
    "  aspect=1.4,\n",
    "  log_scale=10\n",
    ")\n"
   ]
  },
  {
   "cell_type": "code",
   "execution_count": 25,
   "metadata": {
    "pycharm": {
     "name": "#%%\n"
    }
   },
   "outputs": [
    {
     "data": {
      "text/plain": [
       "<seaborn.axisgrid.FacetGrid at 0x7f7e7c460040>"
      ]
     },
     "execution_count": 25,
     "metadata": {},
     "output_type": "execute_result"
    },
    {
     "data": {
      "image/png": "[encoded data removed]",
      "text/plain": [
       "<Figure size 504x360 with 1 Axes>"
      ]
     },
     "metadata": {
      "needs_background": "light"
     },
     "output_type": "display_data"
    }
   ],
   "source": [
    "sns.displot(\n",
    "  data=df_new,\n",
    "  x=\"weight (in pounds)\",\n",
    "  kind=\"kde\",\n",
    "  aspect=1.4,\n",
    "  log_scale=10\n",
    ")"
   ]
  },
  {
   "cell_type": "code",
   "execution_count": null,
   "metadata": {},
   "outputs": [],
   "source": []
  },
  {
   "cell_type": "code",
   "execution_count": 26,
   "metadata": {
    "pycharm": {
     "name": "#%%\n"
    }
   },
   "outputs": [
    {
     "data": {
      "application/vnd.plotly.v1+json": {
       "config": {
        "plotlyServerURL": "https://plot.ly"
       },
       "data": [
        {
         "autobinx": false,
         "histnorm": "probability density",
         "legendgroup": "weight (in pounds)",
         "marker": {
          "color": "indigo"
         },
         "name": "weight (in pounds)",
         "opacity": 0.7,
         "type": "histogram",
         "x": [
          7.8,
          8.2,
          9,
          8.8,
          6.5,
          7.4,
          8.4,
          8.3,
          9.4,
          10.3,
          6.8,
          8.1,
          7.3,
          6.2,
          8,
          8.7,
          7.9,
          7.8,
          8.6
         ],
         "xaxis": "x",
         "xbins": {
          "end": 10.3,
          "size": 0.6,
          "start": 6.2
         },
         "yaxis": "y"
        },
        {
         "legendgroup": "weight (in pounds)",
         "marker": {
          "color": "indigo"
         },
         "mode": "lines",
         "name": "weight (in pounds)",
         "showlegend": false,
         "type": "scatter",
         "x": [
          6.2,
          6.208200000000001,
          6.2164,
          6.224600000000001,
          6.2328,
          6.2410000000000005,
          6.2492,
          6.2574000000000005,
          6.2656,
          6.2738000000000005,
          6.282,
          6.2902000000000005,
          6.2984,
          6.3066,
          6.3148,
          6.323,
          6.3312,
          6.3394,
          6.3476,
          6.3558,
          6.364,
          6.3722,
          6.3804,
          6.3886,
          6.3968,
          6.405,
          6.4132,
          6.4214,
          6.429600000000001,
          6.4378,
          6.446000000000001,
          6.4542,
          6.462400000000001,
          6.4706,
          6.478800000000001,
          6.487,
          6.4952000000000005,
          6.5034,
          6.5116000000000005,
          6.5198,
          6.5280000000000005,
          6.5362,
          6.5444,
          6.5526,
          6.5608,
          6.569,
          6.5772,
          6.5854,
          6.5936,
          6.6018,
          6.61,
          6.6182,
          6.6264,
          6.634600000000001,
          6.6428,
          6.651,
          6.6592,
          6.667400000000001,
          6.6756,
          6.683800000000001,
          6.692,
          6.700200000000001,
          6.7084,
          6.716600000000001,
          6.7248,
          6.7330000000000005,
          6.7412,
          6.7494000000000005,
          6.7576,
          6.7658000000000005,
          6.774,
          6.7822000000000005,
          6.7904,
          6.7986,
          6.8068,
          6.815,
          6.8232,
          6.8314,
          6.839600000000001,
          6.8478,
          6.856,
          6.8642,
          6.872400000000001,
          6.8806,
          6.8888,
          6.897,
          6.905200000000001,
          6.9134,
          6.921600000000001,
          6.9298,
          6.938000000000001,
          6.9462,
          6.954400000000001,
          6.9626,
          6.9708000000000006,
          6.979,
          6.9872000000000005,
          6.9954,
          7.0036000000000005,
          7.0118,
          7.0200000000000005,
          7.0282,
          7.0364,
          7.0446,
          7.0528,
          7.061,
          7.0692,
          7.0774,
          7.0856,
          7.0938,
          7.102,
          7.110200000000001,
          7.1184,
          7.1266,
          7.1348,
          7.143000000000001,
          7.1512,
          7.159400000000001,
          7.1676,
          7.175800000000001,
          7.184,
          7.192200000000001,
          7.2004,
          7.208600000000001,
          7.2168,
          7.2250000000000005,
          7.2332,
          7.2414000000000005,
          7.2496,
          7.2578000000000005,
          7.266,
          7.2742,
          7.2824,
          7.2906,
          7.2988,
          7.307,
          7.3152,
          7.3234,
          7.3316,
          7.3398,
          7.348000000000001,
          7.3562,
          7.3644,
          7.3726,
          7.380800000000001,
          7.389,
          7.3972,
          7.4054,
          7.413600000000001,
          7.4218,
          7.430000000000001,
          7.4382,
          7.446400000000001,
          7.4546,
          7.4628000000000005,
          7.471,
          7.4792000000000005,
          7.4874,
          7.4956000000000005,
          7.5038,
          7.5120000000000005,
          7.520200000000001,
          7.5284,
          7.5366,
          7.5448,
          7.553000000000001,
          7.5612,
          7.5694,
          7.5776,
          7.585800000000001,
          7.594,
          7.602200000000001,
          7.6104,
          7.618600000000001,
          7.6268,
          7.635000000000001,
          7.6432,
          7.651400000000001,
          7.6596,
          7.667800000000001,
          7.676,
          7.684200000000001,
          7.6924,
          7.7006000000000006,
          7.7088,
          7.7170000000000005,
          7.725200000000001,
          7.7334000000000005,
          7.7416,
          7.7498000000000005,
          7.758000000000001,
          7.7662,
          7.7744,
          7.7826,
          7.790800000000001,
          7.799,
          7.8072,
          7.8154,
          7.823600000000001,
          7.8318,
          7.84,
          7.8482,
          7.856400000000001,
          7.8646,
          7.872800000000001,
          7.881,
          7.889200000000001,
          7.8974,
          7.905600000000001,
          7.9138,
          7.922000000000001,
          7.9302,
          7.938400000000001,
          7.9466,
          7.9548000000000005,
          7.963,
          7.9712000000000005,
          7.9794,
          7.9876000000000005,
          7.995800000000001,
          8.004000000000001,
          8.0122,
          8.0204,
          8.0286,
          8.0368,
          8.045,
          8.0532,
          8.0614,
          8.069600000000001,
          8.0778,
          8.086,
          8.0942,
          8.102400000000001,
          8.1106,
          8.1188,
          8.127,
          8.135200000000001,
          8.1434,
          8.1516,
          8.1598,
          8.168000000000001,
          8.1762,
          8.1844,
          8.1926,
          8.200800000000001,
          8.209,
          8.2172,
          8.2254,
          8.233600000000001,
          8.241800000000001,
          8.25,
          8.2582,
          8.2664,
          8.2746,
          8.2828,
          8.291,
          8.2992,
          8.307400000000001,
          8.3156,
          8.3238,
          8.332,
          8.3402,
          8.3484,
          8.3566,
          8.3648,
          8.373000000000001,
          8.3812,
          8.3894,
          8.3976,
          8.4058,
          8.414000000000001,
          8.4222,
          8.4304,
          8.438600000000001,
          8.4468,
          8.455,
          8.4632,
          8.471400000000001,
          8.479600000000001,
          8.4878,
          8.496,
          8.5042,
          8.5124,
          8.5206,
          8.5288,
          8.537,
          8.545200000000001,
          8.5534,
          8.5616,
          8.5698,
          8.578000000000001,
          8.5862,
          8.5944,
          8.6026,
          8.610800000000001,
          8.619,
          8.6272,
          8.6354,
          8.643600000000001,
          8.6518,
          8.66,
          8.6682,
          8.676400000000001,
          8.6846,
          8.6928,
          8.701,
          8.709200000000001,
          8.717400000000001,
          8.7256,
          8.7338,
          8.742,
          8.7502,
          8.758400000000002,
          8.7666,
          8.7748,
          8.783000000000001,
          8.7912,
          8.7994,
          8.8076,
          8.8158,
          8.824000000000002,
          8.8322,
          8.8404,
          8.848600000000001,
          8.8568,
          8.865,
          8.8732,
          8.881400000000001,
          8.889600000000002,
          8.8978,
          8.906,
          8.914200000000001,
          8.9224,
          8.9306,
          8.9388,
          8.947000000000001,
          8.955200000000001,
          8.9634,
          8.9716,
          8.979800000000001,
          8.988,
          8.9962,
          9.0044,
          9.0126,
          9.020800000000001,
          9.029,
          9.0372,
          9.0454,
          9.053600000000001,
          9.0618,
          9.07,
          9.0782,
          9.086400000000001,
          9.0946,
          9.1028,
          9.111,
          9.119200000000001,
          9.127400000000002,
          9.1356,
          9.1438,
          9.152000000000001,
          9.1602,
          9.1684,
          9.1766,
          9.184800000000001,
          9.193000000000001,
          9.2012,
          9.2094,
          9.217600000000001,
          9.2258,
          9.234,
          9.2422,
          9.2504,
          9.258600000000001,
          9.2668,
          9.275,
          9.2832,
          9.291400000000001,
          9.299600000000002,
          9.3078,
          9.316,
          9.324200000000001,
          9.3324,
          9.3406,
          9.3488,
          9.357000000000001,
          9.365200000000002,
          9.3734,
          9.3816,
          9.389800000000001,
          9.398,
          9.4062,
          9.4144,
          9.422600000000001,
          9.430800000000001,
          9.439,
          9.4472,
          9.455400000000001,
          9.4636,
          9.471800000000002,
          9.48,
          9.4882,
          9.496400000000001,
          9.5046,
          9.5128,
          9.521,
          9.5292,
          9.537400000000002,
          9.5456,
          9.5538,
          9.562000000000001,
          9.5702,
          9.5784,
          9.5866,
          9.594800000000001,
          9.603000000000002,
          9.6112,
          9.6194,
          9.627600000000001,
          9.635800000000001,
          9.644,
          9.6522,
          9.660400000000001,
          9.668600000000001,
          9.6768,
          9.685,
          9.693200000000001,
          9.701400000000001,
          9.7096,
          9.7178,
          9.726,
          9.734200000000001,
          9.7424,
          9.7506,
          9.7588,
          9.767000000000001,
          9.7752,
          9.7834,
          9.7916,
          9.799800000000001,
          9.808,
          9.8162,
          9.8244,
          9.832600000000001,
          9.840800000000002,
          9.849,
          9.8572,
          9.865400000000001,
          9.8736,
          9.881800000000002,
          9.89,
          9.898200000000001,
          9.906400000000001,
          9.9146,
          9.9228,
          9.931000000000001,
          9.9392,
          9.947400000000002,
          9.9556,
          9.9638,
          9.972000000000001,
          9.9802,
          9.9884,
          9.9966,
          10.004800000000001,
          10.013000000000002,
          10.0212,
          10.0294,
          10.037600000000001,
          10.0458,
          10.054,
          10.0622,
          10.070400000000001,
          10.078600000000002,
          10.0868,
          10.095,
          10.103200000000001,
          10.1114,
          10.1196,
          10.1278,
          10.136000000000001,
          10.144200000000001,
          10.1524,
          10.1606,
          10.168800000000001,
          10.177,
          10.185200000000002,
          10.1934,
          10.201600000000001,
          10.209800000000001,
          10.218,
          10.226200000000002,
          10.2344,
          10.2426,
          10.250800000000002,
          10.259,
          10.2672,
          10.275400000000001,
          10.2836,
          10.291800000000002
         ],
         "xaxis": "x",
         "y": [
          0.1025934318773297,
          0.10355166516851373,
          0.10450691867521437,
          0.10545910383162546,
          0.10640813877302727,
          0.10735394848232452,
          0.10829646493021754,
          0.1092356272087891,
          0.11017138165829034,
          0.11110368198692205,
          0.11203248938340851,
          0.11295777262217724,
          0.11387950816095449,
          0.11479768023060813,
          0.11571228091706517,
          0.11662331023515031,
          0.11753077619419242,
          0.118434694855263,
          0.11933509037991243,
          0.12023199507028667,
          0.12112544940050993,
          0.12201550203923557,
          0.12290220986327116,
          0.12378563796220048,
          0.1246658596339276,
          0.12554295637108862,
          0.1264170178382769,
          0.1272881418400471,
          0.1281564342796669,
          0.12902200910860168,
          0.12988498826672587,
          0.1307455016132622,
          0.1316036868484695,
          0.13245968942609915,
          0.13331366245666318,
          0.13416576660155557,
          0.1350161699580897,
          0.13586504793551726,
          0.13671258312211096,
          0.13755896514339724,
          0.13840439051164197,
          0.13924906246669658,
          0.14009319080832716,
          0.14093699172015278,
          0.14178068758533688,
          0.142624506794176,
          0.14346868354374845,
          0.14431345762978656,
          0.14515907423095126,
          0.14600578368569142,
          0.14685384126188442,
          0.14770350691945558,
          0.14855504506618905,
          0.14940872430694466,
          0.15026481718650683,
          0.15112359992629676,
          0.15198535215518538,
          0.15285035663465252,
          0.15371889897854524,
          0.1545912673676893,
          0.15546775225961945,
          0.15634864609369623,
          0.15723424299188132,
          0.15812483845545244,
          0.15902072905793735,
          0.1599222121345564,
          0.16082958546846268,
          0.16174314697407507,
          0.16266319437780083,
          0.1635900248964488,
          0.16452393491363587,
          0.16546521965449196,
          0.16641417285896998,
          0.16737108645407256,
          0.1683362502253006,
          0.16930995148764155,
          0.1702924747564022,
          0.1712841014182052,
          0.17228510940245698,
          0.17329577285360195,
          0.17431636180447488,
          0.1753471418510615,
          0.176388373828979,
          0.177440313491984,
          0.17850321119281773,
          0.17957731156669082,
          0.18066285321771364,
          0.18176006840857237,
          0.18286918275375016,
          0.1839904149165863,
          0.18512397631047045,
          0.18627007080445576,
          0.1874288944335819,
          0.18860063511418432,
          0.18978547236447196,
          0.19098357703064298,
          0.19219511101881104,
          0.19342022703300224,
          0.1946590683194857,
          0.19591176841768854,
          0.1971784509179468,
          0.1984592292263324,
          0.19975420633679727,
          0.2010634746108614,
          0.20238711556507571,
          0.20372519966647334,
          0.20507778613622613,
          0.20644492276170928,
          0.20782664571717646,
          0.20922297939323328,
          0.21063393623529886,
          0.21205951659122896,
          0.213499708568274,
          0.214954487899533,
          0.2164238178200585,
          0.21790764895275908,
          0.21940591920424019,
          0.22091855367071156,
          0.22244546455408395,
          0.22398655108837232,
          0.22554169947650465,
          0.22711078283764002,
          0.2286936611650776,
          0.23029018129484033,
          0.23190017688499814,
          0.23352346840579696,
          0.23515986314063864,
          0.23680915519796014,
          0.23847112553403835,
          0.24014554198674862,
          0.24183215932028576,
          0.24353071928085668,
          0.2452409506633306,
          0.2469625693888409,
          0.24869527859330134,
          0.25043876872681176,
          0.25219271766389745,
          0.2539567908245353,
          0.2557306413058918,
          0.25751391002470503,
          0.25930622587021884,
          0.2611072058675736,
          0.262916455351551,
          0.2647335681505507,
          0.2665581267806767,
          0.26838970264979445,
          0.27022785627141344,
          0.27207213748823783,
          0.2739220857052187,
          0.2757772301319326,
          0.2776370900341019,
          0.2795011749940555,
          0.281368985179936,
          0.28324001162342544,
          0.28511373650578004,
          0.28698963345193057,
          0.28886716783241534,
          0.2907457970728888,
          0.2926249709709546,
          0.2945041320200503,
          0.2963827157401143,
          0.29826015101474734,
          0.3001358604345842,
          0.30200926064657485,
          0.3038797627088723,
          0.3057467724510136,
          0.30760969083908235,
          0.30946791434552445,
          0.31132083532329,
          0.313167842383966,
          0.31500832077956264,
          0.31684165278760756,
          0.31866721809919774,
          0.3204843942096627,
          0.32229255681147573,
          0.3240910801890624,
          0.32587933761513777,
          0.327656701748214,
          0.32942254503091056,
          0.3311762400887024,
          0.33291716012873507,
          0.3346446793383452,
          0.3363581732829106,
          0.3380570193026725,
          0.3397405969081531,
          0.34140828817381513,
          0.34305947812959064,
          0.3446935551499277,
          0.3463099113399912,
          0.3479079429186689,
          0.3494870505980289,
          0.35104663995888924,
          0.3525861218221527,
          0.35410491261557586,
          0.35560243473564174,
          0.3570781169042144,
          0.3585313945196585,
          0.35996171000211347,
          0.36136851313262347,
          0.3627512613858285,
          0.3641094202559308,
          0.36544246357566196,
          0.36674987382798185,
          0.36803114245025415,
          0.3692857701306496,
          0.3705132670965385,
          0.3717131533946488,
          0.37288495916277054,
          0.3740282248928045,
          0.3751425016849594,
          0.376227351492918,
          0.37728234735980065,
          0.37830707364476907,
          0.3793011262401245,
          0.380264112778768,
          0.38119565283189916,
          0.3820953780968505,
          0.3829629325749559,
          0.38379797273937544,
          0.38460016769280414,
          0.3853691993150088,
          0.38610476240014896,
          0.38680656478384967,
          0.3874743274600084,
          0.3881077846873301,
          0.3887066840855979,
          0.3892707867216956,
          0.38979986718541837,
          0.3902937136551103,
          0.39075212795318764,
          0.3911749255916145,
          0.3915619358074075,
          0.3919130015882637,
          0.39222797968840833,
          0.3925067406347772,
          0.39274916872365523,
          0.39295516200790165,
          0.393124632274907,
          0.3932575050154298,
          0.3933537193834753,
          0.39341322814738533,
          0.3934359976323139,
          0.3934220076542776,
          0.3933712514459684,
          0.3932837355745317,
          0.39315947985151395,
          0.392998517235191,
          0.3928008937254966,
          0.39256666825177056,
          0.3922959125535573,
          0.39198871105468386,
          0.3916451607308527,
          0.39126537097099046,
          0.3908494634325894,
          0.39039757189129054,
          0.3899098420849495,
          0.38938643155243574,
          0.3888275094674103,
          0.3882332564673336,
          0.38760386447794887,
          0.3869395365334922,
          0.3862404865928755,
          0.3855069393520888,
          0.38473913005306754,
          0.38393730428926653,
          0.38310171780818236,
          0.38223263631106075,
          0.3813303352500239,
          0.3803950996228507,
          0.37942722376563437,
          0.37842701114354294,
          0.37739477413990224,
          0.3763308338438114,
          0.37523551983650805,
          0.37410916997667953,
          0.37295213018492357,
          0.37176475422755134,
          0.37054740349991944,
          0.3693004468094712,
          0.3680242601586667,
          0.36671922652796435,
          0.36538573565902455,
          0.364024183838284,
          0.36263497368105363,
          0.36121851391628557,
          0.35977521917214,
          0.3583055097624841,
          0.3568098114744468,
          0.35528855535714077,
          0.3537421775116681,
          0.35217111888250197,
          0.3505758250503491,
          0.3489567460265743,
          0.3473143360492757,
          0.3456490533810817,
          0.3439613601087414,
          0.3422517219445677,
          0.3405206080297979,
          0.33876849073991194,
          0.3369958454919627,
          0.33520315055394767,
          0.3333908868562674,
          0.3315595378052866,
          0.32970958909902853,
          0.3278415285450148,
          0.32595584588027005,
          0.3240530325934935,
          0.3221335817494015,
          0.3201979878152444,
          0.3182467464894864,
          0.31628035453264913,
          0.31429930960029506,
          0.3123041100781415,
          0.3102952549192915,
          0.3082732434835419,
          0.306238575378767,
          0.3041917503043301,
          0.30213326789650474,
          0.3000636275758719,
          0.29798332839665564,
          0.2958928688979628,
          0.2937927469568988,
          0.29168345964349973,
          0.28956550307747025,
          0.28743937228666133,
          0.2853055610672599,
          0.28316456184565,
          0.28101686554189564,
          0.2788629614348101,
          0.2767033370285678,
          0.2745384779208145,
          0.272368867672242,
          0.2701949876775772,
          0.26801731703795,
          0.2658363324346049,
          0.2636525080039101,
          0.2614663152136321,
          0.2592782227404401,
          0.2570886963486012,
          0.2548981987698429,
          0.25270718958433935,
          0.25051612510279997,
          0.2483254582496336,
          0.2461356384471553,
          0.24394711150081894,
          0.24176031948544827,
          0.2395757006324524,
          0.23739368921800613,
          0.2352147154521765,
          0.23303920536898917,
          0.23086758071741856,
          0.228700258853302,
          0.22653765263216327,
          0.22438017030295,
          0.22222821540268073,
          0.2200821866520112,
          0.21794247785171483,
          0.2158094777800956,
          0.21368357009133906,
          0.21156513321481404,
          0.20945454025534938,
          0.2073521588944947,
          0.20525835129279257,
          0.20317347399309013,
          0.20109787782491034,
          0.19903190780991944,
          0.19697590306852122,
          0.19493019672761258,
          0.19289511582954594,
          0.19087098124232857,
          0.1888581075711138,
          0.18685680307102626,
          0.18486736956136723,
          0.18289010234125844,
          0.18092529010677444,
          0.17897321486961956,
          0.17703415187741506,
          0.17510836953564948,
          0.17319612933136122,
          0.1712976857586198,
          0.16941328624586882,
          0.1675431710852098,
          0.16568757336368967,
          0.1638467188966692,
          0.16202082616335425,
          0.1602101062445562,
          0.15841476276276945,
          0.15663499182464313,
          0.15487098196592655,
          0.15312291409897832,
          0.15139096146291464,
          0.14967528957648557,
          0.14797605619376927,
          0.1462934112627604,
          0.14462749688695087,
          0.14297844728998121,
          0.14134638878345307,
          0.13973143973799376,
          0.13813371055765314,
          0.13655330365772245,
          0.13499031344606752,
          0.13344482630804627,
          0.13191692059511448,
          0.1304066666171874,
          0.12891412663884597,
          0.12743935487947033,
          0.12598239751737345,
          0.12454329269801398,
          0.12312207054636914,
          0.1217187531835254,
          0.12033335474757421,
          0.11896588141886566,
          0.11761633144968953,
          0.11628469519844678,
          0.1149709551683624,
          0.11367508605079638,
          0.11239705477320522,
          0.11113682055179105,
          0.10989433494888963,
          0.1086695419351247,
          0.10746237795636666,
          0.10627277200551762,
          0.10510064569915037,
          0.10394591335901086,
          0.1028084820984002,
          0.1016882519134379,
          0.10058511577920994,
          0.09949895975078925,
          0.09842966306912097,
          0.09737709827174892,
          0.096341131308363,
          0.09532162166112916,
          0.09431842246976799,
          0.09333138066133291,
          0.09236033708463912,
          0.09140512664927986,
          0.09046557846916634,
          0.0895415160105159,
          0.08863275724421099,
          0.08773911480243614,
          0.08686039613950404,
          0.08599640369676292,
          0.08514693507148166,
          0.08431178318959207,
          0.08349073648216784,
          0.08268357906550987,
          0.08189009092469896,
          0.08111004810047659,
          0.080343222879299,
          0.07958938398640933,
          0.07884829678176829,
          0.07811972345866658,
          0.07740342324485242,
          0.07669915260598671,
          0.07600666545124196,
          0.0753257133408535,
          0.07465604569542429,
          0.07399741000678169,
          0.07334955205018276,
          0.07271221609765069,
          0.07208514513223588,
          0.07146808106297621,
          0.07086076494033845,
          0.07026293717191506,
          0.06967433773814923,
          0.06909470640785706,
          0.0685237829533168,
          0.06796130736469012,
          0.0674070200635431,
          0.06686066211522912,
          0.06632197543989883,
          0.06579070302190282,
          0.06526658911734909,
          0.06474937945958266,
          0.064238821462353,
          0.06373466442043776,
          0.06323665970749381,
          0.06274456097090697,
          0.062258124323416535,
          0.06177710853129498,
          0.06130127519886278,
          0.06083038894912708,
          0.0603642176003343,
          0.05990253233823305,
          0.05944510788384881,
          0.0589917226565767,
          0.05854215893240507,
          0.058096202997090673,
          0.057653645294108595,
          0.057214280567213054,
          0.05677790799744665,
          0.056344331334446884,
          0.055913359021907715,
          0.055484804317055936,
          0.05505848540401956,
          0.05463422550096748,
          0.054211852960908906,
          0.05379120136605602,
          0.05337210961565529,
          0.05295442200720673
         ],
         "yaxis": "y"
        },
        {
         "legendgroup": "weight (in pounds)",
         "marker": {
          "color": "indigo",
          "symbol": "line-ns-open"
         },
         "mode": "markers",
         "name": "weight (in pounds)",
         "showlegend": false,
         "type": "scatter",
         "x": [
          7.8,
          8.2,
          9,
          8.8,
          6.5,
          7.4,
          8.4,
          8.3,
          9.4,
          10.3,
          6.8,
          8.1,
          7.3,
          6.2,
          8,
          8.7,
          7.9,
          7.8,
          8.6
         ],
         "xaxis": "x",
         "y": [
          "weight (in pounds)",
          "weight (in pounds)",
          "weight (in pounds)",
          "weight (in pounds)",
          "weight (in pounds)",
          "weight (in pounds)",
          "weight (in pounds)",
          "weight (in pounds)",
          "weight (in pounds)",
          "weight (in pounds)",
          "weight (in pounds)",
          "weight (in pounds)",
          "weight (in pounds)",
          "weight (in pounds)",
          "weight (in pounds)",
          "weight (in pounds)",
          "weight (in pounds)",
          "weight (in pounds)",
          "weight (in pounds)"
         ],
         "yaxis": "y2"
        }
       ],
       "layout": {
        "autosize": false,
        "barmode": "overlay",
        "height": 700,
        "hovermode": "closest",
        "legend": {
         "traceorder": "reversed"
        },
        "template": {
         "data": {
          "bar": [
           {
            "error_x": {
             "color": "#2a3f5f"
            },
            "error_y": {
             "color": "#2a3f5f"
            },
            "marker": {
             "line": {
              "color": "#E5ECF6",
              "width": 0.5
             },
             "pattern": {
              "fillmode": "overlay",
              "size": 10,
              "solidity": 0.2
             }
            },
            "type": "bar"
           }
          ],
          "barpolar": [
           {
            "marker": {
             "line": {
              "color": "#E5ECF6",
              "width": 0.5
             },
             "pattern": {
              "fillmode": "overlay",
              "size": 10,
              "solidity": 0.2
             }
            },
            "type": "barpolar"
           }
          ],
          "carpet": [
           {
            "aaxis": {
             "endlinecolor": "#2a3f5f",
             "gridcolor": "white",
             "linecolor": "white",
             "minorgridcolor": "white",
             "startlinecolor": "#2a3f5f"
            },
            "baxis": {
             "endlinecolor": "#2a3f5f",
             "gridcolor": "white",
             "linecolor": "white",
             "minorgridcolor": "white",
             "startlinecolor": "#2a3f5f"
            },
            "type": "carpet"
           }
          ],
          "choropleth": [
           {
            "colorbar": {
             "outlinewidth": 0,
             "ticks": ""
            },
            "type": "choropleth"
           }
          ],
          "contour": [
           {
            "colorbar": {
             "outlinewidth": 0,
             "ticks": ""
            },
            "colorscale": [
             [
              0,
              "#0d0887"
             ],
             [
              0.1111111111111111,
              "#46039f"
             ],
             [
              0.2222222222222222,
              "#7201a8"
             ],
             [
              0.3333333333333333,
              "#9c179e"
             ],
             [
              0.4444444444444444,
              "#bd3786"
             ],
             [
              0.5555555555555556,
              "#d8576b"
             ],
             [
              0.6666666666666666,
              "#ed7953"
             ],
             [
              0.7777777777777778,
              "#fb9f3a"
             ],
             [
              0.8888888888888888,
              "#fdca26"
             ],
             [
              1,
              "#f0f921"
             ]
            ],
            "type": "contour"
           }
          ],
          "contourcarpet": [
           {
            "colorbar": {
             "outlinewidth": 0,
             "ticks": ""
            },
            "type": "contourcarpet"
           }
          ],
          "heatmap": [
           {
            "colorbar": {
             "outlinewidth": 0,
             "ticks": ""
            },
            "colorscale": [
             [
              0,
              "#0d0887"
             ],
             [
              0.1111111111111111,
              "#46039f"
             ],
             [
              0.2222222222222222,
              "#7201a8"
             ],
             [
              0.3333333333333333,
              "#9c179e"
             ],
             [
              0.4444444444444444,
              "#bd3786"
             ],
             [
              0.5555555555555556,
              "#d8576b"
             ],
             [
              0.6666666666666666,
              "#ed7953"
             ],
             [
              0.7777777777777778,
              "#fb9f3a"
             ],
             [
              0.8888888888888888,
              "#fdca26"
             ],
             [
              1,
              "#f0f921"
             ]
            ],
            "type": "heatmap"
           }
          ],
          "heatmapgl": [
           {
            "colorbar": {
             "outlinewidth": 0,
             "ticks": ""
            },
            "colorscale": [
             [
              0,
              "#0d0887"
             ],
             [
              0.1111111111111111,
              "#46039f"
             ],
             [
              0.2222222222222222,
              "#7201a8"
             ],
             [
              0.3333333333333333,
              "#9c179e"
             ],
             [
              0.4444444444444444,
              "#bd3786"
             ],
             [
              0.5555555555555556,
              "#d8576b"
             ],
             [
              0.6666666666666666,
              "#ed7953"
             ],
             [
              0.7777777777777778,
              "#fb9f3a"
             ],
             [
              0.8888888888888888,
              "#fdca26"
             ],
             [
              1,
              "#f0f921"
             ]
            ],
            "type": "heatmapgl"
           }
          ],
          "histogram": [
           {
            "marker": {
             "pattern": {
              "fillmode": "overlay",
              "size": 10,
              "solidity": 0.2
             }
            },
            "type": "histogram"
           }
          ],
          "histogram2d": [
           {
            "colorbar": {
             "outlinewidth": 0,
             "ticks": ""
            },
            "colorscale": [
             [
              0,
              "#0d0887"
             ],
             [
              0.1111111111111111,
              "#46039f"
             ],
             [
              0.2222222222222222,
              "#7201a8"
             ],
             [
              0.3333333333333333,
              "#9c179e"
             ],
             [
              0.4444444444444444,
              "#bd3786"
             ],
             [
              0.5555555555555556,
              "#d8576b"
             ],
             [
              0.6666666666666666,
              "#ed7953"
             ],
             [
              0.7777777777777778,
              "#fb9f3a"
             ],
             [
              0.8888888888888888,
              "#fdca26"
             ],
             [
              1,
              "#f0f921"
             ]
            ],
            "type": "histogram2d"
           }
          ],
          "histogram2dcontour": [
           {
            "colorbar": {
             "outlinewidth": 0,
             "ticks": ""
            },
            "colorscale": [
             [
              0,
              "#0d0887"
             ],
             [
              0.1111111111111111,
              "#46039f"
             ],
             [
              0.2222222222222222,
              "#7201a8"
             ],
             [
              0.3333333333333333,
              "#9c179e"
             ],
             [
              0.4444444444444444,
              "#bd3786"
             ],
             [
              0.5555555555555556,
              "#d8576b"
             ],
             [
              0.6666666666666666,
              "#ed7953"
             ],
             [
              0.7777777777777778,
              "#fb9f3a"
             ],
             [
              0.8888888888888888,
              "#fdca26"
             ],
             [
              1,
              "#f0f921"
             ]
            ],
            "type": "histogram2dcontour"
           }
          ],
          "mesh3d": [
           {
            "colorbar": {
             "outlinewidth": 0,
             "ticks": ""
            },
            "type": "mesh3d"
           }
          ],
          "parcoords": [
           {
            "line": {
             "colorbar": {
              "outlinewidth": 0,
              "ticks": ""
             }
            },
            "type": "parcoords"
           }
          ],
          "pie": [
           {
            "automargin": true,
            "type": "pie"
           }
          ],
          "scatter": [
           {
            "fillpattern": {
             "fillmode": "overlay",
             "size": 10,
             "solidity": 0.2
            },
            "type": "scatter"
           }
          ],
          "scatter3d": [
           {
            "line": {
             "colorbar": {
              "outlinewidth": 0,
              "ticks": ""
             }
            },
            "marker": {
             "colorbar": {
              "outlinewidth": 0,
              "ticks": ""
             }
            },
            "type": "scatter3d"
           }
          ],
          "scattercarpet": [
           {
            "marker": {
             "colorbar": {
              "outlinewidth": 0,
              "ticks": ""
             }
            },
            "type": "scattercarpet"
           }
          ],
          "scattergeo": [
           {
            "marker": {
             "colorbar": {
              "outlinewidth": 0,
              "ticks": ""
             }
            },
            "type": "scattergeo"
           }
          ],
          "scattergl": [
           {
            "marker": {
             "colorbar": {
              "outlinewidth": 0,
              "ticks": ""
             }
            },
            "type": "scattergl"
           }
          ],
          "scattermapbox": [
           {
            "marker": {
             "colorbar": {
              "outlinewidth": 0,
              "ticks": ""
             }
            },
            "type": "scattermapbox"
           }
          ],
          "scatterpolar": [
           {
            "marker": {
             "colorbar": {
              "outlinewidth": 0,
              "ticks": ""
             }
            },
            "type": "scatterpolar"
           }
          ],
          "scatterpolargl": [
           {
            "marker": {
             "colorbar": {
              "outlinewidth": 0,
              "ticks": ""
             }
            },
            "type": "scatterpolargl"
           }
          ],
          "scatterternary": [
           {
            "marker": {
             "colorbar": {
              "outlinewidth": 0,
              "ticks": ""
             }
            },
            "type": "scatterternary"
           }
          ],
          "surface": [
           {
            "colorbar": {
             "outlinewidth": 0,
             "ticks": ""
            },
            "colorscale": [
             [
              0,
              "#0d0887"
             ],
             [
              0.1111111111111111,
              "#46039f"
             ],
             [
              0.2222222222222222,
              "#7201a8"
             ],
             [
              0.3333333333333333,
              "#9c179e"
             ],
             [
              0.4444444444444444,
              "#bd3786"
             ],
             [
              0.5555555555555556,
              "#d8576b"
             ],
             [
              0.6666666666666666,
              "#ed7953"
             ],
             [
              0.7777777777777778,
              "#fb9f3a"
             ],
             [
              0.8888888888888888,
              "#fdca26"
             ],
             [
              1,
              "#f0f921"
             ]
            ],
            "type": "surface"
           }
          ],
          "table": [
           {
            "cells": {
             "fill": {
              "color": "#EBF0F8"
             },
             "line": {
              "color": "white"
             }
            },
            "header": {
             "fill": {
              "color": "#C8D4E3"
             },
             "line": {
              "color": "white"
             }
            },
            "type": "table"
           }
          ]
         },
         "layout": {
          "annotationdefaults": {
           "arrowcolor": "#2a3f5f",
           "arrowhead": 0,
           "arrowwidth": 1
          },
          "autotypenumbers": "strict",
          "coloraxis": {
           "colorbar": {
            "outlinewidth": 0,
            "ticks": ""
           }
          },
          "colorscale": {
           "diverging": [
            [
             0,
             "#8e0152"
            ],
            [
             0.1,
             "#c51b7d"
            ],
            [
             0.2,
             "#de77ae"
            ],
            [
             0.3,
             "#f1b6da"
            ],
            [
             0.4,
             "#fde0ef"
            ],
            [
             0.5,
             "#f7f7f7"
            ],
            [
             0.6,
             "#e6f5d0"
            ],
            [
             0.7,
             "#b8e186"
            ],
            [
             0.8,
             "#7fbc41"
            ],
            [
             0.9,
             "#4d9221"
            ],
            [
             1,
             "#276419"
            ]
           ],
           "sequential": [
            [
             0,
             "#0d0887"
            ],
            [
             0.1111111111111111,
             "#46039f"
            ],
            [
             0.2222222222222222,
             "#7201a8"
            ],
            [
             0.3333333333333333,
             "#9c179e"
            ],
            [
             0.4444444444444444,
             "#bd3786"
            ],
            [
             0.5555555555555556,
             "#d8576b"
            ],
            [
             0.6666666666666666,
             "#ed7953"
            ],
            [
             0.7777777777777778,
             "#fb9f3a"
            ],
            [
             0.8888888888888888,
             "#fdca26"
            ],
            [
             1,
             "#f0f921"
            ]
           ],
           "sequentialminus": [
            [
             0,
             "#0d0887"
            ],
            [
             0.1111111111111111,
             "#46039f"
            ],
            [
             0.2222222222222222,
             "#7201a8"
            ],
            [
             0.3333333333333333,
             "#9c179e"
            ],
            [
             0.4444444444444444,
             "#bd3786"
            ],
            [
             0.5555555555555556,
             "#d8576b"
            ],
            [
             0.6666666666666666,
             "#ed7953"
            ],
            [
             0.7777777777777778,
             "#fb9f3a"
            ],
            [
             0.8888888888888888,
             "#fdca26"
            ],
            [
             1,
             "#f0f921"
            ]
           ]
          },
          "colorway": [
           "#636efa",
           "#EF553B",
           "#00cc96",
           "#ab63fa",
           "#FFA15A",
           "#19d3f3",
           "#FF6692",
           "#B6E880",
           "#FF97FF",
           "#FECB52"
          ],
          "font": {
           "color": "#2a3f5f"
          },
          "geo": {
           "bgcolor": "white",
           "lakecolor": "white",
           "landcolor": "#E5ECF6",
           "showlakes": true,
           "showland": true,
           "subunitcolor": "white"
          },
          "hoverlabel": {
           "align": "left"
          },
          "hovermode": "closest",
          "mapbox": {
           "style": "light"
          },
          "paper_bgcolor": "white",
          "plot_bgcolor": "#E5ECF6",
          "polar": {
           "angularaxis": {
            "gridcolor": "white",
            "linecolor": "white",
            "ticks": ""
           },
           "bgcolor": "#E5ECF6",
           "radialaxis": {
            "gridcolor": "white",
            "linecolor": "white",
            "ticks": ""
           }
          },
          "scene": {
           "xaxis": {
            "backgroundcolor": "#E5ECF6",
            "gridcolor": "white",
            "gridwidth": 2,
            "linecolor": "white",
            "showbackground": true,
            "ticks": "",
            "zerolinecolor": "white"
           },
           "yaxis": {
            "backgroundcolor": "#E5ECF6",
            "gridcolor": "white",
            "gridwidth": 2,
            "linecolor": "white",
            "showbackground": true,
            "ticks": "",
            "zerolinecolor": "white"
           },
           "zaxis": {
            "backgroundcolor": "#E5ECF6",
            "gridcolor": "white",
            "gridwidth": 2,
            "linecolor": "white",
            "showbackground": true,
            "ticks": "",
            "zerolinecolor": "white"
           }
          },
          "shapedefaults": {
           "line": {
            "color": "#2a3f5f"
           }
          },
          "ternary": {
           "aaxis": {
            "gridcolor": "white",
            "linecolor": "white",
            "ticks": ""
           },
           "baxis": {
            "gridcolor": "white",
            "linecolor": "white",
            "ticks": ""
           },
           "bgcolor": "#E5ECF6",
           "caxis": {
            "gridcolor": "white",
            "linecolor": "white",
            "ticks": ""
           }
          },
          "title": {
           "x": 0.05
          },
          "xaxis": {
           "automargin": true,
           "gridcolor": "white",
           "linecolor": "white",
           "ticks": "",
           "title": {
            "standoff": 15
           },
           "zerolinecolor": "white",
           "zerolinewidth": 2
          },
          "yaxis": {
           "automargin": true,
           "gridcolor": "white",
           "linecolor": "white",
           "ticks": "",
           "title": {
            "standoff": 15
           },
           "zerolinecolor": "white",
           "zerolinewidth": 2
          }
         }
        },
        "title": {
         "text": "Distribution of weight (in pounds) "
        },
        "width": 1200,
        "xaxis": {
         "anchor": "y2",
         "domain": [
          0,
          1
         ],
         "showgrid": false,
         "zeroline": false
        },
        "yaxis": {
         "anchor": "free",
         "domain": [
          0.35,
          1
         ],
         "position": 0,
         "showgrid": false
        },
        "yaxis2": {
         "anchor": "x",
         "domain": [
          0,
          0.25
         ],
         "dtick": 1,
         "showgrid": false,
         "showticklabels": false
        }
       }
      }
     },
     "metadata": {},
     "output_type": "display_data"
    }
   ],
   "source": [
    "import plotly.figure_factory as ff\n",
    "col_one_list = df_new['weight (in pounds)'].tolist() # converting the dataframe column to a list as plotly dist plot takes input as list\n",
    "\n",
    "variables = [col_one_list]\n",
    "labels = ['weight (in pounds)']\n",
    "fig = ff.create_distplot(variables, labels, show_hist=True, colors = ['indigo'],bin_size=.6) # \n",
    "\n",
    "fig.update_layout(title='Distribution of weight (in pounds) ',\n",
    "                  autosize=False,\n",
    "                  width=1200,\n",
    "                  height=700,\n",
    "                  template = \"plotly\")\n",
    "fig.update_xaxes(showgrid= False)\n",
    "fig.update_yaxes(showgrid= False)  \n",
    "\n",
    "fig.show()"
   ]
  },
  {
   "cell_type": "code",
   "execution_count": 27,
   "metadata": {
    "pycharm": {
     "name": "#%%\n"
    }
   },
   "outputs": [
    {
     "data": {
      "application/vnd.plotly.v1+json": {
       "config": {
        "plotlyServerURL": "https://plot.ly"
       },
       "data": [
        {
         "autobinx": false,
         "histnorm": "probability density",
         "legendgroup": "weight (in pounds)",
         "marker": {
          "color": "orange"
         },
         "name": "weight (in pounds)",
         "opacity": 0.7,
         "type": "histogram",
         "x": [
          7.8,
          8.2,
          9,
          8.8,
          6.5,
          7.4,
          8.4,
          8.3,
          9.4,
          10.3,
          6.8,
          8.1,
          7.3,
          6.2,
          8,
          8.7,
          7.9,
          7.8,
          8.6
         ],
         "xaxis": "x",
         "xbins": {
          "end": 10.3,
          "size": 0.6,
          "start": 6.2
         },
         "yaxis": "y"
        },
        {
         "legendgroup": "weight (in pounds)",
         "marker": {
          "color": "orange"
         },
         "mode": "lines",
         "name": "weight (in pounds)",
         "showlegend": false,
         "type": "scatter",
         "x": [
          6.2,
          6.208200000000001,
          6.2164,
          6.224600000000001,
          6.2328,
          6.2410000000000005,
          6.2492,
          6.2574000000000005,
          6.2656,
          6.2738000000000005,
          6.282,
          6.2902000000000005,
          6.2984,
          6.3066,
          6.3148,
          6.323,
          6.3312,
          6.3394,
          6.3476,
          6.3558,
          6.364,
          6.3722,
          6.3804,
          6.3886,
          6.3968,
          6.405,
          6.4132,
          6.4214,
          6.429600000000001,
          6.4378,
          6.446000000000001,
          6.4542,
          6.462400000000001,
          6.4706,
          6.478800000000001,
          6.487,
          6.4952000000000005,
          6.5034,
          6.5116000000000005,
          6.5198,
          6.5280000000000005,
          6.5362,
          6.5444,
          6.5526,
          6.5608,
          6.569,
          6.5772,
          6.5854,
          6.5936,
          6.6018,
          6.61,
          6.6182,
          6.6264,
          6.634600000000001,
          6.6428,
          6.651,
          6.6592,
          6.667400000000001,
          6.6756,
          6.683800000000001,
          6.692,
          6.700200000000001,
          6.7084,
          6.716600000000001,
          6.7248,
          6.7330000000000005,
          6.7412,
          6.7494000000000005,
          6.7576,
          6.7658000000000005,
          6.774,
          6.7822000000000005,
          6.7904,
          6.7986,
          6.8068,
          6.815,
          6.8232,
          6.8314,
          6.839600000000001,
          6.8478,
          6.856,
          6.8642,
          6.872400000000001,
          6.8806,
          6.8888,
          6.897,
          6.905200000000001,
          6.9134,
          6.921600000000001,
          6.9298,
          6.938000000000001,
          6.9462,
          6.954400000000001,
          6.9626,
          6.9708000000000006,
          6.979,
          6.9872000000000005,
          6.9954,
          7.0036000000000005,
          7.0118,
          7.0200000000000005,
          7.0282,
          7.0364,
          7.0446,
          7.0528,
          7.061,
          7.0692,
          7.0774,
          7.0856,
          7.0938,
          7.102,
          7.110200000000001,
          7.1184,
          7.1266,
          7.1348,
          7.143000000000001,
          7.1512,
          7.159400000000001,
          7.1676,
          7.175800000000001,
          7.184,
          7.192200000000001,
          7.2004,
          7.208600000000001,
          7.2168,
          7.2250000000000005,
          7.2332,
          7.2414000000000005,
          7.2496,
          7.2578000000000005,
          7.266,
          7.2742,
          7.2824,
          7.2906,
          7.2988,
          7.307,
          7.3152,
          7.3234,
          7.3316,
          7.3398,
          7.348000000000001,
          7.3562,
          7.3644,
          7.3726,
          7.380800000000001,
          7.389,
          7.3972,
          7.4054,
          7.413600000000001,
          7.4218,
          7.430000000000001,
          7.4382,
          7.446400000000001,
          7.4546,
          7.4628000000000005,
          7.471,
          7.4792000000000005,
          7.4874,
          7.4956000000000005,
          7.5038,
          7.5120000000000005,
          7.520200000000001,
          7.5284,
          7.5366,
          7.5448,
          7.553000000000001,
          7.5612,
          7.5694,
          7.5776,
          7.585800000000001,
          7.594,
          7.602200000000001,
          7.6104,
          7.618600000000001,
          7.6268,
          7.635000000000001,
          7.6432,
          7.651400000000001,
          7.6596,
          7.667800000000001,
          7.676,
          7.684200000000001,
          7.6924,
          7.7006000000000006,
          7.7088,
          7.7170000000000005,
          7.725200000000001,
          7.7334000000000005,
          7.7416,
          7.7498000000000005,
          7.758000000000001,
          7.7662,
          7.7744,
          7.7826,
          7.790800000000001,
          7.799,
          7.8072,
          7.8154,
          7.823600000000001,
          7.8318,
          7.84,
          7.8482,
          7.856400000000001,
          7.8646,
          7.872800000000001,
          7.881,
          7.889200000000001,
          7.8974,
          7.905600000000001,
          7.9138,
          7.922000000000001,
          7.9302,
          7.938400000000001,
          7.9466,
          7.9548000000000005,
          7.963,
          7.9712000000000005,
          7.9794,
          7.9876000000000005,
          7.995800000000001,
          8.004000000000001,
          8.0122,
          8.0204,
          8.0286,
          8.0368,
          8.045,
          8.0532,
          8.0614,
          8.069600000000001,
          8.0778,
          8.086,
          8.0942,
          8.102400000000001,
          8.1106,
          8.1188,
          8.127,
          8.135200000000001,
          8.1434,
          8.1516,
          8.1598,
          8.168000000000001,
          8.1762,
          8.1844,
          8.1926,
          8.200800000000001,
          8.209,
          8.2172,
          8.2254,
          8.233600000000001,
          8.241800000000001,
          8.25,
          8.2582,
          8.2664,
          8.2746,
          8.2828,
          8.291,
          8.2992,
          8.307400000000001,
          8.3156,
          8.3238,
          8.332,
          8.3402,
          8.3484,
          8.3566,
          8.3648,
          8.373000000000001,
          8.3812,
          8.3894,
          8.3976,
          8.4058,
          8.414000000000001,
          8.4222,
          8.4304,
          8.438600000000001,
          8.4468,
          8.455,
          8.4632,
          8.471400000000001,
          8.479600000000001,
          8.4878,
          8.496,
          8.5042,
          8.5124,
          8.5206,
          8.5288,
          8.537,
          8.545200000000001,
          8.5534,
          8.5616,
          8.5698,
          8.578000000000001,
          8.5862,
          8.5944,
          8.6026,
          8.610800000000001,
          8.619,
          8.6272,
          8.6354,
          8.643600000000001,
          8.6518,
          8.66,
          8.6682,
          8.676400000000001,
          8.6846,
          8.6928,
          8.701,
          8.709200000000001,
          8.717400000000001,
          8.7256,
          8.7338,
          8.742,
          8.7502,
          8.758400000000002,
          8.7666,
          8.7748,
          8.783000000000001,
          8.7912,
          8.7994,
          8.8076,
          8.8158,
          8.824000000000002,
          8.8322,
          8.8404,
          8.848600000000001,
          8.8568,
          8.865,
          8.8732,
          8.881400000000001,
          8.889600000000002,
          8.8978,
          8.906,
          8.914200000000001,
          8.9224,
          8.9306,
          8.9388,
          8.947000000000001,
          8.955200000000001,
          8.9634,
          8.9716,
          8.979800000000001,
          8.988,
          8.9962,
          9.0044,
          9.0126,
          9.020800000000001,
          9.029,
          9.0372,
          9.0454,
          9.053600000000001,
          9.0618,
          9.07,
          9.0782,
          9.086400000000001,
          9.0946,
          9.1028,
          9.111,
          9.119200000000001,
          9.127400000000002,
          9.1356,
          9.1438,
          9.152000000000001,
          9.1602,
          9.1684,
          9.1766,
          9.184800000000001,
          9.193000000000001,
          9.2012,
          9.2094,
          9.217600000000001,
          9.2258,
          9.234,
          9.2422,
          9.2504,
          9.258600000000001,
          9.2668,
          9.275,
          9.2832,
          9.291400000000001,
          9.299600000000002,
          9.3078,
          9.316,
          9.324200000000001,
          9.3324,
          9.3406,
          9.3488,
          9.357000000000001,
          9.365200000000002,
          9.3734,
          9.3816,
          9.389800000000001,
          9.398,
          9.4062,
          9.4144,
          9.422600000000001,
          9.430800000000001,
          9.439,
          9.4472,
          9.455400000000001,
          9.4636,
          9.471800000000002,
          9.48,
          9.4882,
          9.496400000000001,
          9.5046,
          9.5128,
          9.521,
          9.5292,
          9.537400000000002,
          9.5456,
          9.5538,
          9.562000000000001,
          9.5702,
          9.5784,
          9.5866,
          9.594800000000001,
          9.603000000000002,
          9.6112,
          9.6194,
          9.627600000000001,
          9.635800000000001,
          9.644,
          9.6522,
          9.660400000000001,
          9.668600000000001,
          9.6768,
          9.685,
          9.693200000000001,
          9.701400000000001,
          9.7096,
          9.7178,
          9.726,
          9.734200000000001,
          9.7424,
          9.7506,
          9.7588,
          9.767000000000001,
          9.7752,
          9.7834,
          9.7916,
          9.799800000000001,
          9.808,
          9.8162,
          9.8244,
          9.832600000000001,
          9.840800000000002,
          9.849,
          9.8572,
          9.865400000000001,
          9.8736,
          9.881800000000002,
          9.89,
          9.898200000000001,
          9.906400000000001,
          9.9146,
          9.9228,
          9.931000000000001,
          9.9392,
          9.947400000000002,
          9.9556,
          9.9638,
          9.972000000000001,
          9.9802,
          9.9884,
          9.9966,
          10.004800000000001,
          10.013000000000002,
          10.0212,
          10.0294,
          10.037600000000001,
          10.0458,
          10.054,
          10.0622,
          10.070400000000001,
          10.078600000000002,
          10.0868,
          10.095,
          10.103200000000001,
          10.1114,
          10.1196,
          10.1278,
          10.136000000000001,
          10.144200000000001,
          10.1524,
          10.1606,
          10.168800000000001,
          10.177,
          10.185200000000002,
          10.1934,
          10.201600000000001,
          10.209800000000001,
          10.218,
          10.226200000000002,
          10.2344,
          10.2426,
          10.250800000000002,
          10.259,
          10.2672,
          10.275400000000001,
          10.2836,
          10.291800000000002
         ],
         "xaxis": "x",
         "y": [
          0.06258692955194822,
          0.06362295998919859,
          0.06467149628500304,
          0.06573259272188793,
          0.06680630174719399,
          0.0678926739277803,
          0.0689917579046658,
          0.07010360034763023,
          0.07122824590979004,
          0.07236573718217261,
          0.07351611464830385,
          0.07467941663883444,
          0.07585567928621924,
          0.07704493647947623,
          0.07824721981904005,
          0.07946255857173726,
          0.08069097962589859,
          0.08193250744663606,
          0.08318716403130061,
          0.08445496886514861,
          0.08573593887723377,
          0.0870300883965528,
          0.08833742910846211,
          0.08965797001139375,
          0.09099171737388932,
          0.09233867469197961,
          0.09369884264692901,
          0.09507221906337357,
          0.09645879886787145,
          0.09785857404789426,
          0.09927153361128128,
          0.10069766354618027,
          0.10213694678150224,
          0.10358936314791063,
          0.10505488933937424,
          0.10653349887530358,
          0.10802516206330066,
          0.10952984596254146,
          0.11104751434782162,
          0.11257812767428471,
          0.11412164304286311,
          0.11567801416645122,
          0.11724719133684106,
          0.11882912139243942,
          0.1204237476867972,
          0.12203101005796964,
          0.1236508447987375,
          0.1252831846277085,
          0.12692795866132844,
          0.12858509238682067,
          0.1302545076360839,
          0.13193612256056622,
          0.13362985160714452,
          0.135335605495028,
          0.13705329119371257,
          0.138782811902008,
          0.14052406702815942,
          0.14227695217108696,
          0.14404135910276603,
          0.14581717575176997,
          0.14760428618799476,
          0.1494025706085909,
          0.151211905325119,
          0.15303216275195425,
          0.15486321139595527,
          0.15670491584742197,
          0.1585571367723567,
          0.1604197309060533,
          0.16229255104802673,
          0.16417544605830697,
          0.16606826085510942,
          0.16797083641390453,
          0.16988300976789705,
          0.1718046140099376,
          0.17373547829587532,
          0.17567542784937373,
          0.1776242839681965,
          0.1795818640319849,
          0.181547981511533,
          0.18352244597957823,
          0.18550506312311799,
          0.1874956347572618,
          0.1894939588406316,
          0.1914998294923206,
          0.1935130370104191,
          0.19553336789211542,
          0.19756060485538054,
          0.19959452686224483,
          0.2016349091436724,
          0.20368152322603672,
          0.20573413695920786,
          0.20779251454624917,
          0.2098564165747334,
          0.21192560004967417,
          0.21399981842808238,
          0.2160788216551405,
          0.218162356202003,
          0.2202501651052151,
          0.2223419880077556,
          0.2244375612016945,
          0.2265366176724698,
          0.22863888714477212,
          0.23074409613003985,
          0.2328519679755524,
          0.23496222291512162,
          0.23707457812136773,
          0.23918874775957852,
          0.24130444304313542,
          0.2434213722905037,
          0.24553924098377009,
          0.2476577518287211,
          0.24977660481644504,
          0.2518954972864482,
          0.2540141239912691,
          0.2561321771625757,
          0.2582493465787285,
          0.26036531963379594,
          0.2624797814080021,
          0.26459241473958584,
          0.26670290029805765,
          0.2688109166588274,
          0.27091614037918776,
          0.2730182460756253,
          0.2751169065024426,
          0.2772117926316608,
          0.2793025737341853,
          0.28138891746220196,
          0.28347048993278423,
          0.2855469558126779,
          0.2876179784042418,
          0.28968321973250977,
          0.29174234063335047,
          0.2937950008426884,
          0.29584085908676266,
          0.2978795731733836,
          0.29991080008416277,
          0.30193419606767635,
          0.30394941673353426,
          0.305956117147314,
          0.30795395192633146,
          0.309942575336205,
          0.3119216413881831,
          0.3138908039371948,
          0.3158497167805853,
          0.31779803375749965,
          0.31973540884887547,
          0.32166149627800505,
          0.32357595061162664,
          0.32547842686150363,
          0.3273685805864534,
          0.3292460679947828,
          0.3311105460470856,
          0.3329616725593667,
          0.3347991063064412,
          0.3366225071255747,
          0.3384315360203127,
          0.34022585526446286,
          0.3420051285061795,
          0.3437690208721114,
          0.3455171990715641,
          0.3472493315006348,
          0.34896508834627205,
          0.3506641416902173,
          0.35234616561278226,
          0.35401083629641433,
          0.35565783212900753,
          0.3572868338069103,
          0.3588975244375875,
          0.3604895896418865,
          0.36206271765586456,
          0.3636165994321306,
          0.36515092874065636,
          0.36666540226900757,
          0.36815971972195505,
          0.3696335839204148,
          0.3710867008996752,
          0.37251878000686356,
          0.37392953399760936,
          0.37531867913185624,
          0.37668593526878147,
          0.37803102596077526,
          0.37935367854643925,
          0.3806536242425566,
          0.38193059823499476,
          0.38318433976849287,
          0.3844145922352969,
          0.38562110326259486,
          0.3868036247987145,
          0.3879619131980407,
          0.3890957293046116,
          0.3902048385343539,
          0.3912890109559176,
          0.3923480213700721,
          0.39338164938762316,
          0.3943896795058149,
          0.39537190118317955,
          0.39632810891279824,
          0.39725810229393593,
          0.39816168610201824,
          0.3990386703569136,
          0.3998888703894885,
          0.40071210690640324,
          0.40150820605311444,
          0.40227699947505713,
          0.40301832437697255,
          0.40373202358035387,
          0.4044179455789826,
          0.40507594459252527,
          0.40570588061816815,
          0.4063076194802588,
          0.40688103287793603,
          0.40742599843071914,
          0.4079423997220376,
          0.40843012634067705,
          0.4088890739201226,
          0.4093191441757786,
          0.4097202449400472,
          0.410092290195248,
          0.41043520010436113,
          0.41074890103958045,
          0.4110333256086613,
          0.411288412679049,
          0.41151410739977806,
          0.4117103612211288,
          0.4118771319120332,
          0.4120143835752201,
          0.4121220866600935,
          0.41220021797333567,
          0.41224876068723154,
          0.4122677043457089,
          0.41225704486809217,
          0.4122167845505672,
          0.41214693206535713,
          0.412047502457609,
          0.4119185171399931,
          0.4117600038850172,
          0.41157199681506124,
          0.4113545363901345,
          0.41110766939336446,
          0.41083144891422274,
          0.4105259343294969,
          0.41019119128201864,
          0.4098272916571571,
          0.40943431355709137,
          0.40901234127287306,
          0.4085614652542946,
          0.4080817820775764,
          0.4075733944108918,
          0.4070364109777441,
          0.4064709465182153,
          0.4058771217481074,
          0.4052550633159926,
          0.4046049037581987,
          0.40392678145174865,
          0.4032208405652775,
          0.40248723100795536,
          0.4017261083764352,
          0.4009376338998575,
          0.400121974382936,
          0.39927930214715274,
          0.3984097949700933,
          0.3975136360229502,
          0.3965910138062245,
          0.3956421220836616,
          0.39466715981444794,
          0.39366633108370536,
          0.3926398450313167,
          0.39158791577911545,
          0.39051076235647875,
          0.3894086086243554,
          0.38828168319776757,
          0.38713021936682795,
          0.3859544550163004,
          0.3847546325437547,
          0.38353099877634694,
          0.38228380488626645,
          0.3810133063048944,
          0.37971976263570906,
          0.37840343756598316,
          0.37706459877731413,
          0.3757035178550289,
          0.3743204701965092,
          0.372915734918476,
          0.3714895947632791,
          0.3700423360042382,
          0.36857424835007513,
          0.36708562484848434,
          0.36557676178888715,
          0.3640479586044115,
          0.36249951777314865,
          0.3609317447187243,
          0.35934494771023645,
          0.3577394377616009,
          0.3561155285303553,
          0.3544735362159622,
          0.3528137794576609,
          0.3511365792319105,
          0.34944225874947665,
          0.3477311433521996,
          0.3460035604094954,
          0.34425983921463194,
          0.3425003108808314,
          0.34072530823723735,
          0.33893516572479704,
          0.3371302192921005,
          0.33531080629122717,
          0.33347726537363653,
          0.33162993638615446,
          0.32976916026709585,
          0.3278952789425665,
          0.32600863522299334,
          0.3241095726999191,
          0.3221984356431065,
          0.3202755688980019,
          0.31834131778358343,
          0.3163960279906557,
          0.31444004548061616,
          0.3124737163847398,
          0.31049738690402573,
          0.3085114032096379,
          0.30651611134398227,
          0.30451185712246526,
          0.30249898603595515,
          0.300477843154004,
          0.29844877302885053,
          0.2964121196002466,
          0.29436822610114527,
          0.292317434964279,
          0.2902600877296654,
          0.288196524953075,
          0.2861270861154892,
          0.28405210953358706,
          0.28197193227128536,
          0.27988689005236395,
          0.277797317174212,
          0.2757035464227144,
          0.27360590898831344,
          0.27150473438327044,
          0.2694003503601529,
          0.26729308283157693,
          0.2651832557912245,
          0.2630711912361605,
          0.26095720909047937,
          0.25884162713029285,
          0.2567247609100893,
          0.2546069236904803,
          0.25248842636735497,
          0.25036957740246496,
          0.24825068275545106,
          0.24613204581733483,
          0.24401396734548592,
          0.24189674540008857,
          0.23978067528211183,
          0.23766604947280529,
          0.2355531575747263,
          0.2334422862543194,
          0.23133371918604873,
          0.22922773699810037,
          0.2271246172196629,
          0.22502463422979,
          0.2229280592078617,
          0.22083516008564058,
          0.21874620150093385,
          0.21666144475286983,
          0.2145811477587841,
          0.21250556501272574,
          0.2104349475455839,
          0.2083695428868331,
          0.2063095950279056,
          0.20425534438718237,
          0.20220702777660432,
          0.20016487836990812,
          0.19812912567247404,
          0.19609999549278995,
          0.19407770991552506,
          0.19206248727620592,
          0.19005454213749692,
          0.18805408526706838,
          0.18606132361705371,
          0.18407646030508382,
          0.18209969459688935,
          0.18013122189046799,
          0.17817123370179833,
          0.17621991765209308,
          0.17427745745658643,
          0.172344032914833,
          0.17041981990251398,
          0.16850499036473496,
          0.16659971231079887,
          0.16470414981044784,
          0.1628184629915487,
          0.16094280803921276,
          0.15907733719633652,
          0.15722219876553933,
          0.15537753711248672,
          0.1535434926705806,
          0.15172020194699626,
          0.14990779753005298,
          0.14810640809789286,
          0.14631615842845094,
          0.14453716941070419,
          0.14276955805716213,
          0.14101343751759948,
          0.13926891709399375,
          0.13753610225665297,
          0.1358150946615149,
          0.13410599216858907,
          0.13240888886152294,
          0.130723875068275,
          0.12905103738285748,
          0.1273904586881449,
          0.12574221817970924,
          0.12410639139066534,
          0.12248305021750518,
          0.12087226294689045,
          0.11927409428338502,
          0.11768860537810134,
          0.11611585385823434,
          0.11455589385746423,
          0.11300877604719657,
          0.11147454766862012,
          0.10995325256555451,
          0.10844493121806738,
          0.1069496207768304,
          0.10546735509819424,
          0.1039981647799536,
          0.10254207719778288,
          0.10109911654231132,
          0.09966930385681733,
          0.09825265707551435,
          0.09684919106240751,
          0.09545891765069116,
          0.09408184568266685,
          0.09271798105015432,
          0.09136732673537522,
          0.09002988285227985,
          0.08870564668829743,
          0.08739461274648215,
          0.08609677278803611,
          0.0848121158751793,
          0.08354062841434824,
          0.08228229419969615,
          0.08103709445687587,
          0.07980500788707784,
          0.07858601071130343,
          0.07738007671485064,
          0.07618717729198861,
          0.07500728149080206,
          0.0738403560581798,
          0.07268636548492777,
          0.0715452720509889,
          0.07041703587073957,
          0.0693016149383538,
          0.06819896517320535,
          0.06710904046529159,
          0.06603179272066094,
          0.06496717190682047,
          0.06391512609810655,
          0.06287560152100294,
          0.06184854259937929,
          0.06083389199964278,
          0.05983159067577644,
          0.05884157791425011,
          0.05786379137878872,
          0.056898167154976975,
          0.055944639794687535,
          0.055003142360315095,
          0.054073606468800356,
          0.0531559623354309,
          0.0522501388174008,
          0.051356063457116005,
          0.05047366252523292,
          0.04960286106341298,
          0.048743582926782325,
          0.047895750826082995,
          0.04705928636950165,
          0.04623411010416642,
          0.04542014155729662,
          0.04461729927699528,
          0.04382550087267493,
          0.043044663055102565,
          0.04227470167605604,
          0.041515531767581014,
          0.04076706758083773,
          0.04002922262453118,
          0.03930190970291259,
          0.03858504095334469,
          0.037878527883425536,
          0.03718228140765671,
          0.03649621188365607,
          0.03582022914790211,
          0.03515424255100546,
          0.03449816099250322,
          0.03385189295516465,
          0.033215346538808956,
          0.03258842949362656,
          0.0319710492529972,
          0.031363112965805275,
          0.03076452752824353,
          0.030175199615103024
         ],
         "yaxis": "y"
        },
        {
         "legendgroup": "weight (in pounds)",
         "marker": {
          "color": "orange",
          "symbol": "line-ns-open"
         },
         "mode": "markers",
         "name": "weight (in pounds)",
         "showlegend": false,
         "type": "scatter",
         "x": [
          7.8,
          8.2,
          9,
          8.8,
          6.5,
          7.4,
          8.4,
          8.3,
          9.4,
          10.3,
          6.8,
          8.1,
          7.3,
          6.2,
          8,
          8.7,
          7.9,
          7.8,
          8.6
         ],
         "xaxis": "x",
         "y": [
          "weight (in pounds)",
          "weight (in pounds)",
          "weight (in pounds)",
          "weight (in pounds)",
          "weight (in pounds)",
          "weight (in pounds)",
          "weight (in pounds)",
          "weight (in pounds)",
          "weight (in pounds)",
          "weight (in pounds)",
          "weight (in pounds)",
          "weight (in pounds)",
          "weight (in pounds)",
          "weight (in pounds)",
          "weight (in pounds)",
          "weight (in pounds)",
          "weight (in pounds)",
          "weight (in pounds)",
          "weight (in pounds)"
         ],
         "yaxis": "y2"
        }
       ],
       "layout": {
        "autosize": false,
        "barmode": "overlay",
        "height": 700,
        "hovermode": "closest",
        "legend": {
         "traceorder": "reversed"
        },
        "template": {
         "data": {
          "bar": [
           {
            "error_x": {
             "color": "#f2f5fa"
            },
            "error_y": {
             "color": "#f2f5fa"
            },
            "marker": {
             "line": {
              "color": "rgb(17,17,17)",
              "width": 0.5
             },
             "pattern": {
              "fillmode": "overlay",
              "size": 10,
              "solidity": 0.2
             }
            },
            "type": "bar"
           }
          ],
          "barpolar": [
           {
            "marker": {
             "line": {
              "color": "rgb(17,17,17)",
              "width": 0.5
             },
             "pattern": {
              "fillmode": "overlay",
              "size": 10,
              "solidity": 0.2
             }
            },
            "type": "barpolar"
           }
          ],
          "carpet": [
           {
            "aaxis": {
             "endlinecolor": "#A2B1C6",
             "gridcolor": "#506784",
             "linecolor": "#506784",
             "minorgridcolor": "#506784",
             "startlinecolor": "#A2B1C6"
            },
            "baxis": {
             "endlinecolor": "#A2B1C6",
             "gridcolor": "#506784",
             "linecolor": "#506784",
             "minorgridcolor": "#506784",
             "startlinecolor": "#A2B1C6"
            },
            "type": "carpet"
           }
          ],
          "choropleth": [
           {
            "colorbar": {
             "outlinewidth": 0,
             "ticks": ""
            },
            "type": "choropleth"
           }
          ],
          "contour": [
           {
            "colorbar": {
             "outlinewidth": 0,
             "ticks": ""
            },
            "colorscale": [
             [
              0,
              "#0d0887"
             ],
             [
              0.1111111111111111,
              "#46039f"
             ],
             [
              0.2222222222222222,
              "#7201a8"
             ],
             [
              0.3333333333333333,
              "#9c179e"
             ],
             [
              0.4444444444444444,
              "#bd3786"
             ],
             [
              0.5555555555555556,
              "#d8576b"
             ],
             [
              0.6666666666666666,
              "#ed7953"
             ],
             [
              0.7777777777777778,
              "#fb9f3a"
             ],
             [
              0.8888888888888888,
              "#fdca26"
             ],
             [
              1,
              "#f0f921"
             ]
            ],
            "type": "contour"
           }
          ],
          "contourcarpet": [
           {
            "colorbar": {
             "outlinewidth": 0,
             "ticks": ""
            },
            "type": "contourcarpet"
           }
          ],
          "heatmap": [
           {
            "colorbar": {
             "outlinewidth": 0,
             "ticks": ""
            },
            "colorscale": [
             [
              0,
              "#0d0887"
             ],
             [
              0.1111111111111111,
              "#46039f"
             ],
             [
              0.2222222222222222,
              "#7201a8"
             ],
             [
              0.3333333333333333,
              "#9c179e"
             ],
             [
              0.4444444444444444,
              "#bd3786"
             ],
             [
              0.5555555555555556,
              "#d8576b"
             ],
             [
              0.6666666666666666,
              "#ed7953"
             ],
             [
              0.7777777777777778,
              "#fb9f3a"
             ],
             [
              0.8888888888888888,
              "#fdca26"
             ],
             [
              1,
              "#f0f921"
             ]
            ],
            "type": "heatmap"
           }
          ],
          "heatmapgl": [
           {
            "colorbar": {
             "outlinewidth": 0,
             "ticks": ""
            },
            "colorscale": [
             [
              0,
              "#0d0887"
             ],
             [
              0.1111111111111111,
              "#46039f"
             ],
             [
              0.2222222222222222,
              "#7201a8"
             ],
             [
              0.3333333333333333,
              "#9c179e"
             ],
             [
              0.4444444444444444,
              "#bd3786"
             ],
             [
              0.5555555555555556,
              "#d8576b"
             ],
             [
              0.6666666666666666,
              "#ed7953"
             ],
             [
              0.7777777777777778,
              "#fb9f3a"
             ],
             [
              0.8888888888888888,
              "#fdca26"
             ],
             [
              1,
              "#f0f921"
             ]
            ],
            "type": "heatmapgl"
           }
          ],
          "histogram": [
           {
            "marker": {
             "pattern": {
              "fillmode": "overlay",
              "size": 10,
              "solidity": 0.2
             }
            },
            "type": "histogram"
           }
          ],
          "histogram2d": [
           {
            "colorbar": {
             "outlinewidth": 0,
             "ticks": ""
            },
            "colorscale": [
             [
              0,
              "#0d0887"
             ],
             [
              0.1111111111111111,
              "#46039f"
             ],
             [
              0.2222222222222222,
              "#7201a8"
             ],
             [
              0.3333333333333333,
              "#9c179e"
             ],
             [
              0.4444444444444444,
              "#bd3786"
             ],
             [
              0.5555555555555556,
              "#d8576b"
             ],
             [
              0.6666666666666666,
              "#ed7953"
             ],
             [
              0.7777777777777778,
              "#fb9f3a"
             ],
             [
              0.8888888888888888,
              "#fdca26"
             ],
             [
              1,
              "#f0f921"
             ]
            ],
            "type": "histogram2d"
           }
          ],
          "histogram2dcontour": [
           {
            "colorbar": {
             "outlinewidth": 0,
             "ticks": ""
            },
            "colorscale": [
             [
              0,
              "#0d0887"
             ],
             [
              0.1111111111111111,
              "#46039f"
             ],
             [
              0.2222222222222222,
              "#7201a8"
             ],
             [
              0.3333333333333333,
              "#9c179e"
             ],
             [
              0.4444444444444444,
              "#bd3786"
             ],
             [
              0.5555555555555556,
              "#d8576b"
             ],
             [
              0.6666666666666666,
              "#ed7953"
             ],
             [
              0.7777777777777778,
              "#fb9f3a"
             ],
             [
              0.8888888888888888,
              "#fdca26"
             ],
             [
              1,
              "#f0f921"
             ]
            ],
            "type": "histogram2dcontour"
           }
          ],
          "mesh3d": [
           {
            "colorbar": {
             "outlinewidth": 0,
             "ticks": ""
            },
            "type": "mesh3d"
           }
          ],
          "parcoords": [
           {
            "line": {
             "colorbar": {
              "outlinewidth": 0,
              "ticks": ""
             }
            },
            "type": "parcoords"
           }
          ],
          "pie": [
           {
            "automargin": true,
            "type": "pie"
           }
          ],
          "scatter": [
           {
            "marker": {
             "line": {
              "color": "#283442"
             }
            },
            "type": "scatter"
           }
          ],
          "scatter3d": [
           {
            "line": {
             "colorbar": {
              "outlinewidth": 0,
              "ticks": ""
             }
            },
            "marker": {
             "colorbar": {
              "outlinewidth": 0,
              "ticks": ""
             }
            },
            "type": "scatter3d"
           }
          ],
          "scattercarpet": [
           {
            "marker": {
             "colorbar": {
              "outlinewidth": 0,
              "ticks": ""
             }
            },
            "type": "scattercarpet"
           }
          ],
          "scattergeo": [
           {
            "marker": {
             "colorbar": {
              "outlinewidth": 0,
              "ticks": ""
             }
            },
            "type": "scattergeo"
           }
          ],
          "scattergl": [
           {
            "marker": {
             "line": {
              "color": "#283442"
             }
            },
            "type": "scattergl"
           }
          ],
          "scattermapbox": [
           {
            "marker": {
             "colorbar": {
              "outlinewidth": 0,
              "ticks": ""
             }
            },
            "type": "scattermapbox"
           }
          ],
          "scatterpolar": [
           {
            "marker": {
             "colorbar": {
              "outlinewidth": 0,
              "ticks": ""
             }
            },
            "type": "scatterpolar"
           }
          ],
          "scatterpolargl": [
           {
            "marker": {
             "colorbar": {
              "outlinewidth": 0,
              "ticks": ""
             }
            },
            "type": "scatterpolargl"
           }
          ],
          "scatterternary": [
           {
            "marker": {
             "colorbar": {
              "outlinewidth": 0,
              "ticks": ""
             }
            },
            "type": "scatterternary"
           }
          ],
          "surface": [
           {
            "colorbar": {
             "outlinewidth": 0,
             "ticks": ""
            },
            "colorscale": [
             [
              0,
              "#0d0887"
             ],
             [
              0.1111111111111111,
              "#46039f"
             ],
             [
              0.2222222222222222,
              "#7201a8"
             ],
             [
              0.3333333333333333,
              "#9c179e"
             ],
             [
              0.4444444444444444,
              "#bd3786"
             ],
             [
              0.5555555555555556,
              "#d8576b"
             ],
             [
              0.6666666666666666,
              "#ed7953"
             ],
             [
              0.7777777777777778,
              "#fb9f3a"
             ],
             [
              0.8888888888888888,
              "#fdca26"
             ],
             [
              1,
              "#f0f921"
             ]
            ],
            "type": "surface"
           }
          ],
          "table": [
           {
            "cells": {
             "fill": {
              "color": "#506784"
             },
             "line": {
              "color": "rgb(17,17,17)"
             }
            },
            "header": {
             "fill": {
              "color": "#2a3f5f"
             },
             "line": {
              "color": "rgb(17,17,17)"
             }
            },
            "type": "table"
           }
          ]
         },
         "layout": {
          "annotationdefaults": {
           "arrowcolor": "#f2f5fa",
           "arrowhead": 0,
           "arrowwidth": 1
          },
          "autotypenumbers": "strict",
          "coloraxis": {
           "colorbar": {
            "outlinewidth": 0,
            "ticks": ""
           }
          },
          "colorscale": {
           "diverging": [
            [
             0,
             "#8e0152"
            ],
            [
             0.1,
             "#c51b7d"
            ],
            [
             0.2,
             "#de77ae"
            ],
            [
             0.3,
             "#f1b6da"
            ],
            [
             0.4,
             "#fde0ef"
            ],
            [
             0.5,
             "#f7f7f7"
            ],
            [
             0.6,
             "#e6f5d0"
            ],
            [
             0.7,
             "#b8e186"
            ],
            [
             0.8,
             "#7fbc41"
            ],
            [
             0.9,
             "#4d9221"
            ],
            [
             1,
             "#276419"
            ]
           ],
           "sequential": [
            [
             0,
             "#0d0887"
            ],
            [
             0.1111111111111111,
             "#46039f"
            ],
            [
             0.2222222222222222,
             "#7201a8"
            ],
            [
             0.3333333333333333,
             "#9c179e"
            ],
            [
             0.4444444444444444,
             "#bd3786"
            ],
            [
             0.5555555555555556,
             "#d8576b"
            ],
            [
             0.6666666666666666,
             "#ed7953"
            ],
            [
             0.7777777777777778,
             "#fb9f3a"
            ],
            [
             0.8888888888888888,
             "#fdca26"
            ],
            [
             1,
             "#f0f921"
            ]
           ],
           "sequentialminus": [
            [
             0,
             "#0d0887"
            ],
            [
             0.1111111111111111,
             "#46039f"
            ],
            [
             0.2222222222222222,
             "#7201a8"
            ],
            [
             0.3333333333333333,
             "#9c179e"
            ],
            [
             0.4444444444444444,
             "#bd3786"
            ],
            [
             0.5555555555555556,
             "#d8576b"
            ],
            [
             0.6666666666666666,
             "#ed7953"
            ],
            [
             0.7777777777777778,
             "#fb9f3a"
            ],
            [
             0.8888888888888888,
             "#fdca26"
            ],
            [
             1,
             "#f0f921"
            ]
           ]
          },
          "colorway": [
           "#636efa",
           "#EF553B",
           "#00cc96",
           "#ab63fa",
           "#FFA15A",
           "#19d3f3",
           "#FF6692",
           "#B6E880",
           "#FF97FF",
           "#FECB52"
          ],
          "font": {
           "color": "#f2f5fa"
          },
          "geo": {
           "bgcolor": "rgb(17,17,17)",
           "lakecolor": "rgb(17,17,17)",
           "landcolor": "rgb(17,17,17)",
           "showlakes": true,
           "showland": true,
           "subunitcolor": "#506784"
          },
          "hoverlabel": {
           "align": "left"
          },
          "hovermode": "closest",
          "mapbox": {
           "style": "dark"
          },
          "paper_bgcolor": "rgb(17,17,17)",
          "plot_bgcolor": "rgb(17,17,17)",
          "polar": {
           "angularaxis": {
            "gridcolor": "#506784",
            "linecolor": "#506784",
            "ticks": ""
           },
           "bgcolor": "rgb(17,17,17)",
           "radialaxis": {
            "gridcolor": "#506784",
            "linecolor": "#506784",
            "ticks": ""
           }
          },
          "scene": {
           "xaxis": {
            "backgroundcolor": "rgb(17,17,17)",
            "gridcolor": "#506784",
            "gridwidth": 2,
            "linecolor": "#506784",
            "showbackground": true,
            "ticks": "",
            "zerolinecolor": "#C8D4E3"
           },
           "yaxis": {
            "backgroundcolor": "rgb(17,17,17)",
            "gridcolor": "#506784",
            "gridwidth": 2,
            "linecolor": "#506784",
            "showbackground": true,
            "ticks": "",
            "zerolinecolor": "#C8D4E3"
           },
           "zaxis": {
            "backgroundcolor": "rgb(17,17,17)",
            "gridcolor": "#506784",
            "gridwidth": 2,
            "linecolor": "#506784",
            "showbackground": true,
            "ticks": "",
            "zerolinecolor": "#C8D4E3"
           }
          },
          "shapedefaults": {
           "line": {
            "color": "#f2f5fa"
           }
          },
          "sliderdefaults": {
           "bgcolor": "#C8D4E3",
           "bordercolor": "rgb(17,17,17)",
           "borderwidth": 1,
           "tickwidth": 0
          },
          "ternary": {
           "aaxis": {
            "gridcolor": "#506784",
            "linecolor": "#506784",
            "ticks": ""
           },
           "baxis": {
            "gridcolor": "#506784",
            "linecolor": "#506784",
            "ticks": ""
           },
           "bgcolor": "rgb(17,17,17)",
           "caxis": {
            "gridcolor": "#506784",
            "linecolor": "#506784",
            "ticks": ""
           }
          },
          "title": {
           "x": 0.05
          },
          "updatemenudefaults": {
           "bgcolor": "#506784",
           "borderwidth": 0
          },
          "xaxis": {
           "automargin": true,
           "gridcolor": "#283442",
           "linecolor": "#506784",
           "ticks": "",
           "title": {
            "standoff": 15
           },
           "zerolinecolor": "#283442",
           "zerolinewidth": 2
          },
          "yaxis": {
           "automargin": true,
           "gridcolor": "#283442",
           "linecolor": "#506784",
           "ticks": "",
           "title": {
            "standoff": 15
           },
           "zerolinecolor": "#283442",
           "zerolinewidth": 2
          }
         }
        },
        "title": {
         "text": "Distribution of weight (in pounds) "
        },
        "width": 1200,
        "xaxis": {
         "anchor": "y2",
         "domain": [
          0,
          1
         ],
         "showgrid": false,
         "zeroline": false
        },
        "yaxis": {
         "anchor": "free",
         "domain": [
          0.35,
          1
         ],
         "position": 0,
         "showgrid": false
        },
        "yaxis2": {
         "anchor": "x",
         "domain": [
          0,
          0.25
         ],
         "dtick": 1,
         "showgrid": false,
         "showticklabels": false
        }
       }
      }
     },
     "metadata": {},
     "output_type": "display_data"
    }
   ],
   "source": [
    "# fitting the normal curve\n",
    "\n",
    "fig = ff.create_distplot(variables, labels, show_hist=True, colors = ['orange'],bin_size=.6,curve_type=\"normal\") # \n",
    "\n",
    "fig.update_layout(title='Distribution of weight (in pounds) ',\n",
    "                  autosize=False,\n",
    "                  width=1200,\n",
    "                  height=700,\n",
    "                  template = \"plotly_dark\")\n",
    "fig.update_xaxes(showgrid= False)\n",
    "fig.update_yaxes(showgrid= False)  \n",
    "\n",
    "fig.show()"
   ]
  },
  {
   "cell_type": "code",
   "execution_count": 28,
   "metadata": {},
   "outputs": [
    {
     "data": {
      "text/plain": [
       "weight (in pounds)    7.79\n",
       "dtype: float64"
      ]
     },
     "execution_count": 28,
     "metadata": {},
     "output_type": "execute_result"
    }
   ],
   "source": [
    "df.mean()"
   ]
  },
  {
   "cell_type": "markdown",
   "metadata": {},
   "source": [
    "### A/B Testing"
   ]
  },
  {
   "cell_type": "code",
   "execution_count": 1,
   "metadata": {},
   "outputs": [
    {
     "name": "stdout",
     "output_type": "stream",
     "text": [
      "fail to reject the null for alpha = 0.01 and p-value of 0.0099\n"
     ]
    }
   ],
   "source": [
    "p = 0.0099\n",
    "alpha = 0.01\n",
    "n_test = 8\n",
    "n_control = 8\n",
    "if p < alpha :\n",
    "    print(f'fail to reject the null for alpha = {alpha} and p-value of {p}')\n",
    "else:\n",
    "    print(f'reject the null for alpha = {alpha} and p-value of {p}')"
   ]
  },
  {
   "cell_type": "code",
   "execution_count": 3,
   "metadata": {},
   "outputs": [
    {
     "name": "stdout",
     "output_type": "stream",
     "text": [
      "reject the null for alpha = 0.01 and p-value of 0.011\n"
     ]
    }
   ],
   "source": [
    "# after 24 weeks\n",
    "p = 0.011\n",
    "alpha = 0.01\n",
    "n_test = 8\n",
    "n_control = 24\n",
    "if p < alpha :\n",
    "    print(f'fail to reject the null for alpha = {alpha} and p-value of {p}')\n",
    "else:\n",
    "    print(f'reject the null for alpha = {alpha} and p-value of {p}')"
   ]
  },
  {
   "cell_type": "code",
   "execution_count": null,
   "metadata": {},
   "outputs": [],
   "source": []
  }
 ],
 "metadata": {
  "interpreter": {
   "hash": "40d3a090f54c6569ab1632332b64b2c03c39dcf918b08424e98f38b5ae0af88f"
  },
  "kernelspec": {
   "display_name": "Python 3.8.8 ('base')",
   "language": "python",
   "name": "python3"
  },
  "language_info": {
   "codemirror_mode": {
    "name": "ipython",
    "version": 3
   },
   "file_extension": ".py",
   "mimetype": "text/x-python",
   "name": "python",
   "nbconvert_exporter": "python",
   "pygments_lexer": "ipython3",
   "version": "3.11.3"
  },
  "orig_nbformat": 4
 },
 "nbformat": 4,
 "nbformat_minor": 2
}
