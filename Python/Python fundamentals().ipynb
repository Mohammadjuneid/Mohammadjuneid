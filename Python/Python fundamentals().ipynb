{
 "cells": [
  {
   "attachments": {},
   "cell_type": "markdown",
   "metadata": {},
   "source": [
    "## <span style = 'color:green'> python fundamentals</span>\n"
   ]
  },
  {
   "cell_type": "markdown",
   "metadata": {},
   "source": [
    "1. **By using 'print' function print the provided string in specified format**\n",
    "**your executiion should be this**: \n",
    "\n",
    "Hello World           \n",
    "  Welcome to 'Python' Programming"
   ]
  },
  {
   "cell_type": "code",
   "execution_count": 2,
   "metadata": {},
   "outputs": [
    {
     "name": "stdout",
     "output_type": "stream",
     "text": [
      "Hello World\n",
      "Welcome to 'Python' Programming\n"
     ]
    }
   ],
   "source": [
    "#start your code here\n",
    "print(\"Hello World\")\n",
    "print(\"Welcome to 'Python' Programming\")"
   ]
  },
  {
   "cell_type": "markdown",
   "metadata": {},
   "source": [
    "2. **Check the python version which you are using**"
   ]
  },
  {
   "cell_type": "code",
   "execution_count": 4,
   "metadata": {},
   "outputs": [
    {
     "name": "stdout",
     "output_type": "stream",
     "text": [
      "Python 3.8.8\n"
     ]
    }
   ],
   "source": [
    "#start your code here\n",
    "! python -V"
   ]
  },
  {
   "cell_type": "markdown",
   "metadata": {},
   "source": [
    "3. **Design a Python program which can calculate the area by taking readius as input by user input method**\n",
    "<table>\n",
    "  <tr>\n",
    "  <td><td>\n",
    "   <br> instead of giving direct values try using \"float(input())\" </td>\n",
    "  </tr>\n",
    "</table>"
   ]
  },
  {
   "cell_type": "code",
   "execution_count": 5,
   "metadata": {},
   "outputs": [
    {
     "data": {
      "text/plain": [
       "22.172800000000002"
      ]
     },
     "execution_count": 5,
     "metadata": {},
     "output_type": "execute_result"
    }
   ],
   "source": [
    "#start your code here\n",
    "def findArea():\n",
    "    r = float(input())\n",
    "    PI = float(input())\n",
    "    return PI * (r*r);\n",
    "findArea()"
   ]
  },
  {
   "cell_type": "markdown",
   "metadata": {},
   "source": [
    "4. **Write a python program which can take your first and last name seperately and execute as** \n",
    "<table>\n",
    "  <tr>\n",
    "  <td><td>\n",
    "   <br>**Sample execution** : Hello 'first name' 'last name', hope you are doing good</td>\n",
    "  </tr>\n",
    "</table>\n"
   ]
  },
  {
   "cell_type": "code",
   "execution_count": 7,
   "metadata": {},
   "outputs": [
    {
     "name": "stdout",
     "output_type": "stream",
     "text": [
      "Hello, Mohammadjuneid Karajagi hope you are doing good.\n"
     ]
    }
   ],
   "source": [
    "def say_hello():\n",
    "    first_name = str(input())\n",
    "    last_name = str(input())\n",
    "    print(f\"Hello, {first_name} {last_name} hope you are doing good.\")\n",
    "\n",
    "say_hello()"
   ]
  },
  {
   "cell_type": "markdown",
   "metadata": {},
   "source": [
    "5. **Write a python program which can convert kilograms to grams**\n"
   ]
  },
  {
   "cell_type": "code",
   "execution_count": 11,
   "metadata": {},
   "outputs": [
    {
     "name": "stdout",
     "output_type": "stream",
     "text": [
      "1000000.0  Grams\n"
     ]
    }
   ],
   "source": [
    "#start your code here\n",
    "def convert_kilo_to_gram():\n",
    "    kilograms = float(input(\"Please enter kilograms:\"))\n",
    "    grams = kilograms * 1000\n",
    "    print(grams, \" Grams\")\n",
    "\n",
    "convert_kilo_to_gram()"
   ]
  },
  {
   "cell_type": "markdown",
   "metadata": {},
   "source": [
    "6. **Create a list and store the given elements in the list**\n",
    "  <table>\n",
    "  <tr>\n",
    "  <td><td>\n",
    "   <br>Elements : 'Bengaluru','New York', 1971, '1682', (1,2,3,4,5,'Is this tuple?'),\"'Hello,welcome to Python Programming'\"</td>\n",
    "  </tr>\n",
    "</table>\n",
    "- Try to extract entire tuple by using positive indexing\n",
    "- Can we add elements into tuple after creating it?\n",
    "- Remove '1682' and 'New York' from the list\n",
    "- Discuss one practical application of tuple and lists\n",
    "- Access 'Bengaluru' by Negitive indexing\n",
    "- add 'Mumbai' into the list\n",
    "- Try to perform one operation on each removal operation on lists \n",
    "1. del\n",
    "2. remove\n",
    "3. pop\n",
    "- Try to perform one operation on each operational\n",
    "1. append\n",
    "2. entend\n",
    "3. insert"
   ]
  },
  {
   "cell_type": "code",
   "execution_count": 52,
   "metadata": {},
   "outputs": [],
   "source": [
    "#start your code here\n",
    "elements = ['Bengaluru','New York', 1971, '1682', (1,2,3,4,5,'Is this tuple?'),\"'Hello,welcome to Python Programming'\"]\n"
   ]
  },
  {
   "cell_type": "code",
   "execution_count": 54,
   "metadata": {},
   "outputs": [
    {
     "data": {
      "text/plain": [
       "(1, 2, 3, 4, 5, 'Is this tuple?')"
      ]
     },
     "execution_count": 54,
     "metadata": {},
     "output_type": "execute_result"
    }
   ],
   "source": [
    "# extracting the entire tuple by using positive indexing\n",
    "elements[4]"
   ]
  },
  {
   "cell_type": "code",
   "execution_count": 59,
   "metadata": {},
   "outputs": [],
   "source": [
    "# removing 1682 and 'New York'\n",
    "elements.remove('1682')\n",
    "elements.remove('New York')"
   ]
  },
  {
   "cell_type": "code",
   "execution_count": 61,
   "metadata": {},
   "outputs": [
    {
     "name": "stdout",
     "output_type": "stream",
     "text": [
      "['Bengaluru', 1971, (1, 2, 3, 4, 5, 'Is this tuple?'), \"'Hello,welcome to Python Programming'\"]\n"
     ]
    }
   ],
   "source": [
    "print(elements)"
   ]
  },
  {
   "cell_type": "markdown",
   "metadata": {},
   "source": [
    "### discussing one practicale application of tuple and lists\n",
    "    tuples = wehre we dont want to customize the data once inserted\n",
    "    eg : order num of any customer \n",
    "\n",
    "    lists = where we want to customize the data when required \n",
    "    eg : items in sections of products \n",
    "    \n",
    "    "
   ]
  },
  {
   "cell_type": "code",
   "execution_count": 67,
   "metadata": {},
   "outputs": [
    {
     "data": {
      "text/plain": [
       "'Bengaluru'"
      ]
     },
     "execution_count": 67,
     "metadata": {},
     "output_type": "execute_result"
    }
   ],
   "source": [
    "# accessing 'Bengaluru' by negative indexing\n",
    "elements[-4]"
   ]
  },
  {
   "cell_type": "code",
   "execution_count": 68,
   "metadata": {},
   "outputs": [],
   "source": [
    "# adding Mumbai into the list\n",
    "elements.append('Mumbai')"
   ]
  },
  {
   "cell_type": "code",
   "execution_count": 70,
   "metadata": {},
   "outputs": [
    {
     "name": "stdout",
     "output_type": "stream",
     "text": [
      "['Bengaluru', 1971, (1, 2, 3, 4, 5, 'Is this tuple?'), \"'Hello,welcome to Python Programming'\", 'Mumbai']\n"
     ]
    }
   ],
   "source": [
    "print(elements)"
   ]
  },
  {
   "cell_type": "markdown",
   "metadata": {},
   "source": [
    "7. **Write a python program which can calculate the electricity bill by considering the no of units consumed and other parameters are mentioned below**\n",
    "- If units consumed is less than 50 then bill amount should be 100INR\n",
    "- If units consumed between 50 - 300 then each unit will be charged at 4.5 INR\n",
    "-  If units consumed more than 300 then that billed individual have to pay base pay as 1000INR and 300 units will be reduced from his total consumed units and for remaining units 7 INR will be charged for each unit.\n",
    "- Execution should be "
   ]
  },
  {
   "cell_type": "code",
   "execution_count": 51,
   "metadata": {},
   "outputs": [
    {
     "name": "stdout",
     "output_type": "stream",
     "text": [
      "your base pay is 1000 your electricity cost is 35.0\n"
     ]
    }
   ],
   "source": [
    "#start your code here\n",
    "def electricity_bill():\n",
    "    units = float(input())\n",
    "    if units < 50 :\n",
    "         print(\"your electricity_bill is 100\")\n",
    "    elif units >= 50 and units < 300 :\n",
    "        cost = round((units * 4.5),2)\n",
    "        print(\"your electricity_bill is\", cost)\n",
    "    elif units > 300 :\n",
    "        base_pay = 1000\n",
    "        reduce_unites = units - 300\n",
    "        cost = round((reduce_unites* 7),2)\n",
    "        print(f'your base pay is {base_pay} your electricity cost is {cost}')\n",
    "\n",
    "electricity_bill()\n"
   ]
  },
  {
   "cell_type": "markdown",
   "metadata": {},
   "source": [
    "8. **Write a program to calculate the tax of the vehicle based on the price**\n",
    "- below are the parameters to consider\n",
    "\n",
    "\n",
    "    Cost price (in Rs)                                            Tax\n",
    "        > 150000                                                  15 %\n",
    "        > 50000 and <= 100000                                     10%"
   ]
  },
  {
   "cell_type": "code",
   "execution_count": 40,
   "metadata": {},
   "outputs": [
    {
     "name": "stdout",
     "output_type": "stream",
     "text": [
      "Your vehicle's Tax cost is 10000.0\n"
     ]
    }
   ],
   "source": [
    "#start your code here\n",
    "def calculate_tax():\n",
    "    costprice = float(input())\n",
    "    if costprice > 150000 :\n",
    "        tax  = round((costprice*15)/100,2)\n",
    "    elif costprice > 50000 and costprice <= 100000 : \n",
    "        tax  = round(( costprice*10)/100,2)\n",
    "    print(\"Your vehicle's Tax cost is\",tax)\n",
    "\n",
    "calculate_tax()"
   ]
  },
  {
   "cell_type": "markdown",
   "metadata": {},
   "source": [
    "9. **Write a program to check if the input is positive or negitive**\n"
   ]
  },
  {
   "cell_type": "code",
   "execution_count": 47,
   "metadata": {},
   "outputs": [
    {
     "name": "stdout",
     "output_type": "stream",
     "text": [
      "It is positive number\n"
     ]
    }
   ],
   "source": [
    "#start your code here\n",
    "\n",
    "def check_input_num():\n",
    "    num = float(input(\"Input a number: \"))\n",
    "    if num > 0:\n",
    "        print(\"It is positive number\")\n",
    "    elif num == 0:\n",
    "        print(\"It is Zero\")\n",
    "    else:\n",
    "        print(\"It is a negative number\")\n",
    "        \n",
    "check_input_num()"
   ]
  },
  {
   "cell_type": "markdown",
   "metadata": {},
   "source": [
    "10. **Define a function which can multiply the string with n number of times**\n",
    "- string = \"python programming\""
   ]
  },
  {
   "cell_type": "code",
   "execution_count": 18,
   "metadata": {},
   "outputs": [
    {
     "name": "stdout",
     "output_type": "stream",
     "text": [
      "python programming\" python programming\" python programming\" python programming\" python programming\" \n"
     ]
    }
   ],
   "source": [
    "#start your code here\n",
    "def multiply_string():\n",
    "    string = str(input())\n",
    "    n = int(input())\n",
    "    multi = string * n\n",
    "    print((string+ ' ') * n)\n",
    "\n",
    "multiply_string()"
   ]
  },
  {
   "cell_type": "markdown",
   "metadata": {},
   "source": [
    "11. **Define a function whicg can sum up two numbers** \n"
   ]
  },
  {
   "cell_type": "code",
   "execution_count": 23,
   "metadata": {},
   "outputs": [
    {
     "data": {
      "text/plain": [
       "20"
      ]
     },
     "execution_count": 23,
     "metadata": {},
     "output_type": "execute_result"
    }
   ],
   "source": [
    "#start your code here\n",
    "def sumup(a,b):\n",
    "    sum_ = a+b\n",
    "    return sum_\n",
    "sumup(10, 10)"
   ]
  },
  {
   "cell_type": "markdown",
   "metadata": {},
   "source": [
    "12. **Define a function which can identify if a user has entered specifit string or not**\n",
    "- specified string = \"India\""
   ]
  },
  {
   "cell_type": "code",
   "execution_count": 25,
   "metadata": {},
   "outputs": [
    {
     "data": {
      "text/plain": [
       "True"
      ]
     },
     "execution_count": 25,
     "metadata": {},
     "output_type": "execute_result"
    }
   ],
   "source": [
    "#start your code here\n",
    "def spe_str():\n",
    "    user_input = str(input(\"Enter String\"))\n",
    "    specified_string = \"India\"\n",
    "    if specified_string == user_input:\n",
    "        return True\n",
    "    else:\n",
    "        return False\n",
    "\n",
    "spe_str()"
   ]
  },
  {
   "cell_type": "markdown",
   "metadata": {},
   "source": [
    "13. **define a function which will greet by taking user name as input**\n",
    "- input = name\n",
    "- hello 'name', hope you are doing good"
   ]
  },
  {
   "cell_type": "code",
   "execution_count": 36,
   "metadata": {},
   "outputs": [
    {
     "name": "stdout",
     "output_type": "stream",
     "text": [
      "hello Mohammadjuneid, hope you are doing good\n"
     ]
    }
   ],
   "source": [
    "#start your code here\n",
    "def greet():\n",
    "    name = str(input(\"Enter your name please\"))\n",
    "    print(f\"hello {name}, hope you are doing good\")\n",
    "\n",
    "greet()"
   ]
  },
  {
   "cell_type": "markdown",
   "metadata": {},
   "source": [
    "14. **Define a function which can give us the entire prime numbers till the input**\n"
   ]
  },
  {
   "cell_type": "code",
   "execution_count": 38,
   "metadata": {},
   "outputs": [
    {
     "name": "stdout",
     "output_type": "stream",
     "text": [
      "Prime numbers between 0 and 10 are:\n",
      "2\n",
      "3\n",
      "5\n",
      "7\n"
     ]
    }
   ],
   "source": [
    "#start your code here\n",
    "\n",
    "def prime_num():\n",
    "    start = 0     #int(input())\n",
    "    end = int(input())\n",
    "\n",
    "    print(\"Prime numbers between\", start, \"and\", end, \"are:\")\n",
    "\n",
    "    for num in range(start, end + 1):\n",
    "    # all prime numbers are greater than 1\n",
    "        if num > 1:\n",
    "            for i in range(2, num):\n",
    "                if (num % i) == 0:\n",
    "                    break\n",
    "            else:\n",
    "                print(num)\n",
    "\n",
    "prime_num()"
   ]
  },
  {
   "cell_type": "markdown",
   "metadata": {},
   "source": [
    "15. **Q.1 Check if a given string is palindrome.**\n",
    "    <br> A string is palindrome if the reverse of the string is same as itself.\n",
    "    <br> For eg. madam\n",
    "    <br> Print \"`<string>` is palindrome\" if it is palindrome \n",
    "    <br> else \"`<string>` is not a palindrome\" if it is not a palindrome.\n",
    "    <br> Hint : Use slicing to get reverse of the string."
   ]
  },
  {
   "cell_type": "code",
   "execution_count": 27,
   "metadata": {},
   "outputs": [
    {
     "name": "stdout",
     "output_type": "stream",
     "text": [
      "True\n"
     ]
    }
   ],
   "source": [
    "#start your code here\n",
    "def isPalindrome(string):\n",
    "   return s == s[::-1]\n",
    "s = str(input()) # when you run the code it will ask you the input \"string\" than according to the input it will return the boolean True or False\n",
    "    \n",
    "print(isPalindrome(s)) "
   ]
  },
  {
   "cell_type": "markdown",
   "metadata": {},
   "source": [
    "16. **Write a python program to find n is a leap year** \n",
    "<br> Print \"n is a leap year\" if the given year is leap year.\n",
    "<br> Print \"n is not a leap year\" if the given year is not leap year.\n",
    "<br> Replace n with given year.\n",
    "<br> Hint : Use nested if-else "
   ]
  },
  {
   "cell_type": "code",
   "execution_count": 73,
   "metadata": {},
   "outputs": [
    {
     "name": "stdout",
     "output_type": "stream",
     "text": [
      "2020 is a leap year\n"
     ]
    }
   ],
   "source": [
    "#start your codes here\n",
    "\n",
    "def leap_year():\n",
    "    number = int(input())\n",
    "    if (number % 400 == 0) and (number % 100 == 0):\n",
    "        print(\"{0} is a leap year\".format(number))\n",
    "\n",
    "    # not divided by 100 means not a century year\n",
    "    # year divided by 4 is a leap year\n",
    "    elif (number % 4 ==0) and (number % 100 != 0):\n",
    "        print(\"{0} is a leap year\".format(number))\n",
    "\n",
    "    # if not divided by both 400 (century year) and 4 (not century year)\n",
    "    # year is not leap year\n",
    "    else:\n",
    "        print(\"{0} is not a leap year\".format(number))\n",
    "\n",
    "leap_year()"
   ]
  },
  {
   "cell_type": "markdown",
   "metadata": {},
   "source": [
    "17. **Write a python program to check if n is leap year**"
   ]
  },
  {
   "cell_type": "code",
   "execution_count": 71,
   "metadata": {},
   "outputs": [
    {
     "name": "stdout",
     "output_type": "stream",
     "text": [
      "True\n"
     ]
    }
   ],
   "source": [
    "#start your codes here\n",
    "\n",
    "def is_leap (year) :\n",
    "    leap = False\n",
    "    # Write your logic here\n",
    "    if (year % 100 == 0 ) and (year %400 != 0) :\n",
    "        leap = False\n",
    "    elif (year % 4 == 0 ) and (year %100 != 0 ) :\n",
    "        leap = True\n",
    "    elif (year % 400 == 0) :\n",
    "        leap = True\n",
    "    else:\n",
    "        leap = False\n",
    "    return leap\n",
    "\n",
    "year = int (input ())\n",
    "print(is_leap (year))"
   ]
  },
  {
   "cell_type": "markdown",
   "metadata": {},
   "source": [
    "18.  **Find the largest among three numbers**\n",
    "\n",
    "eg. Consider a,b,c as the three numbers, find which is the  largest number among them"
   ]
  },
  {
   "cell_type": "code",
   "execution_count": 31,
   "metadata": {},
   "outputs": [
    {
     "name": "stdout",
     "output_type": "stream",
     "text": [
      "The largest number is 20.0\n"
     ]
    }
   ],
   "source": [
    "#start your code here\n",
    "\n",
    "def find_largest_num():\n",
    "    num1 = float(input(\"Enter first number: \"))  #input given 10\n",
    "    num2 = float(input(\"Enter second number: \")) # input given 5\n",
    "    num3 = float(input(\"Enter third number: \"))  # input given 20\n",
    "\n",
    "    if (num1 >= num2) and (num1 >= num3):\n",
    "        largest = num1\n",
    "    elif (num2 >= num1) and (num2 >= num3):\n",
    "        largest = num2\n",
    "    else:\n",
    "        largest = num3\n",
    "\n",
    "    print(\"The largest number is\", largest)\n",
    "\n",
    "find_largest_num()"
   ]
  },
  {
   "cell_type": "markdown",
   "metadata": {},
   "source": [
    "19. **write a python program to print even numbers from 1 to 15 by using range function**\n"
   ]
  },
  {
   "cell_type": "code",
   "execution_count": 29,
   "metadata": {},
   "outputs": [
    {
     "name": "stdout",
     "output_type": "stream",
     "text": [
      "2 4 6 8 10 12 14 "
     ]
    }
   ],
   "source": [
    "#start your code here\n",
    "\n",
    "def range_even_number():\n",
    "    start = int(input(\"Enter the start of range: \")) # input given 1\n",
    "    end = int(input(\"Enter the end of range: \"))     # input given 15\n",
    "    \n",
    "    # iterating each number in list\n",
    "    for num in range(start, end + 1):\n",
    "        \n",
    "        # checking condition\n",
    "        if num % 2 == 0:\n",
    "            print(num, end = \" \")\n",
    "\n",
    "range_even_number()"
   ]
  },
  {
   "cell_type": "markdown",
   "metadata": {},
   "source": [
    "20. **Write a program to guess the integer which is selected by computerby using  randint**\n",
    "- use random and radint \n",
    "- range should be 1 to 10\n",
    "- if user's number is greater than 10 then program should say your guess is too high\n",
    "- if user input is matches with the computer choice then your program should say \"yey! correct guess\"\n",
    "- otherwise your program should say too low"
   ]
  },
  {
   "cell_type": "code",
   "execution_count": 44,
   "metadata": {},
   "outputs": [
    {
     "name": "stdout",
     "output_type": "stream",
     "text": [
      "too low\n",
      "too low\n",
      "yey! correct guess\n"
     ]
    }
   ],
   "source": [
    "#start your code here\n",
    "\n",
    "def guess_game():\n",
    "    import random\n",
    "    num = random.randint(1, 10)\n",
    "    guess = None\n",
    "\n",
    "    while guess != num:\n",
    "        guess = input(\"guess a number between 1 and 10: \")\n",
    "        guess = int(guess)\n",
    "\n",
    "        if guess > 10:\n",
    "            print(\"your guess is too high\")\n",
    "            break\n",
    "\n",
    "        if guess == num:\n",
    "            print(\"yey! correct guess\")\n",
    "            break\n",
    "        else:\n",
    "            print(\"too low\")\n",
    "\n",
    "guess_game()"
   ]
  },
  {
   "cell_type": "code",
   "execution_count": null,
   "metadata": {},
   "outputs": [],
   "source": []
  }
 ],
 "metadata": {
  "interpreter": {
   "hash": "40d3a090f54c6569ab1632332b64b2c03c39dcf918b08424e98f38b5ae0af88f"
  },
  "kernelspec": {
   "display_name": "Python 3.8.8 ('base')",
   "language": "python",
   "name": "python3"
  },
  "language_info": {
   "codemirror_mode": {
    "name": "ipython",
    "version": 3
   },
   "file_extension": ".py",
   "mimetype": "text/x-python",
   "name": "python",
   "nbconvert_exporter": "python",
   "pygments_lexer": "ipython3",
   "version": "3.8.8"
  }
 },
 "nbformat": 4,
 "nbformat_minor": 4
}
