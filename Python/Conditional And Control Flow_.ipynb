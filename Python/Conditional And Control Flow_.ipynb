{
 "cells": [
  {
   "cell_type": "markdown",
   "metadata": {},
   "source": [
    "**Q.1 Check if a given string is palindrome.**\n",
    "    <br> A string is palindrome if the reverse of the string is same as itself.\n",
    "    <br> For eg. madam\n",
    "    <br> Print \"`<string>` is palindrome\" if it is palindrome \n",
    "    <br> else \"`<string>` is not a palindrome\" if it is not a palindrome.\n",
    "    <br> Hint : Use slicing to get reverse of the string."
   ]
  },
  {
   "cell_type": "code",
   "execution_count": 2,
   "metadata": {
    "collapsed": true
   },
   "outputs": [
    {
     "name": "stdout",
     "output_type": "stream",
     "text": [
      "madam is a palindrome\n"
     ]
    }
   ],
   "source": [
    "given_string = 'madam'\n",
    "\n",
    "## START CODE HERE\n",
    "reverse = given_string[::-1]\n",
    "if(given_string == reverse):\n",
    "    print(given_string,'is a palindrome')\n",
    "else:\n",
    "    print(given_string,'is not a palindrome')\n",
    "## END CODE HERE"
   ]
  },
  {
   "cell_type": "markdown",
   "metadata": {},
   "source": [
    "<table>\n",
    "  <tr>\n",
    "  <td>**Expected Output:**<td>\n",
    "    <td>madam is a palindrome</td>\n",
    "  </tr>\n",
    "</table>"
   ]
  },
  {
   "cell_type": "markdown",
   "metadata": {},
   "source": [
    "**\n",
    "Q.2 Given two numbers, print** \n",
    "\n",
    "     1. \"Result: n1 = n2\" if they are equal\n",
    "     2. \"Result: n1 > n2\" if the first one is greater than second one\n",
    "     3. \"Result: n1 < n2\" if the first one is less than second one   \n",
    "    \n",
    "**\n",
    "Replace n1 and n2 with their actual values\n",
    "**"
   ]
  },
  {
   "cell_type": "code",
   "execution_count": 2,
   "metadata": {},
   "outputs": [
    {
     "name": "stdout",
     "output_type": "stream",
     "text": [
      "Result: 3 > 2\n"
     ]
    }
   ],
   "source": [
    "# Print by substituting example.\n",
    "\n",
    "num1 = 3\n",
    "num2 = 2 \n",
    "\n",
    "print(\"Result: %d > %d\" % (num1,num2));"
   ]
  },
  {
   "cell_type": "code",
   "execution_count": 5,
   "metadata": {
    "collapsed": true
   },
   "outputs": [
    {
     "name": "stdout",
     "output_type": "stream",
     "text": [
      "Result: 3 > 2\n"
     ]
    }
   ],
   "source": [
    "num1 = 3\n",
    "num2 = 2 \n",
    "\n",
    "## START CODE HERE\n",
    "if (num1 == num2):\n",
    "    print(\"Result: %d = %d\" % (num1,num2));\n",
    "if (num1 > num2):\n",
    "    print(\"Result: %d > %d\" % (num1,num2));\n",
    "if (num1 < num2):\n",
    "    print(\"Result: %d < %d\" % (num1,num2));\n",
    "\n",
    "## END CODE HERE"
   ]
  },
  {
   "cell_type": "markdown",
   "metadata": {},
   "source": [
    "<table>\n",
    "  <tr>\n",
    "  <td>**Expected Output:**<td>\n",
    "    <td>Result: 3 > 2</td>\n",
    "  </tr>\n",
    "</table>"
   ]
  },
  {
   "cell_type": "markdown",
   "metadata": {},
   "source": [
    "**Q.3 This is a challenging problem.\n",
    "<br> Check whether a year is leap year or not.**\n",
    "<br> To determine whether a year is a leap year, follow these steps: \n",
    ">If the year is evenly divisible by 4, go to step 2. Otherwise, go to step 5.\n",
    "><br>If the year is evenly divisible by 100, go to step 3. Otherwise, go to step 4.\n",
    "><br>If the year is evenly divisible by 400, go to step 4. Otherwise, go to step 5.\n",
    "><br>The year is a leap year (it has 366 days).\n",
    "><br>The year is not a leap year (it has 365 days).\n",
    "\n",
    "<br> Print \"n is a leap year\" if the given year is leap year.\n",
    "<br> Print \"n is not a leap year\" if the given year is not leap year.\n",
    "<br> Replace n with given year.\n",
    "<br> Hint : Use nested if-else"
   ]
  },
  {
   "cell_type": "code",
   "execution_count": 1,
   "metadata": {
    "collapsed": true
   },
   "outputs": [
    {
     "name": "stdout",
     "output_type": "stream",
     "text": [
      "1990 is not a leap year\n"
     ]
    }
   ],
   "source": [
    "number = 2012\n",
    "## START CODE HERE\n",
    "if (number % 400 == 0) and (number % 100 == 0):\n",
    "    print(\"{0} is a leap year\".format(number))\n",
    "\n",
    "# not divided by 100 means not a century year\n",
    "# year divided by 4 is a leap year\n",
    "elif (number % 4 ==0) and (number % 100 != 0):\n",
    "    print(\"{0} is a leap year\".format(number))\n",
    "\n",
    "# if not divided by both 400 (century year) and 4 (not century year)\n",
    "# year is not leap year\n",
    "else:\n",
    "    print(\"{0} is not a leap year\".format(number))\n",
    "## END CODE HERE"
   ]
  },
  {
   "cell_type": "markdown",
   "metadata": {},
   "source": [
    "<table>\n",
    "  <tr>\n",
    "  <td>**Expected Output:**<td>\n",
    "    <td>2012 is a leap year</td>\n",
    "  </tr>\n",
    "</table>"
   ]
  },
  {
   "cell_type": "markdown",
   "metadata": {},
   "source": [
    "**Q.4 Find the largest among three numbers**\n",
    "\n",
    "eg. Consider a,b,c as the three numbers.\n",
    "\n",
    "`\n",
    "if a>b\n",
    "   if a>c\n",
    "      Display a is the largest number.\n",
    "   else\n",
    "      Display c is the largest number.\n",
    "else\n",
    "   if b>c\n",
    "      Display b is the largest number.\n",
    "   else\n",
    "      Display c is the greatest number.  \n",
    "`\n",
    "\n",
    "Now, you just have to convert it into a program in Python."
   ]
  },
  {
   "cell_type": "code",
   "execution_count": 6,
   "metadata": {
    "collapsed": true
   },
   "outputs": [
    {
     "name": "stdout",
     "output_type": "stream",
     "text": [
      "5 is the largest number\n"
     ]
    }
   ],
   "source": [
    "a = 3\n",
    "b = 5 \n",
    "c = 4\n",
    "\n",
    "## START CODE HERE\n",
    "if (a > b) and (a > c):\n",
    "   largest = a\n",
    "elif (b > c):\n",
    "   largest = b\n",
    "else:\n",
    "   largest = c\n",
    "\n",
    "print(largest,\"is the largest number\")\n",
    "\n",
    "        \n",
    "## END CODE HERE"
   ]
  },
  {
   "cell_type": "markdown",
   "metadata": {},
   "source": [
    "<table>\n",
    "  <tr>\n",
    "  <td>**Expected Output:**<td>\n",
    "    <td> 5 is the largest number</td>\n",
    "  </tr>\n",
    "</table>"
   ]
  },
  {
   "cell_type": "markdown",
   "metadata": {},
   "source": [
    "**Q.5 Display all the factors of a number**\n",
    "\n",
    "Factors of a number are the numbers which perfectly divide that number.\n",
    "<br> \n",
    "eg. Factors of 12 are 1,2,3,4,6,12.\n",
    ">1 × 12 = 12\n",
    "><br> 2  × 6  = 12\n",
    "><br> 3  × 4  = 12\n",
    "><br> 4  × 3  = 12\n",
    "><br> 6  × 2  = 12\n",
    "><br> 12 × 1  = 12"
   ]
  },
  {
   "cell_type": "code",
   "execution_count": 9,
   "metadata": {
    "collapsed": true
   },
   "outputs": [
    {
     "name": "stdout",
     "output_type": "stream",
     "text": [
      "The factors of 12 are:\n",
      "1\n",
      "2\n",
      "3\n",
      "4\n",
      "6\n",
      "12\n"
     ]
    }
   ],
   "source": [
    "given_number = 12\n",
    "## START CODE HERE\n",
    "def print_factors(x):\n",
    "   print(\"The factors of\",x,\"are:\")\n",
    "   for i in range(1, x + 1):\n",
    "       if x % i == 0:\n",
    "           print(i)\n",
    "\n",
    "\n",
    "print_factors(given_number)\n",
    "## END CODE HERE"
   ]
  },
  {
   "cell_type": "markdown",
   "metadata": {},
   "source": [
    "<table>\n",
    "  <tr>\n",
    "  <td>**Expected Output:**<td>\n",
    "    <td style=\"text-align:left\">Factors of 12 are :\n",
    "        <br>1 2 3 4 6 12 </td>\n",
    "  </tr>\n",
    "</table>"
   ]
  },
  {
   "cell_type": "markdown",
   "metadata": {},
   "source": [
    "**Q.6 Given a list containing tuples find the sum of elements in each tuple and print the resulting list.**\n",
    "<br> Create new list.\n",
    "<br> Use appropriate list method to add elements to the list."
   ]
  },
  {
   "cell_type": "code",
   "execution_count": 12,
   "metadata": {
    "collapsed": true
   },
   "outputs": [
    {
     "name": "stdout",
     "output_type": "stream",
     "text": [
      "[3, 7, 11]\n"
     ]
    }
   ],
   "source": [
    "given_list = [(1,2),(3,4),(5,6)]\n",
    "\n",
    "\n",
    "## START CODE HERE\n",
    "def test(lst):\n",
    "    result =  map(sum, lst)\n",
    "    return list(result)\n",
    "print(test(given_list))\n",
    "\n",
    "## END CODE HERE\n"
   ]
  },
  {
   "cell_type": "markdown",
   "metadata": {},
   "source": [
    "<table>\n",
    "  <tr>\n",
    "  <td>**Expected Output:**<td>\n",
    "    <td style=\"text-align:left\">[3, 7, 11]</td>\n",
    "  </tr>\n",
    "</table>"
   ]
  },
  {
   "cell_type": "markdown",
   "metadata": {},
   "source": [
    "**Q.7 Given the stocks of companies in the form a dictionary display the sum of the their stocks.**"
   ]
  },
  {
   "cell_type": "code",
   "execution_count": 7,
   "metadata": {
    "collapsed": true
   },
   "outputs": [
    {
     "name": "stdout",
     "output_type": "stream",
     "text": [
      "The sum of stocks is 277.88\n"
     ]
    }
   ],
   "source": [
    "stocks = {\n",
    "        'IBM': 213.23,\n",
    "        'MSFT':43.11,\n",
    "        'AMZN':21.54\n",
    "}\n",
    "\n",
    "## START CODE HERE\n",
    "\n",
    "def returnSum(stocks):\n",
    "     \n",
    "     sum = 0\n",
    "     for i in stocks.values():\n",
    "           sum = sum + i\n",
    "      \n",
    "     return sum\n",
    " \n",
    "# Driver Function\n",
    "print(\"The sum of stocks is\", returnSum(stocks))\n",
    "## END CODE HERE"
   ]
  },
  {
   "cell_type": "markdown",
   "metadata": {},
   "source": [
    "<table>\n",
    "  <tr>\n",
    "  <td>**Expected Output:**<td>\n",
    "    <td style=\"text-align:left\">The sum of stocks is 277.880000 </td>\n",
    "  </tr>\n",
    "</table>"
   ]
  },
  {
   "cell_type": "markdown",
   "metadata": {},
   "source": [
    "**Q.8 Given an integer find the number of digits in that integer.**\n",
    "<br>eg. 342 has 3 digits, thus output has to be 3.\n",
    "<br> Hint: \n",
    "        1. 342//10 = 34\n",
    "        2. 34//10  = 3\n",
    "        3. 3//10   = 0\n",
    "        \n",
    "Catch the hint, find out the terminating condition, your problem is solved."
   ]
  },
  {
   "cell_type": "code",
   "execution_count": 16,
   "metadata": {
    "collapsed": true
   },
   "outputs": [
    {
     "name": "stdout",
     "output_type": "stream",
     "text": [
      "Number of digits in  3421 4\n"
     ]
    }
   ],
   "source": [
    "given_number = 3421\n",
    "\n",
    "## START CODE HERE\n",
    "def count_digits(n):\n",
    "    n = str(n)\n",
    "    return len(n)\n",
    " \n",
    " \n",
    "# Driver code\n",
    "n = given_number\n",
    "print('Number of digits in ',given_number,count_digits(n))\n",
    "## END CODE HERE"
   ]
  },
  {
   "cell_type": "markdown",
   "metadata": {},
   "source": [
    "<table>\n",
    "  <tr>\n",
    "  <td>**Expected Output:**<td>\n",
    "    <td style=\"text-align:left\">Number of digits in 3421 is 4</td>\n",
    "  </tr>\n",
    "</table>"
   ]
  },
  {
   "cell_type": "markdown",
   "metadata": {},
   "source": [
    "**Q.9 Write a program to find reverse of a number entered by the user (Use short-hand operators and don't use any built-in functions)** <br>\n",
    "\n",
    "Algorithm:\n",
    "\n",
    "Input:  num<br>\n",
    "(1) Initialize rev_num = 0<br>\n",
    "(2) Loop while num > 0 <br>\n",
    "     <span style=\"display:inline-block; width: 45px;\"></span>(a) Multiply rev_num by 10 and add remainder of num<br>\n",
    "     <span style=\"display:inline-block; width: 45px;\"></span>divide by 10 to rev_num<br>\n",
    "     <span style=\"display:inline-block; width: 45px;\"></span><span style=\"display:inline-block; width: 45px;\"></span>          rev_num = rev_num*10 + num%10;<br>\n",
    "     <span style=\"display:inline-block; width: 45px;\"></span>(b) Divide num by 10<br>\n",
    "(3) Return rev_num"
   ]
  },
  {
   "cell_type": "code",
   "execution_count": 8,
   "metadata": {
    "collapsed": true
   },
   "outputs": [
    {
     "name": "stdout",
     "output_type": "stream",
     "text": [
      "Reverse of entered number is: 2134\n"
     ]
    }
   ],
   "source": [
    "given_number = 4312\n",
    "\n",
    "## START CODE HERE\n",
    "n = int(given_number)\n",
    "rev_num = 0\n",
    "while(n > 0):\n",
    "    dig = n % 10\n",
    "    rev_num = rev_num * 10 +dig\n",
    "    n = n // 10\n",
    "print(\"Reverse of entered number is:\",rev_num)\n",
    "\n",
    "## END CODE HERE"
   ]
  },
  {
   "cell_type": "markdown",
   "metadata": {},
   "source": [
    "<table>\n",
    "  <tr>\n",
    "  <td>**Expected Output:**<td>\n",
    "    <td style=\"text-align:left\">Reverse of entered number is 2134</td>\n",
    "  </tr>\n",
    "</table>"
   ]
  },
  {
   "cell_type": "markdown",
   "metadata": {},
   "source": [
    "**Q.10 Check if a given number is prime or not.**\n",
    "<br> From 2 to that given number/2 if any number divided given number, the given number is not prime.\n",
    "<br> Make use of flag. Before the loop set flag = 0 and just before breaking the loop set flag = 1 that's how you will know that the loop was terminated by break statement. \n",
    "<br> Always remember that a number will always be divisible by 1 and itself."
   ]
  },
  {
   "cell_type": "code",
   "execution_count": 1,
   "metadata": {
    "collapsed": true
   },
   "outputs": [
    {
     "name": "stdout",
     "output_type": "stream",
     "text": [
      "23 is a prime number\n"
     ]
    }
   ],
   "source": [
    "given_number = 23\n",
    "\n",
    "## START CODE HERE\n",
    "# define a flag variable\n",
    "flag = 0\n",
    "\n",
    "# prime numbers are greater than 1\n",
    "if given_number > 1:\n",
    "\n",
    "    for i in range(2, given_number):\n",
    "        if (given_number % i) == 0:\n",
    "            flag = 1\n",
    "            # break out of loop\n",
    "            break\n",
    "\n",
    "# check if flag is True\n",
    "if flag:\n",
    "    print(given_number, \"is not a prime number\")\n",
    "else:\n",
    "    print(given_number, \"is a prime number\")\n",
    "    \n",
    "## END CODE HERE"
   ]
  },
  {
   "cell_type": "markdown",
   "metadata": {},
   "source": [
    "<table>\n",
    "  <tr>\n",
    "  <td>**Expected Output:**<td>\n",
    "    <td style=\"text-align:left\">23 is prime number</td>\n",
    "  </tr>\n",
    "</table>"
   ]
  },
  {
   "cell_type": "markdown",
   "metadata": {},
   "source": [
    "**Q.11 Find the average of the elements in a given list and then print only those elements in the list whose value is greater than average**"
   ]
  },
  {
   "cell_type": "code",
   "execution_count": 11,
   "metadata": {
    "collapsed": true
   },
   "outputs": [
    {
     "name": "stdout",
     "output_type": "stream",
     "text": [
      "Average is : 4.55 . Number greater than average are: [5, 6, 9]\n"
     ]
    }
   ],
   "source": [
    "given_list = [ 2.3,5,6,1,4,9]\n",
    "\n",
    "## START CODE HERE\n",
    "outputlist = [] #This is the list which you can add correct values to\n",
    "\n",
    "x = sum(given_list) / len(given_list)\n",
    "\n",
    "for item in given_list: #Checks which items are greater than average\n",
    "    if item > x:\n",
    "        outputlist.append(item) #If greater, add to the final list\n",
    "\n",
    "\n",
    "print('Average is :',x,'.','Number greater than average are:',outputlist)\n",
    "\n",
    "    \n",
    "## END CODE HERE"
   ]
  },
  {
   "cell_type": "markdown",
   "metadata": {},
   "source": [
    "<table>\n",
    "  <tr>\n",
    "  <td>**Expected Output:**<td>\n",
    "    <td style=\"text-align:left\">Average is 4.550000\n",
    "<br>Numbers greater than average are : \n",
    "<br>5 6 9 </td>\n",
    "  </tr>\n",
    "</table>"
   ]
  },
  {
   "cell_type": "markdown",
   "metadata": {},
   "source": [
    "# Thank You"
   ]
  },
  {
   "cell_type": "code",
   "execution_count": null,
   "metadata": {},
   "outputs": [],
   "source": []
  }
 ],
 "metadata": {
  "interpreter": {
   "hash": "40d3a090f54c6569ab1632332b64b2c03c39dcf918b08424e98f38b5ae0af88f"
  },
  "kernelspec": {
   "display_name": "Python 3.8.8 ('base')",
   "language": "python",
   "name": "python3"
  },
  "language_info": {
   "codemirror_mode": {
    "name": "ipython",
    "version": 3
   },
   "file_extension": ".py",
   "mimetype": "text/x-python",
   "name": "python",
   "nbconvert_exporter": "python",
   "pygments_lexer": "ipython3",
   "version": "3.8.8"
  }
 },
 "nbformat": 4,
 "nbformat_minor": 2
}
